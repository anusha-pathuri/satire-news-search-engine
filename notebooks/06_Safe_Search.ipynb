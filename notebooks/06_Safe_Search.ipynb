{
 "cells": [
  {
   "cell_type": "code",
   "execution_count": 1,
   "metadata": {},
   "outputs": [],
   "source": [
    "%reload_ext autoreload\n",
    "%autoreload 2\n",
    "import os\n",
    "import sys\n",
    "sys.path.append('..')\n",
    "import warnings\n",
    "warnings.filterwarnings('ignore')\n",
    "\n",
    "import pandas as pd\n",
    "import numpy as np\n",
    "import matplotlib.pyplot as plt\n",
    "import seaborn as sns\n",
    "from functools import partial"
   ]
  },
  {
   "cell_type": "code",
   "execution_count": 2,
   "metadata": {},
   "outputs": [
    {
     "data": {
      "text/plain": [
       "device(type='cuda')"
      ]
     },
     "execution_count": 2,
     "metadata": {},
     "output_type": "execute_result"
    }
   ],
   "source": [
    "import torch\n",
    "device = torch.device('cuda' if torch.cuda.is_available() else 'cpu')\n",
    "device"
   ]
  },
  {
   "cell_type": "code",
   "execution_count": 3,
   "metadata": {},
   "outputs": [],
   "source": [
    "from transformers import AutoTokenizer, AutoModelForSequenceClassification"
   ]
  },
  {
   "cell_type": "code",
   "execution_count": 25,
   "metadata": {},
   "outputs": [],
   "source": [
    "from time import perf_counter\n",
    "\n",
    "def format_time(seconds: float) -> str:\n",
    "    \"\"\"Convert seconds to MM:SS.\"\"\"\n",
    "    minutes, seconds = divmod(int(seconds), 60)\n",
    "    return f\"{int(minutes):02d}:{int(seconds):02d}\""
   ]
  },
  {
   "cell_type": "markdown",
   "metadata": {},
   "source": [
    "# Dataset\n",
    "\n",
    "First created in `01_Data_Aggregation.ipynb`. Deduplicated version generated in `03_Relevance_Dataset_Generation.ipynb`."
   ]
  },
  {
   "cell_type": "code",
   "execution_count": 4,
   "metadata": {},
   "outputs": [
    {
     "data": {
      "text/plain": [
       "35292"
      ]
     },
     "execution_count": 4,
     "metadata": {},
     "output_type": "execute_result"
    }
   ],
   "source": [
    "df = pd.read_csv('../data/processed_articles_dedup.csv')\n",
    "len(df)"
   ]
  },
  {
   "cell_type": "code",
   "execution_count": 5,
   "metadata": {},
   "outputs": [
    {
     "data": {
      "text/html": [
       "<div>\n",
       "<style scoped>\n",
       "    .dataframe tbody tr th:only-of-type {\n",
       "        vertical-align: middle;\n",
       "    }\n",
       "\n",
       "    .dataframe tbody tr th {\n",
       "        vertical-align: top;\n",
       "    }\n",
       "\n",
       "    .dataframe thead th {\n",
       "        text-align: right;\n",
       "    }\n",
       "</style>\n",
       "<table border=\"1\" class=\"dataframe\">\n",
       "  <thead>\n",
       "    <tr style=\"text-align: right;\">\n",
       "      <th></th>\n",
       "      <th>docid</th>\n",
       "      <th>headline</th>\n",
       "      <th>body</th>\n",
       "      <th>website</th>\n",
       "    </tr>\n",
       "  </thead>\n",
       "  <tbody>\n",
       "    <tr>\n",
       "      <th>0</th>\n",
       "      <td>64471158</td>\n",
       "      <td>Relaxed Marie Kondo Now Says She Perfectly Hap...</td>\n",
       "      <td>LOS ANGELES—Admitting that she'd made some maj...</td>\n",
       "      <td>The Onion</td>\n",
       "    </tr>\n",
       "    <tr>\n",
       "      <th>1</th>\n",
       "      <td>84486776</td>\n",
       "      <td>U.S. Officials Call For Correct Amount Of Viol...</td>\n",
       "      <td>WASHINGTON—Addressing the need for swift and m...</td>\n",
       "      <td>The Onion</td>\n",
       "    </tr>\n",
       "    <tr>\n",
       "      <th>2</th>\n",
       "      <td>36589089</td>\n",
       "      <td>Kamala Harris Asks Communications Assistant If...</td>\n",
       "      <td>WASHINGTON—In an effort to expand her professi...</td>\n",
       "      <td>The Onion</td>\n",
       "    </tr>\n",
       "    <tr>\n",
       "      <th>3</th>\n",
       "      <td>15387752</td>\n",
       "      <td>25 Arrested In Fake Nursing School Diploma Scheme</td>\n",
       "      <td>Federal agents have arrested 25 suspects accus...</td>\n",
       "      <td>The Onion</td>\n",
       "    </tr>\n",
       "    <tr>\n",
       "      <th>4</th>\n",
       "      <td>41114025</td>\n",
       "      <td>World's Oldest American Dies At 72</td>\n",
       "      <td>OXNARD, CA—Living longer than any citizen in t...</td>\n",
       "      <td>The Onion</td>\n",
       "    </tr>\n",
       "  </tbody>\n",
       "</table>\n",
       "</div>"
      ],
      "text/plain": [
       "      docid                                           headline  \\\n",
       "0  64471158  Relaxed Marie Kondo Now Says She Perfectly Hap...   \n",
       "1  84486776  U.S. Officials Call For Correct Amount Of Viol...   \n",
       "2  36589089  Kamala Harris Asks Communications Assistant If...   \n",
       "3  15387752  25 Arrested In Fake Nursing School Diploma Scheme   \n",
       "4  41114025                 World's Oldest American Dies At 72   \n",
       "\n",
       "                                                body    website  \n",
       "0  LOS ANGELES—Admitting that she'd made some maj...  The Onion  \n",
       "1  WASHINGTON—Addressing the need for swift and m...  The Onion  \n",
       "2  WASHINGTON—In an effort to expand her professi...  The Onion  \n",
       "3  Federal agents have arrested 25 suspects accus...  The Onion  \n",
       "4  OXNARD, CA—Living longer than any citizen in t...  The Onion  "
      ]
     },
     "execution_count": 5,
     "metadata": {},
     "output_type": "execute_result"
    }
   ],
   "source": [
    "df.head()"
   ]
  },
  {
   "cell_type": "markdown",
   "metadata": {},
   "source": [
    "# Helper function"
   ]
  },
  {
   "cell_type": "code",
   "execution_count": 6,
   "metadata": {},
   "outputs": [],
   "source": [
    "def predict_nsfw(text, tokenizer, model, device=device):\n",
    "    inputs = tokenizer(text, return_tensors=\"pt\", padding=True, truncation=True).to(device)\n",
    "    model.to(device)\n",
    "    outputs = model(**inputs)\n",
    "    probs = torch.nn.functional.softmax(outputs.logits, dim=-1)\n",
    "    return probs.detach().cpu().numpy().squeeze()[1]  # select the +ve class only"
   ]
  },
  {
   "cell_type": "markdown",
   "metadata": {},
   "source": [
    "# Sample some data"
   ]
  },
  {
   "cell_type": "code",
   "execution_count": 7,
   "metadata": {},
   "outputs": [
    {
     "data": {
      "text/plain": [
       "54"
      ]
     },
     "execution_count": 7,
     "metadata": {},
     "output_type": "execute_result"
    }
   ],
   "source": [
    "nsfw_words = ['slut', 'dildo', 'ejaculate']              \n",
    "nsfw_df = df[df['body'].str.contains('|'.join(nsfw_words), case=False)]\n",
    "len(nsfw_df)"
   ]
  },
  {
   "cell_type": "code",
   "execution_count": 8,
   "metadata": {},
   "outputs": [],
   "source": [
    "# for r in nsfw_df.itertuples():\n",
    "#     print(r.docid)\n",
    "#     print(r.headline)\n",
    "#     print(r.body)\n",
    "#     print()"
   ]
  },
  {
   "cell_type": "code",
   "execution_count": 9,
   "metadata": {},
   "outputs": [
    {
     "data": {
      "text/html": [
       "<div>\n",
       "<style scoped>\n",
       "    .dataframe tbody tr th:only-of-type {\n",
       "        vertical-align: middle;\n",
       "    }\n",
       "\n",
       "    .dataframe tbody tr th {\n",
       "        vertical-align: top;\n",
       "    }\n",
       "\n",
       "    .dataframe thead th {\n",
       "        text-align: right;\n",
       "    }\n",
       "</style>\n",
       "<table border=\"1\" class=\"dataframe\">\n",
       "  <thead>\n",
       "    <tr style=\"text-align: right;\">\n",
       "      <th></th>\n",
       "      <th>docid</th>\n",
       "      <th>headline</th>\n",
       "    </tr>\n",
       "  </thead>\n",
       "  <tbody>\n",
       "    <tr>\n",
       "      <th>584</th>\n",
       "      <td>85171352</td>\n",
       "      <td>Grandmother Claims She Was Quite The Cum Dumps...</td>\n",
       "    </tr>\n",
       "    <tr>\n",
       "      <th>21378</th>\n",
       "      <td>86786308</td>\n",
       "      <td>Man Recalls Simpler Time When He Only Masturba...</td>\n",
       "    </tr>\n",
       "    <tr>\n",
       "      <th>22755</th>\n",
       "      <td>21808507</td>\n",
       "      <td>Ryan Chugs Down Rhino Horn And Bull Semen Shak...</td>\n",
       "    </tr>\n",
       "    <tr>\n",
       "      <th>26716</th>\n",
       "      <td>64333573</td>\n",
       "      <td>Sean O'Hair Gains Revenge By Angrily Masturbat...</td>\n",
       "    </tr>\n",
       "    <tr>\n",
       "      <th>29936</th>\n",
       "      <td>56841622</td>\n",
       "      <td>Loss Of Virginity More Humiliating Than Origin...</td>\n",
       "    </tr>\n",
       "    <tr>\n",
       "      <th>34081</th>\n",
       "      <td>91608148</td>\n",
       "      <td>'hot 'n' nasty butt cum chixx' to appear as 'c...</td>\n",
       "    </tr>\n",
       "    <tr>\n",
       "      <th>34486</th>\n",
       "      <td>70199327</td>\n",
       "      <td>We Asked 6 Porn Stars About Their Most Memorab...</td>\n",
       "    </tr>\n",
       "  </tbody>\n",
       "</table>\n",
       "</div>"
      ],
      "text/plain": [
       "          docid                                           headline\n",
       "584    85171352  Grandmother Claims She Was Quite The Cum Dumps...\n",
       "21378  86786308  Man Recalls Simpler Time When He Only Masturba...\n",
       "22755  21808507  Ryan Chugs Down Rhino Horn And Bull Semen Shak...\n",
       "26716  64333573  Sean O'Hair Gains Revenge By Angrily Masturbat...\n",
       "29936  56841622  Loss Of Virginity More Humiliating Than Origin...\n",
       "34081  91608148  'hot 'n' nasty butt cum chixx' to appear as 'c...\n",
       "34486  70199327  We Asked 6 Porn Stars About Their Most Memorab..."
      ]
     },
     "execution_count": 9,
     "metadata": {},
     "output_type": "execute_result"
    }
   ],
   "source": [
    "nsfw_examples = df[df.docid.isin([85171352, 70199327, 91608148, 56841622, 64333573, 21808507, 86786308])]\n",
    "nsfw_examples[[\"docid\", \"headline\"]]"
   ]
  },
  {
   "cell_type": "code",
   "execution_count": 10,
   "metadata": {},
   "outputs": [],
   "source": [
    "# df.sample(5)"
   ]
  },
  {
   "cell_type": "code",
   "execution_count": 11,
   "metadata": {},
   "outputs": [
    {
     "data": {
      "text/html": [
       "<div>\n",
       "<style scoped>\n",
       "    .dataframe tbody tr th:only-of-type {\n",
       "        vertical-align: middle;\n",
       "    }\n",
       "\n",
       "    .dataframe tbody tr th {\n",
       "        vertical-align: top;\n",
       "    }\n",
       "\n",
       "    .dataframe thead th {\n",
       "        text-align: right;\n",
       "    }\n",
       "</style>\n",
       "<table border=\"1\" class=\"dataframe\">\n",
       "  <thead>\n",
       "    <tr style=\"text-align: right;\">\n",
       "      <th></th>\n",
       "      <th>docid</th>\n",
       "      <th>headline</th>\n",
       "    </tr>\n",
       "  </thead>\n",
       "  <tbody>\n",
       "    <tr>\n",
       "      <th>0</th>\n",
       "      <td>64471158</td>\n",
       "      <td>Relaxed Marie Kondo Now Says She Perfectly Hap...</td>\n",
       "    </tr>\n",
       "    <tr>\n",
       "      <th>2665</th>\n",
       "      <td>66510158</td>\n",
       "      <td>God Reveals Frogs' Mouths Designed Specificall...</td>\n",
       "    </tr>\n",
       "    <tr>\n",
       "      <th>13465</th>\n",
       "      <td>33924507</td>\n",
       "      <td>Posture Could Dictate Success In Online Dating</td>\n",
       "    </tr>\n",
       "    <tr>\n",
       "      <th>18431</th>\n",
       "      <td>98163715</td>\n",
       "      <td>Family Avoiding Eye Contact With Dad After Ste...</td>\n",
       "    </tr>\n",
       "    <tr>\n",
       "      <th>23575</th>\n",
       "      <td>82535365</td>\n",
       "      <td>Intel Ships Flawed Chip</td>\n",
       "    </tr>\n",
       "    <tr>\n",
       "      <th>31723</th>\n",
       "      <td>96362761</td>\n",
       "      <td>Adult-Entertainment Industry Donates $100,000 ...</td>\n",
       "    </tr>\n",
       "    <tr>\n",
       "      <th>32936</th>\n",
       "      <td>16557897</td>\n",
       "      <td>Perhaps I've Been A Little Too Tough On Crime</td>\n",
       "    </tr>\n",
       "  </tbody>\n",
       "</table>\n",
       "</div>"
      ],
      "text/plain": [
       "          docid                                           headline\n",
       "0      64471158  Relaxed Marie Kondo Now Says She Perfectly Hap...\n",
       "2665   66510158  God Reveals Frogs' Mouths Designed Specificall...\n",
       "13465  33924507     Posture Could Dictate Success In Online Dating\n",
       "18431  98163715  Family Avoiding Eye Contact With Dad After Ste...\n",
       "23575  82535365                            Intel Ships Flawed Chip\n",
       "31723  96362761  Adult-Entertainment Industry Donates $100,000 ...\n",
       "32936  16557897      Perhaps I've Been A Little Too Tough On Crime"
      ]
     },
     "execution_count": 11,
     "metadata": {},
     "output_type": "execute_result"
    }
   ],
   "source": [
    "sfw_examples = df[df.docid.isin([64471158, 82535365, 16557897, 66510158, 98163715, 96362761, 33924507])]\n",
    "sfw_examples[[\"docid\", \"headline\"]]"
   ]
  },
  {
   "cell_type": "markdown",
   "metadata": {},
   "source": [
    "# 1. eliasalbouzidi/distilbert-nsfw-text-classifier"
   ]
  },
  {
   "cell_type": "code",
   "execution_count": 12,
   "metadata": {},
   "outputs": [],
   "source": [
    "tokenizer = AutoTokenizer.from_pretrained(\"eliasalbouzidi/distilbert-nsfw-text-classifier\", max_length=512)\n",
    "model = AutoModelForSequenceClassification.from_pretrained(\"eliasalbouzidi/distilbert-nsfw-text-classifier\")"
   ]
  },
  {
   "cell_type": "code",
   "execution_count": 13,
   "metadata": {},
   "outputs": [],
   "source": [
    "predict_nsfw_1 = partial(predict_nsfw, tokenizer=tokenizer, model=model)"
   ]
  },
  {
   "cell_type": "markdown",
   "metadata": {},
   "source": [
    "NSFW:"
   ]
  },
  {
   "cell_type": "code",
   "execution_count": 14,
   "metadata": {},
   "outputs": [
    {
     "data": {
      "text/html": [
       "<div>\n",
       "<style scoped>\n",
       "    .dataframe tbody tr th:only-of-type {\n",
       "        vertical-align: middle;\n",
       "    }\n",
       "\n",
       "    .dataframe tbody tr th {\n",
       "        vertical-align: top;\n",
       "    }\n",
       "\n",
       "    .dataframe thead th {\n",
       "        text-align: right;\n",
       "    }\n",
       "</style>\n",
       "<table border=\"1\" class=\"dataframe\">\n",
       "  <thead>\n",
       "    <tr style=\"text-align: right;\">\n",
       "      <th></th>\n",
       "      <th>docid</th>\n",
       "      <th>headline</th>\n",
       "      <th>nsfw</th>\n",
       "    </tr>\n",
       "  </thead>\n",
       "  <tbody>\n",
       "    <tr>\n",
       "      <th>584</th>\n",
       "      <td>85171352</td>\n",
       "      <td>Grandmother Claims She Was Quite The Cum Dumps...</td>\n",
       "      <td>0.876170</td>\n",
       "    </tr>\n",
       "    <tr>\n",
       "      <th>21378</th>\n",
       "      <td>86786308</td>\n",
       "      <td>Man Recalls Simpler Time When He Only Masturba...</td>\n",
       "      <td>0.009617</td>\n",
       "    </tr>\n",
       "    <tr>\n",
       "      <th>22755</th>\n",
       "      <td>21808507</td>\n",
       "      <td>Ryan Chugs Down Rhino Horn And Bull Semen Shak...</td>\n",
       "      <td>0.001231</td>\n",
       "    </tr>\n",
       "    <tr>\n",
       "      <th>26716</th>\n",
       "      <td>64333573</td>\n",
       "      <td>Sean O'Hair Gains Revenge By Angrily Masturbat...</td>\n",
       "      <td>0.933693</td>\n",
       "    </tr>\n",
       "    <tr>\n",
       "      <th>29936</th>\n",
       "      <td>56841622</td>\n",
       "      <td>Loss Of Virginity More Humiliating Than Origin...</td>\n",
       "      <td>0.914380</td>\n",
       "    </tr>\n",
       "    <tr>\n",
       "      <th>34081</th>\n",
       "      <td>91608148</td>\n",
       "      <td>'hot 'n' nasty butt cum chixx' to appear as 'c...</td>\n",
       "      <td>0.019548</td>\n",
       "    </tr>\n",
       "    <tr>\n",
       "      <th>34486</th>\n",
       "      <td>70199327</td>\n",
       "      <td>We Asked 6 Porn Stars About Their Most Memorab...</td>\n",
       "      <td>0.854760</td>\n",
       "    </tr>\n",
       "  </tbody>\n",
       "</table>\n",
       "</div>"
      ],
      "text/plain": [
       "          docid                                           headline      nsfw\n",
       "584    85171352  Grandmother Claims She Was Quite The Cum Dumps...  0.876170\n",
       "21378  86786308  Man Recalls Simpler Time When He Only Masturba...  0.009617\n",
       "22755  21808507  Ryan Chugs Down Rhino Horn And Bull Semen Shak...  0.001231\n",
       "26716  64333573  Sean O'Hair Gains Revenge By Angrily Masturbat...  0.933693\n",
       "29936  56841622  Loss Of Virginity More Humiliating Than Origin...  0.914380\n",
       "34081  91608148  'hot 'n' nasty butt cum chixx' to appear as 'c...  0.019548\n",
       "34486  70199327  We Asked 6 Porn Stars About Their Most Memorab...  0.854760"
      ]
     },
     "execution_count": 14,
     "metadata": {},
     "output_type": "execute_result"
    }
   ],
   "source": [
    "nsfw_1 = nsfw_examples.body.map(predict_nsfw_1)\n",
    "nsfw_examples[[\"docid\", \"headline\"]].assign(nsfw=nsfw_1)"
   ]
  },
  {
   "cell_type": "markdown",
   "metadata": {},
   "source": [
    "- Some false negatives (docids 86786308, 21808507, 91608148 not detected)"
   ]
  },
  {
   "cell_type": "markdown",
   "metadata": {},
   "source": [
    "SFW:"
   ]
  },
  {
   "cell_type": "code",
   "execution_count": 15,
   "metadata": {},
   "outputs": [
    {
     "data": {
      "text/html": [
       "<div>\n",
       "<style scoped>\n",
       "    .dataframe tbody tr th:only-of-type {\n",
       "        vertical-align: middle;\n",
       "    }\n",
       "\n",
       "    .dataframe tbody tr th {\n",
       "        vertical-align: top;\n",
       "    }\n",
       "\n",
       "    .dataframe thead th {\n",
       "        text-align: right;\n",
       "    }\n",
       "</style>\n",
       "<table border=\"1\" class=\"dataframe\">\n",
       "  <thead>\n",
       "    <tr style=\"text-align: right;\">\n",
       "      <th></th>\n",
       "      <th>docid</th>\n",
       "      <th>headline</th>\n",
       "      <th>nsfw</th>\n",
       "    </tr>\n",
       "  </thead>\n",
       "  <tbody>\n",
       "    <tr>\n",
       "      <th>0</th>\n",
       "      <td>64471158</td>\n",
       "      <td>Relaxed Marie Kondo Now Says She Perfectly Hap...</td>\n",
       "      <td>0.005760</td>\n",
       "    </tr>\n",
       "    <tr>\n",
       "      <th>2665</th>\n",
       "      <td>66510158</td>\n",
       "      <td>God Reveals Frogs' Mouths Designed Specificall...</td>\n",
       "      <td>0.051295</td>\n",
       "    </tr>\n",
       "    <tr>\n",
       "      <th>13465</th>\n",
       "      <td>33924507</td>\n",
       "      <td>Posture Could Dictate Success In Online Dating</td>\n",
       "      <td>0.001834</td>\n",
       "    </tr>\n",
       "    <tr>\n",
       "      <th>18431</th>\n",
       "      <td>98163715</td>\n",
       "      <td>Family Avoiding Eye Contact With Dad After Ste...</td>\n",
       "      <td>0.003717</td>\n",
       "    </tr>\n",
       "    <tr>\n",
       "      <th>23575</th>\n",
       "      <td>82535365</td>\n",
       "      <td>Intel Ships Flawed Chip</td>\n",
       "      <td>0.001087</td>\n",
       "    </tr>\n",
       "    <tr>\n",
       "      <th>31723</th>\n",
       "      <td>96362761</td>\n",
       "      <td>Adult-Entertainment Industry Donates $100,000 ...</td>\n",
       "      <td>0.017852</td>\n",
       "    </tr>\n",
       "    <tr>\n",
       "      <th>32936</th>\n",
       "      <td>16557897</td>\n",
       "      <td>Perhaps I've Been A Little Too Tough On Crime</td>\n",
       "      <td>0.001173</td>\n",
       "    </tr>\n",
       "  </tbody>\n",
       "</table>\n",
       "</div>"
      ],
      "text/plain": [
       "          docid                                           headline      nsfw\n",
       "0      64471158  Relaxed Marie Kondo Now Says She Perfectly Hap...  0.005760\n",
       "2665   66510158  God Reveals Frogs' Mouths Designed Specificall...  0.051295\n",
       "13465  33924507     Posture Could Dictate Success In Online Dating  0.001834\n",
       "18431  98163715  Family Avoiding Eye Contact With Dad After Ste...  0.003717\n",
       "23575  82535365                            Intel Ships Flawed Chip  0.001087\n",
       "31723  96362761  Adult-Entertainment Industry Donates $100,000 ...  0.017852\n",
       "32936  16557897      Perhaps I've Been A Little Too Tough On Crime  0.001173"
      ]
     },
     "execution_count": 15,
     "metadata": {},
     "output_type": "execute_result"
    }
   ],
   "source": [
    "sfw_1 = sfw_examples.body.map(predict_nsfw_1)\n",
    "sfw_examples[[\"docid\", \"headline\"]].assign(nsfw=sfw_1)"
   ]
  },
  {
   "cell_type": "markdown",
   "metadata": {},
   "source": [
    "- No false positives"
   ]
  },
  {
   "cell_type": "markdown",
   "metadata": {},
   "source": [
    "# 2. michellejieli/NSFW_text_classifier"
   ]
  },
  {
   "cell_type": "code",
   "execution_count": 16,
   "metadata": {},
   "outputs": [],
   "source": [
    "tokenizer = AutoTokenizer.from_pretrained(\"michellejieli/NSFW_text_classifier\")\n",
    "model = AutoModelForSequenceClassification.from_pretrained(\"michellejieli/NSFW_text_classifier\")"
   ]
  },
  {
   "cell_type": "code",
   "execution_count": 17,
   "metadata": {},
   "outputs": [],
   "source": [
    "predict_nsfw_2 = partial(predict_nsfw, tokenizer=tokenizer, model=model)"
   ]
  },
  {
   "cell_type": "markdown",
   "metadata": {},
   "source": [
    "NSFW:"
   ]
  },
  {
   "cell_type": "code",
   "execution_count": 18,
   "metadata": {},
   "outputs": [
    {
     "data": {
      "text/html": [
       "<div>\n",
       "<style scoped>\n",
       "    .dataframe tbody tr th:only-of-type {\n",
       "        vertical-align: middle;\n",
       "    }\n",
       "\n",
       "    .dataframe tbody tr th {\n",
       "        vertical-align: top;\n",
       "    }\n",
       "\n",
       "    .dataframe thead th {\n",
       "        text-align: right;\n",
       "    }\n",
       "</style>\n",
       "<table border=\"1\" class=\"dataframe\">\n",
       "  <thead>\n",
       "    <tr style=\"text-align: right;\">\n",
       "      <th></th>\n",
       "      <th>docid</th>\n",
       "      <th>headline</th>\n",
       "      <th>nsfw</th>\n",
       "    </tr>\n",
       "  </thead>\n",
       "  <tbody>\n",
       "    <tr>\n",
       "      <th>584</th>\n",
       "      <td>85171352</td>\n",
       "      <td>Grandmother Claims She Was Quite The Cum Dumps...</td>\n",
       "      <td>0.940273</td>\n",
       "    </tr>\n",
       "    <tr>\n",
       "      <th>21378</th>\n",
       "      <td>86786308</td>\n",
       "      <td>Man Recalls Simpler Time When He Only Masturba...</td>\n",
       "      <td>0.935523</td>\n",
       "    </tr>\n",
       "    <tr>\n",
       "      <th>22755</th>\n",
       "      <td>21808507</td>\n",
       "      <td>Ryan Chugs Down Rhino Horn And Bull Semen Shak...</td>\n",
       "      <td>0.959215</td>\n",
       "    </tr>\n",
       "    <tr>\n",
       "      <th>26716</th>\n",
       "      <td>64333573</td>\n",
       "      <td>Sean O'Hair Gains Revenge By Angrily Masturbat...</td>\n",
       "      <td>0.964122</td>\n",
       "    </tr>\n",
       "    <tr>\n",
       "      <th>29936</th>\n",
       "      <td>56841622</td>\n",
       "      <td>Loss Of Virginity More Humiliating Than Origin...</td>\n",
       "      <td>0.952111</td>\n",
       "    </tr>\n",
       "    <tr>\n",
       "      <th>34081</th>\n",
       "      <td>91608148</td>\n",
       "      <td>'hot 'n' nasty butt cum chixx' to appear as 'c...</td>\n",
       "      <td>0.962567</td>\n",
       "    </tr>\n",
       "    <tr>\n",
       "      <th>34486</th>\n",
       "      <td>70199327</td>\n",
       "      <td>We Asked 6 Porn Stars About Their Most Memorab...</td>\n",
       "      <td>0.945642</td>\n",
       "    </tr>\n",
       "  </tbody>\n",
       "</table>\n",
       "</div>"
      ],
      "text/plain": [
       "          docid                                           headline      nsfw\n",
       "584    85171352  Grandmother Claims She Was Quite The Cum Dumps...  0.940273\n",
       "21378  86786308  Man Recalls Simpler Time When He Only Masturba...  0.935523\n",
       "22755  21808507  Ryan Chugs Down Rhino Horn And Bull Semen Shak...  0.959215\n",
       "26716  64333573  Sean O'Hair Gains Revenge By Angrily Masturbat...  0.964122\n",
       "29936  56841622  Loss Of Virginity More Humiliating Than Origin...  0.952111\n",
       "34081  91608148  'hot 'n' nasty butt cum chixx' to appear as 'c...  0.962567\n",
       "34486  70199327  We Asked 6 Porn Stars About Their Most Memorab...  0.945642"
      ]
     },
     "execution_count": 18,
     "metadata": {},
     "output_type": "execute_result"
    }
   ],
   "source": [
    "nsfw_2 = nsfw_examples.body.map(predict_nsfw_2)\n",
    "nsfw_examples[[\"docid\", \"headline\"]].assign(nsfw=nsfw_2)"
   ]
  },
  {
   "cell_type": "markdown",
   "metadata": {},
   "source": [
    "- Detects all with high confidence"
   ]
  },
  {
   "cell_type": "markdown",
   "metadata": {},
   "source": [
    "SFW:"
   ]
  },
  {
   "cell_type": "code",
   "execution_count": 19,
   "metadata": {},
   "outputs": [
    {
     "data": {
      "text/html": [
       "<div>\n",
       "<style scoped>\n",
       "    .dataframe tbody tr th:only-of-type {\n",
       "        vertical-align: middle;\n",
       "    }\n",
       "\n",
       "    .dataframe tbody tr th {\n",
       "        vertical-align: top;\n",
       "    }\n",
       "\n",
       "    .dataframe thead th {\n",
       "        text-align: right;\n",
       "    }\n",
       "</style>\n",
       "<table border=\"1\" class=\"dataframe\">\n",
       "  <thead>\n",
       "    <tr style=\"text-align: right;\">\n",
       "      <th></th>\n",
       "      <th>docid</th>\n",
       "      <th>headline</th>\n",
       "      <th>nsfw</th>\n",
       "    </tr>\n",
       "  </thead>\n",
       "  <tbody>\n",
       "    <tr>\n",
       "      <th>0</th>\n",
       "      <td>64471158</td>\n",
       "      <td>Relaxed Marie Kondo Now Says She Perfectly Hap...</td>\n",
       "      <td>0.918450</td>\n",
       "    </tr>\n",
       "    <tr>\n",
       "      <th>2665</th>\n",
       "      <td>66510158</td>\n",
       "      <td>God Reveals Frogs' Mouths Designed Specificall...</td>\n",
       "      <td>0.939796</td>\n",
       "    </tr>\n",
       "    <tr>\n",
       "      <th>13465</th>\n",
       "      <td>33924507</td>\n",
       "      <td>Posture Could Dictate Success In Online Dating</td>\n",
       "      <td>0.708150</td>\n",
       "    </tr>\n",
       "    <tr>\n",
       "      <th>18431</th>\n",
       "      <td>98163715</td>\n",
       "      <td>Family Avoiding Eye Contact With Dad After Ste...</td>\n",
       "      <td>0.962492</td>\n",
       "    </tr>\n",
       "    <tr>\n",
       "      <th>23575</th>\n",
       "      <td>82535365</td>\n",
       "      <td>Intel Ships Flawed Chip</td>\n",
       "      <td>0.232028</td>\n",
       "    </tr>\n",
       "    <tr>\n",
       "      <th>31723</th>\n",
       "      <td>96362761</td>\n",
       "      <td>Adult-Entertainment Industry Donates $100,000 ...</td>\n",
       "      <td>0.952437</td>\n",
       "    </tr>\n",
       "    <tr>\n",
       "      <th>32936</th>\n",
       "      <td>16557897</td>\n",
       "      <td>Perhaps I've Been A Little Too Tough On Crime</td>\n",
       "      <td>0.706975</td>\n",
       "    </tr>\n",
       "  </tbody>\n",
       "</table>\n",
       "</div>"
      ],
      "text/plain": [
       "          docid                                           headline      nsfw\n",
       "0      64471158  Relaxed Marie Kondo Now Says She Perfectly Hap...  0.918450\n",
       "2665   66510158  God Reveals Frogs' Mouths Designed Specificall...  0.939796\n",
       "13465  33924507     Posture Could Dictate Success In Online Dating  0.708150\n",
       "18431  98163715  Family Avoiding Eye Contact With Dad After Ste...  0.962492\n",
       "23575  82535365                            Intel Ships Flawed Chip  0.232028\n",
       "31723  96362761  Adult-Entertainment Industry Donates $100,000 ...  0.952437\n",
       "32936  16557897      Perhaps I've Been A Little Too Tough On Crime  0.706975"
      ]
     },
     "execution_count": 19,
     "metadata": {},
     "output_type": "execute_result"
    }
   ],
   "source": [
    "sfw_2 = sfw_examples.body.map(predict_nsfw_2)\n",
    "sfw_examples[[\"docid\", \"headline\"]].assign(nsfw=sfw_2)"
   ]
  },
  {
   "cell_type": "markdown",
   "metadata": {},
   "source": [
    "- Too many false positives"
   ]
  },
  {
   "cell_type": "code",
   "execution_count": 20,
   "metadata": {},
   "outputs": [
    {
     "name": "stdout",
     "output_type": "stream",
     "text": [
      "BETHEL PARK, PA—Uncomfortably shifting in their seats as the costly turnover was replayed in slow motion, the entire Harrison family avoided eye contact with father Jeff Harrison for several incredibly tense minutes Sunday following a fumble by the Pittsburgh Steelers, household sources confirmed. \"Goddammit,\" said the visibly incensed 52-year-old, who just moments before had been jovially watching the game with his wife and two children, all of whom were now in complete silence and actively staring straight ahead or down at their phones as the fumble was confirmed by referees. \"C'mon—hang on to the ball for Christ's sake! Unbelievable.\" At press time, reports confirmed the two Harrison children were quietly considering leaving the room and watching the game upstairs as their father began to yell that the player's knee was down and that Steelers head coach Mike Tomlin should \"just challenge the damn call.\"\n"
     ]
    }
   ],
   "source": [
    "print(df.loc[18431].body)"
   ]
  },
  {
   "cell_type": "code",
   "execution_count": 21,
   "metadata": {},
   "outputs": [
    {
     "name": "stdout",
     "output_type": "stream",
     "text": [
      "LOS ANGELES—Admitting that she'd made some major lifestyle changes since developing her famous KonMari method, a relaxed Marie Kondo told reporters Tuesday that she was now perfectly happy living in waist-high sewage. \"The truth is, while I used to be very hard on myself about keeping everything clean, I'm now able to find peace living my life half-submerged in a large, fetid pool of human waste,\" said Kondo, who added that while things like tidiness, organization, and minimalism used to spark joy for her, she now felt that same warmth from wading, floating, and swimming in the many gallons of untreated urine and feces that currently filled her home. \"It was difficult, but once I had my children, I began to find it impossible to remove, clean, and sanitize the unending stream of excrement that bubbled up out of my toilets and filled my house to the point of collapse. While I used to hate it, I now see that each individual piece of human shit plays a part in creating a relaxed, easygoing atmosphere. And that is beautiful.\" At press time, Kondo had publicly apologized to her fans after many admitted they had removed several feet of raw sewage from their own homes and now deeply regretted the decision.\n"
     ]
    }
   ],
   "source": [
    "print(df.loc[0].body)"
   ]
  },
  {
   "cell_type": "markdown",
   "metadata": {},
   "source": [
    "# Run on full dataset"
   ]
  },
  {
   "cell_type": "markdown",
   "metadata": {},
   "source": [
    "Choose `eliasalbouzidi/distilbert-nsfw-text-classifier` as the final model as the other one gives too many false positives.\n",
    "\n",
    "From the paper in which the model was trained [(DiffGuard: Text-Based Safety Checker for Diffusion Models)](https://arxiv.org/abs/2412.00064):\n",
    "> We have created two versions of this model to balance\n",
    "precision and recall according to different requirements. One\n",
    "version is designed for a good equilibrium between precision\n",
    "and recall, achieved by setting the threshold at 0.95. The other\n",
    "version prioritizes high recall for critical applications, where\n",
    "avoiding false negatives is crucial, even at the cost of some\n",
    "false positives. This is achieved by setting the threshold at 0.8.\n",
    "\n",
    "Based on the above and what we saw on our (limited) examples, we heuristically set a threshold of 0.7"
   ]
  },
  {
   "cell_type": "code",
   "execution_count": 38,
   "metadata": {},
   "outputs": [],
   "source": [
    "NSFW_THRESH = 0.7"
   ]
  },
  {
   "cell_type": "code",
   "execution_count": 26,
   "metadata": {},
   "outputs": [
    {
     "name": "stdout",
     "output_type": "stream",
     "text": [
      "Took 03:06\n"
     ]
    }
   ],
   "source": [
    "st_time = perf_counter()\n",
    "prob_body = df.body.map(predict_nsfw_1)\n",
    "print(f\"Took {format_time(perf_counter() - st_time)}\")"
   ]
  },
  {
   "cell_type": "code",
   "execution_count": 27,
   "metadata": {},
   "outputs": [
    {
     "name": "stdout",
     "output_type": "stream",
     "text": [
      "Took 02:42\n"
     ]
    }
   ],
   "source": [
    "st_time = perf_counter()\n",
    "prob_hline = df.headline.map(predict_nsfw_1)\n",
    "print(f\"Took {format_time(perf_counter() - st_time)}\")"
   ]
  },
  {
   "cell_type": "code",
   "execution_count": 33,
   "metadata": {},
   "outputs": [
    {
     "data": {
      "image/png": "[encoded data removed]",
      "text/plain": [
       "<Figure size 640x480 with 1 Axes>"
      ]
     },
     "metadata": {},
     "output_type": "display_data"
    }
   ],
   "source": [
    "nsfw_scores = pd.DataFrame({\"docid\": df[\"docid\"].values, \"body\": prob_body, \"headline\": prob_hline})\n",
    "\n",
    "sns.set_style('darkgrid')\n",
    "sns.kdeplot(nsfw_scores['body'], label='Body')\n",
    "sns.kdeplot(nsfw_scores['headline'], label='Headline')\n",
    "plt.legend()\n",
    "plt.xlabel('Probability')\n",
    "plt.ylabel('Density')\n",
    "plt.title('Distribution of NSFW Scores')\n",
    "plt.show()"
   ]
  },
  {
   "cell_type": "code",
   "execution_count": 34,
   "metadata": {},
   "outputs": [
    {
     "data": {
      "text/html": [
       "<div>\n",
       "<style scoped>\n",
       "    .dataframe tbody tr th:only-of-type {\n",
       "        vertical-align: middle;\n",
       "    }\n",
       "\n",
       "    .dataframe tbody tr th {\n",
       "        vertical-align: top;\n",
       "    }\n",
       "\n",
       "    .dataframe thead th {\n",
       "        text-align: right;\n",
       "    }\n",
       "</style>\n",
       "<table border=\"1\" class=\"dataframe\">\n",
       "  <thead>\n",
       "    <tr style=\"text-align: right;\">\n",
       "      <th></th>\n",
       "      <th>docid</th>\n",
       "      <th>body</th>\n",
       "      <th>headline</th>\n",
       "    </tr>\n",
       "  </thead>\n",
       "  <tbody>\n",
       "    <tr>\n",
       "      <th>0</th>\n",
       "      <td>64471158</td>\n",
       "      <td>0.005760</td>\n",
       "      <td>0.999894</td>\n",
       "    </tr>\n",
       "    <tr>\n",
       "      <th>1</th>\n",
       "      <td>84486776</td>\n",
       "      <td>0.002082</td>\n",
       "      <td>0.998990</td>\n",
       "    </tr>\n",
       "    <tr>\n",
       "      <th>2</th>\n",
       "      <td>36589089</td>\n",
       "      <td>0.000332</td>\n",
       "      <td>0.999910</td>\n",
       "    </tr>\n",
       "    <tr>\n",
       "      <th>3</th>\n",
       "      <td>15387752</td>\n",
       "      <td>0.005371</td>\n",
       "      <td>0.984198</td>\n",
       "    </tr>\n",
       "    <tr>\n",
       "      <th>4</th>\n",
       "      <td>41114025</td>\n",
       "      <td>0.000532</td>\n",
       "      <td>0.997546</td>\n",
       "    </tr>\n",
       "  </tbody>\n",
       "</table>\n",
       "</div>"
      ],
      "text/plain": [
       "      docid      body  headline\n",
       "0  64471158  0.005760  0.999894\n",
       "1  84486776  0.002082  0.998990\n",
       "2  36589089  0.000332  0.999910\n",
       "3  15387752  0.005371  0.984198\n",
       "4  41114025  0.000532  0.997546"
      ]
     },
     "execution_count": 34,
     "metadata": {},
     "output_type": "execute_result"
    }
   ],
   "source": [
    "nsfw_scores.head()"
   ]
  },
  {
   "cell_type": "code",
   "execution_count": 35,
   "metadata": {},
   "outputs": [],
   "source": [
    "nsfw_scores.to_csv(\"../data/nsfw_scores.csv\", index=False)"
   ]
  },
  {
   "cell_type": "markdown",
   "metadata": {},
   "source": [
    "Only use the score for article body:"
   ]
  },
  {
   "cell_type": "code",
   "execution_count": 39,
   "metadata": {},
   "outputs": [],
   "source": [
    "df[\"nsfw_score\"] = prob_body\n",
    "df[\"nsfw\"] = df[\"nsfw_score\"] >= NSFW_THRESH"
   ]
  },
  {
   "cell_type": "code",
   "execution_count": 40,
   "metadata": {},
   "outputs": [
    {
     "data": {
      "text/plain": [
       "nsfw\n",
       "False    33053\n",
       "True      2239\n",
       "Name: count, dtype: int64"
      ]
     },
     "execution_count": 40,
     "metadata": {},
     "output_type": "execute_result"
    }
   ],
   "source": [
    "df.nsfw.value_counts()"
   ]
  },
  {
   "cell_type": "code",
   "execution_count": 46,
   "metadata": {},
   "outputs": [
    {
     "data": {
      "text/plain": [
       "nsfw\n",
       "False    0.936558\n",
       "True     0.063442\n",
       "Name: proportion, dtype: float64"
      ]
     },
     "execution_count": 46,
     "metadata": {},
     "output_type": "execute_result"
    }
   ],
   "source": [
    "df.nsfw.value_counts(normalize=True)"
   ]
  },
  {
   "cell_type": "markdown",
   "metadata": {},
   "source": [
    "- About 6% of the articles are classified as NSFW."
   ]
  },
  {
   "cell_type": "code",
   "execution_count": 45,
   "metadata": {},
   "outputs": [
    {
     "data": {
      "image/png": "[encoded data removed]",
      "text/plain": [
       "<Figure size 400x300 with 1 Axes>"
      ]
     },
     "metadata": {},
     "output_type": "display_data"
    }
   ],
   "source": [
    "df.nsfw.value_counts().plot.bar(rot=0, color=sns.color_palette(), width=0.4, figsize=(4, 3))\n",
    "plt.xlabel(\"NSFW\")\n",
    "plt.ylabel(\"Count\")\n",
    "plt.title(\"Distribution of NSFW articles\")\n",
    "plt.show()"
   ]
  },
  {
   "cell_type": "code",
   "execution_count": 48,
   "metadata": {},
   "outputs": [
    {
     "data": {
      "text/html": [
       "<div>\n",
       "<style scoped>\n",
       "    .dataframe tbody tr th:only-of-type {\n",
       "        vertical-align: middle;\n",
       "    }\n",
       "\n",
       "    .dataframe tbody tr th {\n",
       "        vertical-align: top;\n",
       "    }\n",
       "\n",
       "    .dataframe thead th {\n",
       "        text-align: right;\n",
       "    }\n",
       "</style>\n",
       "<table border=\"1\" class=\"dataframe\">\n",
       "  <thead>\n",
       "    <tr style=\"text-align: right;\">\n",
       "      <th></th>\n",
       "      <th>docid</th>\n",
       "      <th>headline</th>\n",
       "      <th>body</th>\n",
       "      <th>website</th>\n",
       "      <th>nsfw_score</th>\n",
       "      <th>nsfw</th>\n",
       "    </tr>\n",
       "  </thead>\n",
       "  <tbody>\n",
       "    <tr>\n",
       "      <th>0</th>\n",
       "      <td>64471158</td>\n",
       "      <td>Relaxed Marie Kondo Now Says She Perfectly Hap...</td>\n",
       "      <td>LOS ANGELES—Admitting that she'd made some maj...</td>\n",
       "      <td>The Onion</td>\n",
       "      <td>0.005760</td>\n",
       "      <td>False</td>\n",
       "    </tr>\n",
       "    <tr>\n",
       "      <th>1</th>\n",
       "      <td>84486776</td>\n",
       "      <td>U.S. Officials Call For Correct Amount Of Viol...</td>\n",
       "      <td>WASHINGTON—Addressing the need for swift and m...</td>\n",
       "      <td>The Onion</td>\n",
       "      <td>0.002082</td>\n",
       "      <td>False</td>\n",
       "    </tr>\n",
       "    <tr>\n",
       "      <th>2</th>\n",
       "      <td>36589089</td>\n",
       "      <td>Kamala Harris Asks Communications Assistant If...</td>\n",
       "      <td>WASHINGTON—In an effort to expand her professi...</td>\n",
       "      <td>The Onion</td>\n",
       "      <td>0.000332</td>\n",
       "      <td>False</td>\n",
       "    </tr>\n",
       "    <tr>\n",
       "      <th>3</th>\n",
       "      <td>15387752</td>\n",
       "      <td>25 Arrested In Fake Nursing School Diploma Scheme</td>\n",
       "      <td>Federal agents have arrested 25 suspects accus...</td>\n",
       "      <td>The Onion</td>\n",
       "      <td>0.005371</td>\n",
       "      <td>False</td>\n",
       "    </tr>\n",
       "    <tr>\n",
       "      <th>4</th>\n",
       "      <td>41114025</td>\n",
       "      <td>World's Oldest American Dies At 72</td>\n",
       "      <td>OXNARD, CA—Living longer than any citizen in t...</td>\n",
       "      <td>The Onion</td>\n",
       "      <td>0.000532</td>\n",
       "      <td>False</td>\n",
       "    </tr>\n",
       "  </tbody>\n",
       "</table>\n",
       "</div>"
      ],
      "text/plain": [
       "      docid                                           headline  \\\n",
       "0  64471158  Relaxed Marie Kondo Now Says She Perfectly Hap...   \n",
       "1  84486776  U.S. Officials Call For Correct Amount Of Viol...   \n",
       "2  36589089  Kamala Harris Asks Communications Assistant If...   \n",
       "3  15387752  25 Arrested In Fake Nursing School Diploma Scheme   \n",
       "4  41114025                 World's Oldest American Dies At 72   \n",
       "\n",
       "                                                body    website  nsfw_score  \\\n",
       "0  LOS ANGELES—Admitting that she'd made some maj...  The Onion    0.005760   \n",
       "1  WASHINGTON—Addressing the need for swift and m...  The Onion    0.002082   \n",
       "2  WASHINGTON—In an effort to expand her professi...  The Onion    0.000332   \n",
       "3  Federal agents have arrested 25 suspects accus...  The Onion    0.005371   \n",
       "4  OXNARD, CA—Living longer than any citizen in t...  The Onion    0.000532   \n",
       "\n",
       "    nsfw  \n",
       "0  False  \n",
       "1  False  \n",
       "2  False  \n",
       "3  False  \n",
       "4  False  "
      ]
     },
     "execution_count": 48,
     "metadata": {},
     "output_type": "execute_result"
    }
   ],
   "source": [
    "df.head()"
   ]
  },
  {
   "cell_type": "code",
   "execution_count": 49,
   "metadata": {},
   "outputs": [],
   "source": [
    "df.to_csv(\"../data/processed_articles_dedup_nsfwtags.csv\", index=False)"
   ]
  },
  {
   "cell_type": "code",
   "execution_count": null,
   "metadata": {},
   "outputs": [],
   "source": []
  }
 ],
 "metadata": {
  "kernelspec": {
   "display_name": "Python 3 (ipykernel)",
   "language": "python",
   "name": "python3"
  },
  "language_info": {
   "codemirror_mode": {
    "name": "ipython",
    "version": 3
   },
   "file_extension": ".py",
   "mimetype": "text/x-python",
   "name": "python",
   "nbconvert_exporter": "python",
   "pygments_lexer": "ipython3",
   "version": "3.11.7"
  }
 },
 "nbformat": 4,
 "nbformat_minor": 4
}
