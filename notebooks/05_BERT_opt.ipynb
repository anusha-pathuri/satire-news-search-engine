{
 "cells": [
  {
   "cell_type": "code",
   "execution_count": 1,
   "metadata": {},
   "outputs": [],
   "source": [
    "%reload_ext autoreload\n",
    "%autoreload 2\n",
    "import os\n",
    "import sys\n",
    "sys.path.append('..')\n",
    "import warnings\n",
    "warnings.filterwarnings('ignore')\n",
    "\n",
    "import csv\n",
    "import numpy as np\n",
    "import matplotlib.pyplot as plt\n",
    "import pandas as pd\n",
    "import json\n",
    "import matplotlib.pyplot as plt\n",
    "import seaborn as sns\n",
    "sns.set_style(\"darkgrid\")\n",
    "\n",
    "from src.document_preprocessor import RegexTokenizer\n",
    "from src.indexing import BasicInvertedIndex, Indexer, IndexType\n",
    "from src.ranker import BM25, Ranker\n",
    "from src.relevance import run_relevance_tests\n",
    "\n",
    "from sentence_transformers import SentenceTransformer"
   ]
  },
  {
   "cell_type": "code",
   "execution_count": 2,
   "metadata": {},
   "outputs": [],
   "source": [
    "STOPWORD_PATH = '../data/stopwords_updated.txt'\n",
    "DATASET_PATH = '../data/processed_articles_dedup.csv'\n",
    "INDEX_PATH = './output/index'"
   ]
  },
  {
   "cell_type": "code",
   "execution_count": 3,
   "metadata": {},
   "outputs": [
    {
     "data": {
      "text/plain": [
       "'Stopwords collected 550'"
      ]
     },
     "execution_count": 3,
     "metadata": {},
     "output_type": "execute_result"
    }
   ],
   "source": [
    "# Load in the stopwords\n",
    "stopwords = set()\n",
    "with open(STOPWORD_PATH, 'r', encoding='utf-8') as file:\n",
    "    for stopword in file:\n",
    "        stopwords.add(stopword.strip())\n",
    "f'Stopwords collected {len(stopwords)}'"
   ]
  },
  {
   "cell_type": "code",
   "execution_count": 4,
   "metadata": {},
   "outputs": [],
   "source": [
    "preprocessor = RegexTokenizer(\"\\w+(?:-\\w+)*(?:'[^stmrvld]\\w*)*\", lowercase=True)\n",
    "\n",
    "# index = Indexer.create_index(\n",
    "#     index_type=IndexType.BasicInvertedIndex,\n",
    "#     dataset_path=DATASET_PATH,\n",
    "#     document_preprocessor=preprocessor,\n",
    "#     stopwords=stopwords,\n",
    "#     minimum_word_frequency=1,\n",
    "#     text_key='body',\n",
    "#     id_key='docid',\n",
    "#     max_docs=35292\n",
    "# )\n",
    "\n",
    "# index.save(INDEX_PATH)"
   ]
  },
  {
   "cell_type": "code",
   "execution_count": 5,
   "metadata": {},
   "outputs": [],
   "source": [
    "index = BasicInvertedIndex()\n",
    "index.load(INDEX_PATH)"
   ]
  },
  {
   "cell_type": "code",
   "execution_count": 6,
   "metadata": {},
   "outputs": [],
   "source": [
    "bm25_scorer = BM25(index)\n",
    "bm25_ranker = Ranker(index, preprocessor, stopwords, bm25_scorer)"
   ]
  },
  {
   "cell_type": "code",
   "execution_count": 7,
   "metadata": {},
   "outputs": [],
   "source": [
    "metrics_bm25 = run_relevance_tests(\"../data/relevance_test.csv\", ranker=bm25_ranker)"
   ]
  },
  {
   "cell_type": "markdown",
   "metadata": {},
   "source": [
    "## BERT Interpolation on BM25"
   ]
  },
  {
   "cell_type": "code",
   "execution_count": 8,
   "metadata": {},
   "outputs": [],
   "source": [
    "# Load the model\n",
    "model = SentenceTransformer('sentence-transformers/all-MiniLM-L6-v2')\n",
    "\n",
    "class HybridRanker:\n",
    "    def __init__(self, base_ranker: Ranker, raw_text_dict: dict, alpha: float = 0.5, rerank_top_k: int = 10):\n",
    "        self.base_ranker = base_ranker\n",
    "        self.raw_text_dict = raw_text_dict\n",
    "        self.alpha = alpha\n",
    "        self.rerank_top_k = rerank_top_k\n",
    "        self.model = model  # Use the loaded model\n",
    "\n",
    "    def query(self, query: str) -> list[tuple[int, float]]:\n",
    "        # Get initial BM25 rankings\n",
    "        bm25_results = self.base_ranker.query(query)\n",
    "\n",
    "        # Only rerank top k documents\n",
    "        top_k_results = bm25_results[:self.rerank_top_k]\n",
    "\n",
    "        # Get query embedding\n",
    "        query_embedding = self.model.encode(query, normalize_embeddings=True)\n",
    "\n",
    "        # Calculate BERT scores for top k\n",
    "        reranked_scores = []\n",
    "        docs = [self.raw_text_dict[docid] for docid, _ in top_k_results]\n",
    "        doc_embeddings = self.model.encode(docs)\n",
    "\n",
    "        # Calculate similarities\n",
    "        for i, (docid, bm25_score) in enumerate(top_k_results):\n",
    "            # Compute cosine similarity\n",
    "            bert_score = float(doc_embeddings[i] @ query_embedding)\n",
    "\n",
    "            # Combine scores using alpha\n",
    "            final_score = self.alpha * bm25_score + (1 - self.alpha) * bert_score\n",
    "            reranked_scores.append((docid, final_score))\n",
    "\n",
    "        # Sort by combined score\n",
    "        reranked_scores.sort(key=lambda x: x[1], reverse=True)\n",
    "\n",
    "        return reranked_scores + bm25_results[self.rerank_top_k:]\n",
    "\n",
    "# Load raw text for documents\n",
    "raw_text_dict = {}\n",
    "with open(DATASET_PATH, 'r', encoding='utf-8') as f:\n",
    "    reader = csv.DictReader(f)\n",
    "    for row in reader:\n",
    "        raw_text_dict[int(row['docid'])] = row['body']"
   ]
  },
  {
   "cell_type": "markdown",
   "metadata": {},
   "source": [
    "# Ablation study\n",
    "\n",
    "- Dev set"
   ]
  },
  {
   "cell_type": "code",
   "execution_count": 10,
   "metadata": {},
   "outputs": [
    {
     "data": {
      "text/plain": [
       "13"
      ]
     },
     "execution_count": 10,
     "metadata": {},
     "output_type": "execute_result"
    }
   ],
   "source": [
    "dev_df = pd.read_csv(\"../data/relevance_dev.csv\")\n",
    "dev_df[\"query\"].nunique()"
   ]
  },
  {
   "cell_type": "code",
   "execution_count": 26,
   "metadata": {},
   "outputs": [],
   "source": [
    "# from src.BERT_ranker import HybridRanker"
   ]
  },
  {
   "cell_type": "code",
   "execution_count": 11,
   "metadata": {},
   "outputs": [],
   "source": [
    "ablation_alpha = {}"
   ]
  },
  {
   "cell_type": "code",
   "execution_count": 12,
   "metadata": {},
   "outputs": [
    {
     "name": "stdout",
     "output_type": "stream",
     "text": [
      "alpha: 0.0 map: 0.2347, ndcg: 0.5753\n",
      "alpha: 0.1 map: 0.2218, ndcg: 0.5652\n",
      "alpha: 0.2 map: 0.2191, ndcg: 0.5718\n",
      "alpha: 0.3 map: 0.2196, ndcg: 0.5728\n",
      "alpha: 0.4 map: 0.2146, ndcg: 0.5667\n",
      "alpha: 0.5 map: 0.2134, ndcg: 0.5654\n",
      "alpha: 0.6 map: 0.2133, ndcg: 0.5690\n",
      "alpha: 0.7 map: 0.2133, ndcg: 0.5699\n",
      "alpha: 0.8 map: 0.2133, ndcg: 0.5703\n",
      "alpha: 0.9 map: 0.2127, ndcg: 0.5696\n",
      "alpha: 1.0 map: 0.2114, ndcg: 0.5674\n"
     ]
    }
   ],
   "source": [
    "for alpha in np.linspace(0, 1, 11):\n",
    "    print(f\"alpha: {alpha:.1f}\", end=\" \")\n",
    "    \n",
    "    # Create hybrid ranker\n",
    "    hybrid_ranker = HybridRanker(\n",
    "        # bi_encoder_model_name='sentence-transformers/all-MiniLM-L6-v2',\n",
    "        base_ranker=bm25_ranker, \n",
    "        raw_text_dict=raw_text_dict,\n",
    "        alpha=alpha, \n",
    "        rerank_top_k=10\n",
    "    )\n",
    "    \n",
    "    # Run evaluation    \n",
    "    metrics = run_relevance_tests(\"../data/relevance_dev.csv\", ranker=hybrid_ranker)\n",
    "    print(f\"map: {metrics['map']:.4f}, ndcg: {metrics['ndcg']:.4f}\")\n",
    "\n",
    "    ablation_alpha[alpha] = metrics"
   ]
  },
  {
   "cell_type": "code",
   "execution_count": 13,
   "metadata": {},
   "outputs": [],
   "source": [
    "with open('output/metrics_hybridranker_alphas_dev.json', 'w') as f:\n",
    "    json.dump(ablation_alpha, f)"
   ]
  },
  {
   "cell_type": "code",
   "execution_count": 15,
   "metadata": {},
   "outputs": [
    {
     "data": {
      "text/plain": [
       "(11, 11, 11)"
      ]
     },
     "execution_count": 15,
     "metadata": {},
     "output_type": "execute_result"
    }
   ],
   "source": [
    "alphas = []\n",
    "maps = []\n",
    "ndcgs = []\n",
    "\n",
    "for alpha, metrics in ablation_alpha.items():\n",
    "    alphas.append(alpha)\n",
    "    maps.append(metrics['map'])\n",
    "    ndcgs.append(metrics['ndcg'])\n",
    "\n",
    "len(alphas), len(maps), len(ndcgs)"
   ]
  },
  {
   "cell_type": "code",
   "execution_count": 17,
   "metadata": {},
   "outputs": [
    {
     "data": {
      "image/png": "[encoded data removed]",
      "text/plain": [
       "<Figure size 500x500 with 1 Axes>"
      ]
     },
     "metadata": {},
     "output_type": "display_data"
    }
   ],
   "source": [
    "plt.figure(figsize=(5, 5))\n",
    "plt.plot(alphas, maps, label='MAP@10', marker='o')\n",
    "plt.plot(alphas, ndcgs, label='NDCG@10', marker='o')\n",
    "plt.title('Performance of Hybrid Ranker across Different Alpha Values')\n",
    "plt.xlabel('Alpha')\n",
    "plt.ylabel('Score')\n",
    "plt.legend()\n",
    "plt.show()"
   ]
  },
  {
   "cell_type": "markdown",
   "metadata": {},
   "source": [
    "# Evaluation \n",
    "\n",
    "- Test set"
   ]
  },
  {
   "cell_type": "code",
   "execution_count": null,
   "metadata": {},
   "outputs": [],
   "source": [
    "# Create hybrid ranker\n",
    "hybrid_ranker = HybridRanker(\n",
    "    base_ranker=bm25_ranker,\n",
    "    raw_text_dict=raw_text_dict,\n",
    "    alpha=0.3,\n",
    "    rerank_top_k=10\n",
    ")\n",
    "\n",
    "# Run evaluation\n",
    "metrics_hybrid = run_relevance_tests(\"../data/relevance_test.csv\", ranker=hybrid_ranker)"
   ]
  },
  {
   "cell_type": "code",
   "execution_count": 9,
   "metadata": {},
   "outputs": [
    {
     "data": {
      "image/png": "[encoded data removed]",
      "text/plain": [
       "<Figure size 640x480 with 1 Axes>"
      ]
     },
     "metadata": {},
     "output_type": "display_data"
    }
   ],
   "source": [
    "metrics = {\n",
    "    \"BM25\": metrics_bm25,\n",
    "    \"Hybrid\": metrics_hybrid,\n",
    "}\n",
    "\n",
    "metrics_df = []\n",
    "for ranker, metrics in metrics.items():\n",
    "    metrics_df.append({\n",
    "        \"ranker\": ranker, \"metric\": \"MAP@10\", \n",
    "        \"mean_score\": metrics[\"map\"], \"scores\": metrics[\"map_list\"]\n",
    "    })\n",
    "    metrics_df.append({\n",
    "        \"ranker\": ranker, \"metric\": \"NDCG@10\", \n",
    "        \"mean_score\": metrics[\"ndcg\"], \"scores\": metrics[\"ndcg_list\"]\n",
    "    })\n",
    "    \n",
    "metrics_df = pd.DataFrame(metrics_df)\n",
    "metrics_df_long = metrics_df.drop(\"mean_score\", axis=1).explode(\"scores\")\n",
    "\n",
    "sns.barplot(data=metrics_df_long, x=\"metric\", y=\"scores\", hue=\"ranker\", \n",
    "            estimator='mean', errorbar=('ci', 95), width=0.5, errwidth=1)\n",
    "\n",
    "plt.title(\"Comparison of BM25 vs Hybrid (BM25 + BERT) Performance on Test Set\")\n",
    "plt.legend(bbox_to_anchor=(1,1))\n",
    "plt.xlabel(\"Metric\")\n",
    "plt.ylabel(\"Score\")\n",
    "plt.show()"
   ]
  },
  {
   "cell_type": "code",
   "execution_count": null,
   "metadata": {},
   "outputs": [],
   "source": []
  },
  {
   "cell_type": "code",
   "execution_count": null,
   "metadata": {},
   "outputs": [],
   "source": []
  },
  {
   "cell_type": "code",
   "execution_count": null,
   "metadata": {},
   "outputs": [],
   "source": []
  },
  {
   "cell_type": "markdown",
   "metadata": {},
   "source": []
  }
 ],
 "metadata": {
  "kernelspec": {
   "display_name": "Python 3 (ipykernel)",
   "language": "python",
   "name": "python3"
  },
  "language_info": {
   "codemirror_mode": {
    "name": "ipython",
    "version": 3
   },
   "file_extension": ".py",
   "mimetype": "text/x-python",
   "name": "python",
   "nbconvert_exporter": "python",
   "pygments_lexer": "ipython3",
   "version": "3.11.7"
  }
 },
 "nbformat": 4,
 "nbformat_minor": 4
}
