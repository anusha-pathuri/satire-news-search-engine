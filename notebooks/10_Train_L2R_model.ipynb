{
 "cells": [
  {
   "cell_type": "code",
   "execution_count": 1,
   "metadata": {},
   "outputs": [
    {
     "name": "stderr",
     "output_type": "stream",
     "text": [
      "/Users/aryan/Desktop/Umich/Terms/F24/SI650/Project/satire-news-search-engine/.venv/lib/python3.11/site-packages/tqdm/auto.py:21: TqdmWarning: IProgress not found. Please update jupyter and ipywidgets. See https://ipywidgets.readthedocs.io/en/stable/user_install.html\n",
      "  from .autonotebook import tqdm as notebook_tqdm\n"
     ]
    }
   ],
   "source": [
    "import sys\n",
    "import csv\n",
    "import numpy as np\n",
    "import matplotlib.pyplot as plt\n",
    "import pandas as pd\n",
    "import gzip\n",
    "import json\n",
    "sys.path.append('..')\n",
    "\n",
    "from src.document_preprocessor import RegexTokenizer\n",
    "from src.indexing import BasicInvertedIndex, Indexer, IndexType\n",
    "from src.ranker import BM25, Ranker\n",
    "from src.relevance import run_relevance_tests\n",
    "from src.l2r import L2RFeatureExtractor, L2RRanker\n",
    "from src.vector_ranker import VectorRanker\n",
    "\n",
    "from sentence_transformers import SentenceTransformer"
   ]
  },
  {
   "cell_type": "code",
   "execution_count": 2,
   "metadata": {},
   "outputs": [],
   "source": [
    "STOPWORD_PATH = '../data/stopwords_updated.txt'\n",
    "DATASET_PATH = '../data/processed_articles_dedup.csv'\n",
    "RELEVANCE_TRAIN_DATA = '../data/relevance_test.csv'\n",
    "MAIN_INDEX_PATH = '../data/index'\n",
    "HEADLINE_INDEX_PATH = '../data/index_headline'\n",
    "BODY_EMBEDDINGS_PATH = '../data/body_embeddings.npy'"
   ]
  },
  {
   "cell_type": "code",
   "execution_count": 3,
   "metadata": {},
   "outputs": [
    {
     "data": {
      "text/plain": [
       "'Stopwords collected 550'"
      ]
     },
     "execution_count": 3,
     "metadata": {},
     "output_type": "execute_result"
    }
   ],
   "source": [
    "# Load in the stopwords\n",
    "\n",
    "stopwords = set()\n",
    "with open(STOPWORD_PATH, 'r', encoding='utf-8') as file:\n",
    "    for stopword in file:\n",
    "        stopwords.add(stopword.strip())\n",
    "f'Stopwords collected {len(stopwords)}'"
   ]
  },
  {
   "cell_type": "code",
   "execution_count": 4,
   "metadata": {},
   "outputs": [],
   "source": [
    "preprocessor = RegexTokenizer(\"\\w+(?:-\\w+)*(?:'[^stmrvld]\\w*)*\", lowercase=True)\n",
    "\n",
    "# main_index = Indexer.create_index(\n",
    "#     index_type=IndexType.BasicInvertedIndex,\n",
    "#     dataset_path=DATASET_PATH,\n",
    "#     document_preprocessor=preprocessor,\n",
    "#     stopwords=stopwords,\n",
    "#     minimum_word_frequency=1,\n",
    "#     text_key='body',\n",
    "#     id_key='docid',\n",
    "#     max_docs=35292\n",
    "# )\n",
    "\n",
    "# headline_index = Indexer.create_index(\n",
    "#     index_type=IndexType.BasicInvertedIndex,\n",
    "#     dataset_path=DATASET_PATH,\n",
    "#     document_preprocessor=preprocessor,\n",
    "#     stopwords=stopwords,\n",
    "#     minimum_word_frequency=1,\n",
    "#     text_key='headline',\n",
    "#     id_key='docid',\n",
    "#     max_docs=35292\n",
    "# )\n",
    "\n",
    "# main_index.save(MAIN_INDEX_PATH)\n",
    "# headline_index.save(HEADLINE_INDEX_PATH)"
   ]
  },
  {
   "cell_type": "code",
   "execution_count": 5,
   "metadata": {},
   "outputs": [],
   "source": [
    "# # Get the list of document IDs from the index\n",
    "# valid_doc_ids = list(main_index.document_metadata.keys())\n",
    "\n",
    "# # Load the dataset\n",
    "# df = pd.read_csv(DATASET_PATH)\n",
    "\n",
    "# # Filter to only include documents that are in the index\n",
    "# df = df[df['docid'].isin(valid_doc_ids)]\n",
    "\n",
    "# # Create new embeddings with only the valid documents\n",
    "# model = SentenceTransformer('sentence-transformers/msmarco-MiniLM-L12-cos-v5')\n",
    "# body_embeddings = model.encode(df['body'].tolist(),\n",
    "#                              batch_size=32,\n",
    "#                              show_progress_bar=True,\n",
    "#                              convert_to_tensor=False)\n",
    "\n",
    "# # Save the embeddings\n",
    "# np.save(BODY_EMBEDDINGS_PATH, body_embeddings)"
   ]
  },
  {
   "cell_type": "code",
   "execution_count": 6,
   "metadata": {},
   "outputs": [],
   "source": [
    "main_index = BasicInvertedIndex()\n",
    "headline_index = BasicInvertedIndex()\n",
    "\n",
    "main_index.load(MAIN_INDEX_PATH)\n",
    "headline_index.load(HEADLINE_INDEX_PATH)"
   ]
  },
  {
   "cell_type": "code",
   "execution_count": 7,
   "metadata": {},
   "outputs": [
    {
     "name": "stdout",
     "output_type": "stream",
     "text": [
      "[LightGBM] [Info] Auto-choosing row-wise multi-threading, the overhead of testing was 0.000024 seconds.\n",
      "You can set `force_row_wise=true` to remove the overhead.\n",
      "And if memory is not enough, you can set `force_col_wise=true`.\n",
      "[LightGBM] [Info] Total Bins 723\n",
      "[LightGBM] [Info] Number of data points in the train set: 654, number of used features: 9\n"
     ]
    }
   ],
   "source": [
    "fe = L2RFeatureExtractor(main_index, headline_index, preprocessor, stopwords)\n",
    "\n",
    "# Load pre-computed document embeddings\n",
    "encoded_docs = np.load(BODY_EMBEDDINGS_PATH)\n",
    "\n",
    "vector_ranker = VectorRanker('sentence-transformers/msmarco-MiniLM-L12-cos-v5',\n",
    "                             encoded_docs, list(main_index.document_metadata.keys()))\n",
    "\n",
    "l2r_ranker = L2RRanker(main_index, headline_index, preprocessor,\n",
    "                       stopwords, vector_ranker, fe)\n",
    "\n",
    "l2r_ranker.train(RELEVANCE_TRAIN_DATA)"
   ]
  },
  {
   "cell_type": "code",
   "execution_count": 9,
   "metadata": {},
   "outputs": [
    {
     "name": "stdout",
     "output_type": "stream",
     "text": [
      "L2R Ranker Evaluation Results:\n",
      "Mean Average Precision (MAP): 0.1538\n",
      "Normalized Discounted Cumulative Gain (NDCG): 0.2595\n"
     ]
    }
   ],
   "source": [
    "# Run relevance tests on the trained L2R ranker\n",
    "results = run_relevance_tests(RELEVANCE_TRAIN_DATA, l2r_ranker)  # Changed order of arguments\n",
    "print(\"L2R Ranker Evaluation Results:\")\n",
    "print(f\"Mean Average Precision (MAP): {results['map']:.4f}\")\n",
    "print(f\"Normalized Discounted Cumulative Gain (NDCG): {results['ndcg']:.4f}\")"
   ]
  }
 ],
 "metadata": {
  "kernelspec": {
   "display_name": ".venv",
   "language": "python",
   "name": "python3"
  },
  "language_info": {
   "codemirror_mode": {
    "name": "ipython",
    "version": 3
   },
   "file_extension": ".py",
   "mimetype": "text/x-python",
   "name": "python",
   "nbconvert_exporter": "python",
   "pygments_lexer": "ipython3",
   "version": "3.11.9"
  }
 },
 "nbformat": 4,
 "nbformat_minor": 2
}
