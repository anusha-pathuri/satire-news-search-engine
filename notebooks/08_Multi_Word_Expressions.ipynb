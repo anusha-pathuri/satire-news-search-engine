{
 "cells": [
  {
   "cell_type": "code",
   "execution_count": 1,
   "metadata": {},
   "outputs": [],
   "source": [
    "%reload_ext autoreload\n",
    "%autoreload 2\n",
    "import os\n",
    "import sys\n",
    "sys.path.append('..')\n",
    "import warnings\n",
    "warnings.filterwarnings('ignore')\n",
    "import pandas as pd\n",
    "import numpy as np\n",
    "import matplotlib.pyplot as plt\n",
    "import seaborn as sns\n",
    "from tqdm import tqdm"
   ]
  },
  {
   "cell_type": "code",
   "execution_count": 2,
   "metadata": {},
   "outputs": [],
   "source": [
    "from src.utils import load_txt, save_txt"
   ]
  },
  {
   "cell_type": "code",
   "execution_count": 3,
   "metadata": {},
   "outputs": [],
   "source": [
    "dataset_path = '../data/processed_articles_dedup_nsfwtags_sarcasm.csv'\n",
    "stopwords_path = '../data/stopwords_updated.txt'"
   ]
  },
  {
   "cell_type": "markdown",
   "metadata": {},
   "source": [
    "# Dataset"
   ]
  },
  {
   "cell_type": "markdown",
   "metadata": {},
   "source": [
    "Load de-duplicated data from `07_Sarcasm_Level.ipynb`"
   ]
  },
  {
   "cell_type": "code",
   "execution_count": 4,
   "metadata": {},
   "outputs": [
    {
     "data": {
      "text/plain": [
       "(35292,\n",
       " website\n",
       " The Onion                 34470\n",
       " Clickhole                   743\n",
       " The Every Three Weekly       79\n",
       " Name: count, dtype: int64)"
      ]
     },
     "execution_count": 4,
     "metadata": {},
     "output_type": "execute_result"
    }
   ],
   "source": [
    "df = pd.read_csv(dataset_path)\n",
    "len(df), df.website.value_counts()"
   ]
  },
  {
   "cell_type": "markdown",
   "metadata": {},
   "source": [
    "# Multi-Word Expressions / Named Entities"
   ]
  },
  {
   "cell_type": "code",
   "execution_count": 5,
   "metadata": {},
   "outputs": [],
   "source": [
    "import spacy\n",
    "\n",
    "nlp = spacy.load('en_core_web_sm', \n",
    "                 disable=[\"tok2vec\", \"tagger\", \"parser\", \"attribute_ruler\", \"lemmatizer\"])"
   ]
  },
  {
   "cell_type": "code",
   "execution_count": 16,
   "metadata": {},
   "outputs": [
    {
     "name": "stderr",
     "output_type": "stream",
     "text": [
      "  0%|          | 0/35725 [00:00<?, ?it/s]"
     ]
    },
    {
     "name": "stderr",
     "output_type": "stream",
     "text": [
      "100%|██████████| 35725/35725 [04:39<00:00, 128.02it/s]\n"
     ]
    }
   ],
   "source": [
    "# Identify multi-word expressions using SpaCy\n",
    "multiword_expressions = set()\n",
    "\n",
    "for text in tqdm(df.body.values, total=df.shape[0]):\n",
    "    tokens = nlp(text)\n",
    "    \n",
    "    i = 0\n",
    "    while i < len(tokens):\n",
    "        curr = tokens[i]\n",
    "\n",
    "        if curr.ent_iob_ == \"B\":  # MWEs recognized by SpaCy\n",
    "            entity = curr.text\n",
    "            j = i + 1\n",
    "            prev_is_hyphen = False\n",
    "            while j < len(tokens) and tokens[j].ent_iob_ == \"I\":\n",
    "                curr = tokens[j].text\n",
    "\n",
    "                # remove space before \"'s\" and \":\", and on either side of \"-\"\n",
    "                if not (curr in [\"'s\", \"-\", \":\"] or prev_is_hyphen):\n",
    "                    entity += \" \"  \n",
    "                \n",
    "                prev_is_hyphen = (curr == \"-\") \n",
    "                \n",
    "                entity += curr\n",
    "                j += 1\n",
    "\n",
    "            multiword_expressions.add(entity)\n",
    "            i = j \n",
    "            \n",
    "        else:\n",
    "            i += 1"
   ]
  },
  {
   "cell_type": "code",
   "execution_count": 18,
   "metadata": {},
   "outputs": [
    {
     "data": {
      "text/plain": [
       "77029"
      ]
     },
     "execution_count": 18,
     "metadata": {},
     "output_type": "execute_result"
    }
   ],
   "source": [
    "len(multiword_expressions)"
   ]
  },
  {
   "cell_type": "code",
   "execution_count": null,
   "metadata": {},
   "outputs": [],
   "source": [
    "def check_multiword_capitalization(expression: str) -> bool:\n",
    "    \"\"\"\n",
    "    Check if a multiword expression has proper capitalization:\n",
    "    all words capitalized except articles and prepositions.\n",
    "    \"\"\"\n",
    "    # List of common articles and prepositions (not exhaustive)\n",
    "    connecters = {'a', 'an', 'the', 'and', 'but', 'or', 'for', 'nor', 'on', 'at', \n",
    "                  'to', 'from', 'by', 'in', 'of', 'with', 'under', 'over', 'as'}\n",
    "\n",
    "    words = expression.split()\n",
    "    \n",
    "    if not words:\n",
    "        return False\n",
    "\n",
    "    # Check if the first word is capitalized\n",
    "    if not words[0][0].isupper():\n",
    "        return False\n",
    "    \n",
    "    # If the expression is a single word and it's capitalized\n",
    "    if len(words) == 1:\n",
    "        return True\n",
    "\n",
    "    for word in words[1:]:\n",
    "        if word.lower() in connecters: \n",
    "            continue  # Skip articles and prepositions\n",
    "        \n",
    "        if not word[0].isupper():\n",
    "            return False  # Other words should be capitalized\n",
    "    \n",
    "    return True"
   ]
  },
  {
   "cell_type": "code",
   "execution_count": 20,
   "metadata": {},
   "outputs": [
    {
     "data": {
      "text/plain": [
       "32739"
      ]
     },
     "execution_count": 20,
     "metadata": {},
     "output_type": "execute_result"
    }
   ],
   "source": [
    "mwes = [\n",
    "    mwe for mwe in sorted(multiword_expressions) \n",
    "    if len(mwe.split()) > 1 and check_multiword_capitalization(mwe)\n",
    "]\n",
    "len(mwes)"
   ]
  },
  {
   "cell_type": "code",
   "execution_count": 21,
   "metadata": {},
   "outputs": [
    {
     "data": {
      "text/plain": [
       "array(['Cassandra Walters', 'Bonnie Jacob', 'Blaine Christy',\n",
       "       'Toilet Town', 'Arthur Meyer', 'Wes Byrum', 'Kevin Batton',\n",
       "       'Tala Simmons', 'Feel Better', 'Laura Gafferty',\n",
       "       'Super Mario Bros.', 'Darren Weller', 'Robert Barchi',\n",
       "       'Jameis Winston', 'Royal Knight Companion', 'Evan Williams',\n",
       "       'Gary Johnson', 'Prudential Insurance', 'Joseph Goebbels',\n",
       "       'David Furman'], dtype='<U119')"
      ]
     },
     "execution_count": 21,
     "metadata": {},
     "output_type": "execute_result"
    }
   ],
   "source": [
    "np.random.choice(mwes, 20)"
   ]
  },
  {
   "cell_type": "code",
   "execution_count": 22,
   "metadata": {},
   "outputs": [],
   "source": [
    "save_txt(mwes, '../data/multiword_expressions_spacy_all.txt')"
   ]
  },
  {
   "cell_type": "markdown",
   "metadata": {},
   "source": [
    "Manually review this file to come up with some heuristics:"
   ]
  },
  {
   "cell_type": "code",
   "execution_count": 5,
   "metadata": {},
   "outputs": [
    {
     "name": "stdout",
     "output_type": "stream",
     "text": [
      "31812\n"
     ]
    }
   ],
   "source": [
    "mwes_updated = load_txt('../data/multiword_expressions_spacy_reviewed.txt')\n",
    "print(len(mwes_updated))"
   ]
  },
  {
   "cell_type": "code",
   "execution_count": 6,
   "metadata": {},
   "outputs": [
    {
     "name": "stdout",
     "output_type": "stream",
     "text": [
      "Before filtering: 31812\n",
      "After filtering: 27980\n"
     ]
    }
   ],
   "source": [
    "mwes_final = []\n",
    "\n",
    "for mwe in mwes_updated:\n",
    "    if not mwe or len(mwe.split()) < 2 or \"None\" in mwe:\n",
    "        continue\n",
    "    \n",
    "    mwe = mwe.replace(\"’\", \"'\").replace(\"‘\", \"'\")\\\n",
    "        .replace(\"“\", '\"').replace(\"”\", '\"')\\\n",
    "        .replace(\"–\", \"-\")\n",
    "    \n",
    "    mwe = mwe.removesuffix(\"'s\").removesuffix(\"'re\")\\\n",
    "        .removesuffix(\"'ve\").removesuffix(\"'ll\")\\\n",
    "        .removesuffix(\"/\")\n",
    "        \n",
    "    mwe = mwe.removeprefix(\"A \").removeprefix(\"An \").removeprefix(\"The \")\n",
    "    \n",
    "    skip_prefixes = [\"U.S. \", \"U.N. \", \"U.K. \", \n",
    "                     \"United Nations \", \"United States \", \"United Kingdom \",\n",
    "                     \"National \", \"International \", \n",
    "                     \"World \", \"Department \", \"Ministry \", \"Board \", \n",
    "                     \"Council \", \"Commission \", \"Committee \", \"Agency \",\n",
    "                     \"Organization \", \"Association \", \"Institute \",\n",
    "                     \"Center \", \"Institution \", \"Foundation \", \"Corporation \",\n",
    "                     \"Company \", \"Group \", \"Coalition \", \"Network \", \"Union \",\n",
    "                     \"Federation \", \"Alliance \", \"Society \", \"Academy \", \"College \", \"University \", \"School \", \"Library \", \"Museum \", \"Hospital \", \"Clinic \", \"Laboratory \", \"Union \",\n",
    "                     \"Center \", \"Centers \", \"Church \", \"University \",\n",
    "                     \"Proceedings \", \"Journal \", \"Association \", \"American Association \"]\n",
    "    \n",
    "    skip_suffixes = [\" Law\", \" Act\", \" Bill\", \" Treaty\", \" Convention\", \n",
    "                     \" Agreement\", \" Protocol\", \" Resolution\", \" Declaration\", \n",
    "                     \" Program\", \" Initiative\", \" Strategy\", \" Plan\",\n",
    "                     \" Facility\", \" System\", \" Project\", \" Task Force\", \" Administration\", \" Department\", \" Ministry\", \" Bureau\", \" Office\", \" Division\", \" Branch\", \" Unit\", \" Section\", \" Group\", \" Team\", \" Committee\", \" Council\", \" Commission\", \" Board\", \" Authority\", \" Agency\", \" Organization\", \" Association\", \" Institute\", \" Center\", \" Institution\", \" Foundation\", \" Corporation\", \" Company\", \" Group\", \" Coalition\", \" Network\", \" Union\", \" Federation\", \" Alliance\", \" Society\", \" Academy\", \" College\", \" University\", \" School\", \" Library\", \" Museum\", \" Hospital\", \" Clinic\", \" Laboratory\", \" Union\", \" Church\"]\n",
    "    \n",
    "    skip_anywhere = [\"Journal\", \"Association\", \"Proceedings\"]\n",
    "    \n",
    "    if (\n",
    "        any(mwe.startswith(prefix) for prefix in skip_prefixes)\n",
    "        or any(mwe.endswith(suffix) for suffix in skip_suffixes)\n",
    "        or any(skip in mwe for skip in skip_anywhere)\n",
    "    ):\n",
    "        mwes_final.append(mwe) \n",
    "    else:\n",
    "        mwe_modif = mwe.lower().replace(\" and \", \" \").replace(\" of \", \" \")\\\n",
    "            .replace(\" the \", \" \")\n",
    "            \n",
    "        if len(mwe) < 3 or len(mwe_modif.split()) < 3:\n",
    "            mwes_final.append(mwe)\n",
    "            \n",
    "print(\"Before filtering:\", len(mwes_updated))\n",
    "print(\"After filtering:\", len(mwes_final))"
   ]
  },
  {
   "cell_type": "code",
   "execution_count": 7,
   "metadata": {},
   "outputs": [
    {
     "name": "stdout",
     "output_type": "stream",
     "text": [
      "Academy Of Motion Picture Arts And Sciences\n",
      "Academy of Motion Picture Arts\n",
      "Academy of Motion Picture Arts and Sciences\n",
      "Alton B. Parker High School\n",
      "American Academy of Periodontology Annual Convention\n",
      "American Association of Cosmetic and Plastic Surgeons\n",
      "American Association of Laundry Workers\n",
      "American Journal Of Criminal Psychology\n",
      "Atlantic Journal Of Computational Chemistry\n",
      "August Derleth Memorial High School\n",
      "Baseball Writers Association of America\n",
      "Beth Israel Deaconess Medical Center\n",
      "Bethel African Methodist Episcopal Church\n",
      "Center for Devices and Radiological Health\n",
      "Center for Papal Disease Control\n",
      "Center for Social and Economic Research\n",
      "Centers for Disease Control and Prevention\n",
      "Charley Horse Research Appropriations Act\n",
      "Church of the Divine Jesus\n",
      "Citizens for an Informed Society\n",
      "Citizenship Redefinition And Income-Based Relocation Act\n",
      "Clement C. Young High School\n",
      "College Football Playoff National Championship\n",
      "Comfort Inn and Convention Center\n",
      "Committee of College Basketball Nets\n",
      "Defense Advanced Research Projects Agency\n",
      "Denali National Park and Convention Center\n",
      "Department of Child and Family Services\n",
      "Department of Health and Human Services\n",
      "Department of Streets and Sanitation\n",
      "Department of Ways and Means\n",
      "Florida High School Athletic Association\n",
      "Global Climate and Energy Project\n",
      "Harry S Truman Middle School\n",
      "Hudspeth County Maximum Correctional Facility\n",
      "Institute for Diversity and Ethics\n",
      "Institute for Safe Medication Practices\n",
      "Intelligence Reform and Terrorism Prevention Act\n",
      "International Academy of Spiritual Unity and Cooperation of Peoples of the World\n",
      "International Campaign to Abolish Nuclear Weapons\n",
      "International Group for Historic Aircraft Recovery\n",
      "International Journal Of Robotics Research\n",
      "International Union for the Conservation of Nature\n",
      "International Union of Pure Applied Chemistry\n",
      "James G. Blaine Elementary School\n",
      "John M. Tutt Middle School\n",
      "Journal Of Applied Behavioral Science\n",
      "Journal Of Child Psychology And Psychiatry\n",
      "Journal Of East Asian Studies\n",
      "Journal Of Natural And Applied Sciences\n",
      "Journal Of The American Medical Association\n",
      "Journal Of The American Statistical Association\n",
      "Journal of the American Medical Association\n",
      "Journalism Award Giving and Award Law\n",
      "Mercy Gorham Crossing Primary Hospital\n",
      "Mohandas K. Gandhi Nuclear Testing Facility\n",
      "Montessori Sunday School Guidepost Academy\n",
      "Motion Picture Association of America\n",
      "Museum of Television and Radio\n",
      "Museum of the Middle Class\n",
      "National Alliance on Mental Illness\n",
      "National Animal Health Monitoring System\n",
      "National Assessment of Educational Progress\n",
      "National Book Critics Circle Award\n",
      "National Breast Cancer Obliviousness Foundation\n",
      "National Bureau of Economic Research\n",
      "National Center for Health Statistics\n",
      "National Center for Public Policy\n",
      "National Dog Bite Prevention Week\n",
      "National Endowment for the Arts\n",
      "National Fraternal Order of Police\n",
      "National Institute of Mental Health\n",
      "National Institute of Standards and Technology\n",
      "National Institute on Drug Abuse\n",
      "National Museum Of American History\n",
      "National Museum of American History\n",
      "National North American Asshole Council\n",
      "National Oceanic and Atmospheric Administration\n",
      "National Strategy For Combating Terrorism\n",
      "National Trust For Historic Preservation\n",
      "New England Journal Of Medicine\n",
      "New England Journal Of Teen Medicine\n",
      "New England Journal of Medicine\n",
      "New York City Police Department\n",
      "Northwestern University's School of Law\n",
      "Occupational Safety And Health Administration\n",
      "Occupational Safety and Health Administration\n",
      "Office of Student Conflict Resolution\n",
      "Pacific Gas and Electric Company\n",
      "Paid Family and Medical Leave Act\n",
      "Preserving The Eagles For The Benefit And Enhancement Of Future Generations Act\n",
      "Press Scrutiny and Registration Department\n",
      "Proceedings Of The National Academy Of Sciences\n",
      "Proceedings Of The National Academy of Sciences\n",
      "Proceedings of the National Academy of Sciences\n",
      "Recording Industry Association of America\n",
      "Robert P. Hughes High School\n",
      "Society for American Baseball Research\n",
      "Space and Atmospheric Sciences Group\n",
      "Stanford University Sports Medicine Center\n",
      "Thomas E. Dewey High School\n",
      "Thomas E. Dewey Middle School\n",
      "U.K. Special Forces and Metropolitan\n",
      "U.N. Intergovernmental Panel on Climate Change\n",
      "U.S. Alcohol and Tobacco Tax and Trade Bureau\n",
      "U.S. Army Corps of Engineers\n",
      "U.S. Army Special Masturbation Fantasy Squad\n",
      "U.S. Customs and Border Patrol\n",
      "U.S. Customs and Border Protection\n",
      "U.S. Department of Health and Human Services\n",
      "U.S. Food and Drug Administration\n",
      "U.S. Health And Human Services\n",
      "U.S. Health and Human Services\n",
      "U.S. Ninth Circuit Court of Appeals\n",
      "U.S. Out of Iraq Now\n",
      "U.S. Patent and Trademark Office\n",
      "United Nations Field Hospital And Decontamination\n",
      "United Nations World Happiness Report\n",
      "United States Department of Agriculture\n",
      "United States Department of Labor\n",
      "United States Office of Management and Budget\n",
      "University of Alabama Crimson Tide\n",
      "University of Pittsburgh Medical Center\n",
      "Walter Reed Army Medical Center\n",
      "Walter Reed National Military Medical Center\n",
      "Warren G. Harding High School\n",
      "Western Iowa Tech Community College\n",
      "World War II Victory Medal\n"
     ]
    }
   ],
   "source": [
    "for mwe in mwes_final:\n",
    "    if len(mwe.split()) > 4:\n",
    "        print(mwe)"
   ]
  },
  {
   "cell_type": "code",
   "execution_count": 8,
   "metadata": {},
   "outputs": [
    {
     "data": {
      "text/plain": [
       "27933"
      ]
     },
     "execution_count": 8,
     "metadata": {},
     "output_type": "execute_result"
    }
   ],
   "source": [
    "mwes_final = set(mwes_final)\n",
    "mwes_final = filter(None, mwes_final)\n",
    "mwes_final = sorted(mwes_final)\n",
    "len(mwes_final)"
   ]
  },
  {
   "cell_type": "code",
   "execution_count": 9,
   "metadata": {},
   "outputs": [],
   "source": [
    "save_txt(mwes_final, '../data/multiword_expressions.txt')"
   ]
  },
  {
   "cell_type": "markdown",
   "metadata": {},
   "source": [
    "# Preprocessor with MWE Recognition\n",
    "\n",
    "- MWE recognition is done *after* lowercasing"
   ]
  },
  {
   "cell_type": "code",
   "execution_count": 10,
   "metadata": {},
   "outputs": [
    {
     "data": {
      "text/plain": [
       "27933"
      ]
     },
     "execution_count": 10,
     "metadata": {},
     "output_type": "execute_result"
    }
   ],
   "source": [
    "multiwords_path = '../data/multiword_expressions.txt'\n",
    "mwes = load_txt(multiwords_path)\n",
    "len(mwes)"
   ]
  },
  {
   "cell_type": "code",
   "execution_count": 11,
   "metadata": {},
   "outputs": [],
   "source": [
    "from src.document_preprocessor import RegexTokenizer\n",
    "\n",
    "preprocessor = RegexTokenizer(\"\\w+(?:-\\w+)*(?:'[^stmrvld]\\w*)*\", \n",
    "                              lowercase=True, \n",
    "                              multiword_expressions=mwes_final)"
   ]
  },
  {
   "cell_type": "code",
   "execution_count": 12,
   "metadata": {},
   "outputs": [
    {
     "data": {
      "text/plain": [
       "['the', 'united nations', 'is', 'an', 'international', 'organization']"
      ]
     },
     "execution_count": 12,
     "metadata": {},
     "output_type": "execute_result"
    }
   ],
   "source": [
    "preprocessor.tokenize(\"The United Nations is an international organization.\")"
   ]
  },
  {
   "cell_type": "code",
   "execution_count": 13,
   "metadata": {},
   "outputs": [
    {
     "data": {
      "text/plain": [
       "['national institute on drug abuse']"
      ]
     },
     "execution_count": 13,
     "metadata": {},
     "output_type": "execute_result"
    }
   ],
   "source": [
    "preprocessor.tokenize(\"National Institute on Drug Abuse\")"
   ]
  },
  {
   "cell_type": "markdown",
   "metadata": {},
   "source": [
    "# Indexing"
   ]
  },
  {
   "cell_type": "code",
   "execution_count": 14,
   "metadata": {},
   "outputs": [
    {
     "data": {
      "text/plain": [
       "550"
      ]
     },
     "execution_count": 14,
     "metadata": {},
     "output_type": "execute_result"
    }
   ],
   "source": [
    "stopwords = set(load_txt('../data/stopwords_updated.txt'))\n",
    "len(stopwords)"
   ]
  },
  {
   "cell_type": "code",
   "execution_count": 15,
   "metadata": {},
   "outputs": [
    {
     "name": "stderr",
     "output_type": "stream",
     "text": [
      "35292it [00:10, 3298.59it/s]\n"
     ]
    }
   ],
   "source": [
    "from src.indexing import Indexer, IndexType\n",
    "\n",
    "index = Indexer.create_index(\n",
    "    index_type=IndexType.BasicInvertedIndex, \n",
    "    dataset_path=dataset_path, document_preprocessor=preprocessor, \n",
    "    stopwords=stopwords, minimum_word_frequency=1,\n",
    "    text_key=\"body\", id_key=\"docid\"\n",
    ")"
   ]
  },
  {
   "cell_type": "code",
   "execution_count": 16,
   "metadata": {},
   "outputs": [
    {
     "data": {
      "text/plain": [
       "113678"
      ]
     },
     "execution_count": 16,
     "metadata": {},
     "output_type": "execute_result"
    }
   ],
   "source": [
    "len(index.vocabulary)"
   ]
  },
  {
   "cell_type": "code",
   "execution_count": 17,
   "metadata": {},
   "outputs": [
    {
     "data": {
      "text/plain": [
       "{'term_count': 66, 'doc_frequency': 64}"
      ]
     },
     "execution_count": 17,
     "metadata": {},
     "output_type": "execute_result"
    }
   ],
   "source": [
    "index.get_term_metadata(\"united nations\")"
   ]
  },
  {
   "cell_type": "code",
   "execution_count": 18,
   "metadata": {},
   "outputs": [],
   "source": [
    "os.makedirs('output', exist_ok=True)"
   ]
  },
  {
   "cell_type": "code",
   "execution_count": 19,
   "metadata": {},
   "outputs": [],
   "source": [
    "index.save('output/index_mwe')"
   ]
  },
  {
   "cell_type": "markdown",
   "metadata": {},
   "source": [
    "# Evaluate"
   ]
  },
  {
   "cell_type": "code",
   "execution_count": 20,
   "metadata": {},
   "outputs": [],
   "source": [
    "import json\n",
    "import matplotlib.pyplot as plt\n",
    "import seaborn as sns\n",
    "sns.set_style(\"darkgrid\")"
   ]
  },
  {
   "cell_type": "code",
   "execution_count": 21,
   "metadata": {},
   "outputs": [],
   "source": [
    "relevance_test_path = '../data/relevance_test.csv'"
   ]
  },
  {
   "cell_type": "code",
   "execution_count": 22,
   "metadata": {},
   "outputs": [
    {
     "data": {
      "text/plain": [
       "654"
      ]
     },
     "execution_count": 22,
     "metadata": {},
     "output_type": "execute_result"
    }
   ],
   "source": [
    "rel_df = pd.read_csv(relevance_test_path)\n",
    "len(rel_df)"
   ]
  },
  {
   "cell_type": "markdown",
   "metadata": {},
   "source": [
    "## TF-IDF"
   ]
  },
  {
   "cell_type": "code",
   "execution_count": 23,
   "metadata": {},
   "outputs": [],
   "source": [
    "from src.ranker import TF_IDF, Ranker\n",
    "\n",
    "tfidf_scorer = TF_IDF(index)\n",
    "tfidf_ranker = Ranker(index, preprocessor, stopwords, tfidf_scorer)"
   ]
  },
  {
   "cell_type": "code",
   "execution_count": 24,
   "metadata": {},
   "outputs": [
    {
     "data": {
      "text/plain": [
       "(0.2512931166056166, 0.5491434029276523)"
      ]
     },
     "execution_count": 24,
     "metadata": {},
     "output_type": "execute_result"
    }
   ],
   "source": [
    "from src.relevance import run_relevance_tests\n",
    "\n",
    "metrics_tfidf_mwe = run_relevance_tests(relevance_test_path, ranker=tfidf_ranker, encoding=\"utf-8-sig\")\n",
    "metrics_tfidf_mwe['map'], metrics_tfidf_mwe['ndcg']"
   ]
  },
  {
   "cell_type": "code",
   "execution_count": 25,
   "metadata": {},
   "outputs": [],
   "source": [
    "with open('output/metrics_tfidf_mwe.json', 'w') as f:\n",
    "    json.dump(metrics_tfidf_mwe, f, indent=4)"
   ]
  },
  {
   "cell_type": "markdown",
   "metadata": {},
   "source": [
    "## BM25 "
   ]
  },
  {
   "cell_type": "code",
   "execution_count": 26,
   "metadata": {},
   "outputs": [],
   "source": [
    "from src.ranker import BM25, Ranker\n",
    "\n",
    "bm25_scorer = BM25(index)\n",
    "bm25_ranker = Ranker(index, preprocessor, stopwords, bm25_scorer)"
   ]
  },
  {
   "cell_type": "code",
   "execution_count": 27,
   "metadata": {},
   "outputs": [
    {
     "data": {
      "text/plain": [
       "(0.3372589794464794, 0.572555133279352)"
      ]
     },
     "execution_count": 27,
     "metadata": {},
     "output_type": "execute_result"
    }
   ],
   "source": [
    "from src.relevance import run_relevance_tests\n",
    "\n",
    "metrics_bm25_mwe = run_relevance_tests(relevance_test_path, ranker=bm25_ranker, encoding=\"utf-8-sig\")\n",
    "metrics_bm25_mwe['map'], metrics_bm25_mwe['ndcg']"
   ]
  },
  {
   "cell_type": "code",
   "execution_count": 28,
   "metadata": {},
   "outputs": [],
   "source": [
    "with open('output/metrics_bm25_mwe.json', 'w') as f:\n",
    "    json.dump(metrics_bm25_mwe, f)"
   ]
  },
  {
   "cell_type": "markdown",
   "metadata": {},
   "source": [
    "# Compare "
   ]
  },
  {
   "cell_type": "code",
   "execution_count": 29,
   "metadata": {},
   "outputs": [],
   "source": [
    "# Generated in 02_Baselines.ipynb\n",
    "with open('output/metrics_random.json', 'r') as f:\n",
    "    metrics_random = json.load(f)\n",
    "    \n",
    "with open('output/metrics_tfidf.json', 'r') as f:\n",
    "    metrics_tfidf = json.load(f)\n",
    "    \n",
    "with open('output/metrics_bm25.json', 'r') as f:\n",
    "    metrics_bm25 = json.load(f)"
   ]
  },
  {
   "cell_type": "code",
   "execution_count": 30,
   "metadata": {},
   "outputs": [],
   "source": [
    "ranker_metrics = {\n",
    "    \"Random\": metrics_random,\n",
    "    \"TF-IDF\": metrics_tfidf,\n",
    "    \"BM25\": metrics_bm25,\n",
    "    \"TF-IDF (MWE)\": metrics_tfidf_mwe,\n",
    "    \"BM25 (MWE)\": metrics_bm25_mwe,\n",
    "}\n",
    "\n",
    "metrics_df = []\n",
    "for ranker, metrics in ranker_metrics.items():\n",
    "    metrics_df.append({\n",
    "        \"ranker\": ranker, \"metric\": \"MAP@10\", \n",
    "        \"mean_score\": metrics[\"map\"], \"scores\": metrics[\"map_list\"]\n",
    "    })\n",
    "    metrics_df.append({\n",
    "        \"ranker\": ranker, \"metric\": \"NDCG@10\", \n",
    "        \"mean_score\": metrics[\"ndcg\"], \"scores\": metrics[\"ndcg_list\"]\n",
    "    })\n",
    "\n",
    "metrics_df = pd.DataFrame(metrics_df)\n",
    "metrics_df_long = metrics_df.drop(\"mean_score\", axis=1).explode(\"scores\")"
   ]
  },
  {
   "cell_type": "code",
   "execution_count": 31,
   "metadata": {},
   "outputs": [],
   "source": [
    "metrics_df_long.to_csv(\"output/metrics_baselines_mwe.csv\", index=False)"
   ]
  },
  {
   "cell_type": "code",
   "execution_count": 32,
   "metadata": {},
   "outputs": [
    {
     "data": {
      "image/png": "[encoded data removed]",
      "text/plain": [
       "<Figure size 640x480 with 1 Axes>"
      ]
     },
     "metadata": {},
     "output_type": "display_data"
    }
   ],
   "source": [
    "sns.barplot(data=metrics_df_long, x=\"metric\", y=\"scores\", hue=\"ranker\", \n",
    "            estimator='mean', errorbar=('ci', 95), width=0.5, errwidth=1)\n",
    "\n",
    "plt.title(\"Mean Performance of Rankers on Test Set (with 95% C.I.)\")\n",
    "plt.legend(bbox_to_anchor=(1,1))\n",
    "plt.xlabel(\"Metric\")\n",
    "plt.ylabel(\"Score\")\n",
    "plt.show()"
   ]
  },
  {
   "cell_type": "code",
   "execution_count": null,
   "metadata": {},
   "outputs": [],
   "source": []
  }
 ],
 "metadata": {
  "kernelspec": {
   "display_name": "si650",
   "language": "python",
   "name": "python3"
  },
  "language_info": {
   "codemirror_mode": {
    "name": "ipython",
    "version": 3
   },
   "file_extension": ".py",
   "mimetype": "text/x-python",
   "name": "python",
   "nbconvert_exporter": "python",
   "pygments_lexer": "ipython3",
   "version": "3.11.2"
  }
 },
 "nbformat": 4,
 "nbformat_minor": 2
}
