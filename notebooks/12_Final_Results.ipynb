{
 "cells": [
  {
   "cell_type": "code",
   "execution_count": 1,
   "metadata": {},
   "outputs": [],
   "source": [
    "%reload_ext autoreload\n",
    "%autoreload 2\n",
    "import os\n",
    "import sys\n",
    "sys.path.append('..')\n",
    "import warnings\n",
    "warnings.filterwarnings('ignore')\n",
    "\n",
    "import csv\n",
    "import numpy as np\n",
    "import matplotlib.pyplot as plt\n",
    "import pandas as pd\n",
    "import json\n",
    "import matplotlib.pyplot as plt\n",
    "import seaborn as sns\n",
    "sns.set_style(\"darkgrid\")\n",
    "\n",
    "from src.document_preprocessor import RegexTokenizer\n",
    "from src.indexing import BasicInvertedIndex, Indexer, IndexType\n",
    "from src.ranker import BM25, Ranker\n",
    "from src.relevance import run_relevance_tests"
   ]
  },
  {
   "cell_type": "code",
   "execution_count": 2,
   "metadata": {},
   "outputs": [],
   "source": [
    "dataset_path = '../data/processed_articles_dedup_nsfwtags_sarcasm.csv'\n",
    "multiwords_path = '../data/multiword_expressions.txt'\n",
    "stopwords_path = '../data/stopwords_updated.txt'\n",
    "\n",
    "relevance_train_path = '../data/relevance_train.csv'\n",
    "relevance_test_path = '../data/relevance_test.csv'"
   ]
  },
  {
   "cell_type": "code",
   "execution_count": 3,
   "metadata": {},
   "outputs": [],
   "source": [
    "from src.utils import load_txt\n",
    "\n",
    "mwes = load_txt(multiwords_path)\n",
    "stopwords = load_txt(stopwords_path)"
   ]
  },
  {
   "cell_type": "code",
   "execution_count": 4,
   "metadata": {},
   "outputs": [],
   "source": [
    "preprocessor = RegexTokenizer(\"\\w+(?:-\\w+)*(?:'[^stmrvld]\\w*)*\", lowercase=True)\n",
    "preprocessor_mwe = RegexTokenizer(\"\\w+(?:-\\w+)*(?:'[^stmrvld]\\w*)*\", lowercase=True, multiword_expressions=mwes)"
   ]
  },
  {
   "cell_type": "markdown",
   "metadata": {},
   "source": [
    "# Index "
   ]
  },
  {
   "cell_type": "code",
   "execution_count": 5,
   "metadata": {},
   "outputs": [],
   "source": [
    "from src.indexing import Indexer, IndexType"
   ]
  },
  {
   "cell_type": "code",
   "execution_count": 6,
   "metadata": {},
   "outputs": [
    {
     "name": "stderr",
     "output_type": "stream",
     "text": [
      "35292it [00:08, 4389.57it/s]\n"
     ]
    }
   ],
   "source": [
    "index = Indexer.create_index(\n",
    "    index_type=IndexType.BasicInvertedIndex, dataset_path=dataset_path, document_preprocessor=preprocessor, \n",
    "    stopwords=stopwords, minimum_word_frequency=0, text_key=\"body\", id_key=\"docid\"\n",
    ")\n",
    "index.save('output/index')"
   ]
  },
  {
   "cell_type": "code",
   "execution_count": 7,
   "metadata": {},
   "outputs": [
    {
     "name": "stderr",
     "output_type": "stream",
     "text": [
      "35292it [00:12, 2810.96it/s]\n"
     ]
    }
   ],
   "source": [
    "from src.indexing import Indexer, IndexType\n",
    "\n",
    "index_mwe = Indexer.create_index(\n",
    "    index_type=IndexType.BasicInvertedIndex, dataset_path=dataset_path, document_preprocessor=preprocessor_mwe, \n",
    "    stopwords=stopwords, minimum_word_frequency=0, text_key=\"body\", id_key=\"docid\"\n",
    ")\n",
    "index_mwe.save('output/index')"
   ]
  },
  {
   "cell_type": "markdown",
   "metadata": {},
   "source": [
    "# Baselines"
   ]
  },
  {
   "cell_type": "markdown",
   "metadata": {},
   "source": [
    "## No MWE"
   ]
  },
  {
   "cell_type": "code",
   "execution_count": 8,
   "metadata": {},
   "outputs": [
    {
     "data": {
      "text/plain": [
       "(0.0, 0.0025518123461001855)"
      ]
     },
     "execution_count": 8,
     "metadata": {},
     "output_type": "execute_result"
    }
   ],
   "source": [
    "from src.ranker import Random, Ranker\n",
    "\n",
    "random_scorer = Random(index)\n",
    "random_ranker = Ranker(index, preprocessor, stopwords, random_scorer)\n",
    "\n",
    "metrics_random = run_relevance_tests(\"../data/relevance_test.csv\", ranker=random_ranker, encoding=\"utf-8-sig\")\n",
    "metrics_random['map'], metrics_random['ndcg']"
   ]
  },
  {
   "cell_type": "code",
   "execution_count": 9,
   "metadata": {},
   "outputs": [
    {
     "data": {
      "text/plain": [
       "(0.24098901098901096, 0.5555199402545172)"
      ]
     },
     "execution_count": 9,
     "metadata": {},
     "output_type": "execute_result"
    }
   ],
   "source": [
    "from src.ranker import TF_IDF, Ranker\n",
    "\n",
    "tfidf_scorer = TF_IDF(index)\n",
    "tfidf_ranker = Ranker(index, preprocessor, stopwords, tfidf_scorer)\n",
    "\n",
    "metrics_tfidf = run_relevance_tests(\"../data/relevance_test.csv\", ranker=tfidf_ranker, encoding=\"utf-8-sig\")\n",
    "metrics_tfidf['map'], metrics_tfidf['ndcg']"
   ]
  },
  {
   "cell_type": "code",
   "execution_count": 10,
   "metadata": {},
   "outputs": [
    {
     "data": {
      "text/plain": [
       "(0.3393813593813594, 0.5792890913146169)"
      ]
     },
     "execution_count": 10,
     "metadata": {},
     "output_type": "execute_result"
    }
   ],
   "source": [
    "from src.ranker import BM25, Ranker\n",
    "\n",
    "bm25_scorer = BM25(index)\n",
    "bm25_ranker = Ranker(index, preprocessor, stopwords, bm25_scorer)\n",
    "\n",
    "metrics_bm25 = run_relevance_tests(\"../data/relevance_test.csv\", ranker=bm25_ranker, encoding=\"utf-8-sig\")\n",
    "metrics_bm25['map'], metrics_bm25['ndcg']"
   ]
  },
  {
   "cell_type": "markdown",
   "metadata": {},
   "source": [
    "## MWE"
   ]
  },
  {
   "cell_type": "code",
   "execution_count": 11,
   "metadata": {},
   "outputs": [
    {
     "data": {
      "text/plain": [
       "(0.2512931166056166, 0.5491434029276523)"
      ]
     },
     "execution_count": 11,
     "metadata": {},
     "output_type": "execute_result"
    }
   ],
   "source": [
    "# TF-IDF With preprocessor_mwe and index_mwe\n",
    "from src.ranker import TF_IDF, Ranker\n",
    "\n",
    "tfidf_scorer_mwe = TF_IDF(index_mwe)\n",
    "tfidf_ranker_mwe = Ranker(index_mwe, preprocessor_mwe, stopwords, tfidf_scorer_mwe)\n",
    "\n",
    "metrics_tfidf_mwe = run_relevance_tests(\"../data/relevance_test.csv\", ranker=tfidf_ranker_mwe, encoding=\"utf-8-sig\")\n",
    "metrics_tfidf_mwe['map'], metrics_tfidf_mwe['ndcg']"
   ]
  },
  {
   "cell_type": "code",
   "execution_count": 12,
   "metadata": {},
   "outputs": [
    {
     "data": {
      "text/plain": [
       "(0.3372589794464794, 0.572555133279352)"
      ]
     },
     "execution_count": 12,
     "metadata": {},
     "output_type": "execute_result"
    }
   ],
   "source": [
    "# BM25 With preprocessor_mwe and index_mwe\n",
    "from src.ranker import BM25, Ranker\n",
    "\n",
    "bm25_scorer_mwe = BM25(index_mwe)\n",
    "bm25_ranker_mwe = Ranker(index_mwe, preprocessor_mwe, stopwords, bm25_scorer_mwe)\n",
    "\n",
    "metrics_bm25_mwe = run_relevance_tests(\"../data/relevance_test.csv\", ranker=bm25_ranker_mwe, encoding=\"utf-8-sig\")\n",
    "metrics_bm25_mwe['map'], metrics_bm25_mwe['ndcg']"
   ]
  },
  {
   "cell_type": "markdown",
   "metadata": {},
   "source": [
    "# L2R"
   ]
  },
  {
   "cell_type": "code",
   "execution_count": 13,
   "metadata": {},
   "outputs": [
    {
     "name": "stderr",
     "output_type": "stream",
     "text": [
      "35292it [00:01, 23378.18it/s]\n"
     ]
    }
   ],
   "source": [
    "# Create title index\n",
    "index_title = Indexer.create_index(\n",
    "    index_type=IndexType.BasicInvertedIndex, dataset_path=dataset_path, document_preprocessor=preprocessor, \n",
    "    stopwords=stopwords, minimum_word_frequency=0, text_key=\"headline\", id_key=\"docid\"\n",
    ")\n",
    "index_title.save('output/index_title')"
   ]
  },
  {
   "cell_type": "code",
   "execution_count": 14,
   "metadata": {},
   "outputs": [],
   "source": [
    "from src.l2r import L2RFeatureExtractor\n",
    "\n",
    "fe = L2RFeatureExtractor(index, index_title, preprocessor, stopwords)"
   ]
  },
  {
   "cell_type": "code",
   "execution_count": 15,
   "metadata": {},
   "outputs": [],
   "source": [
    "from src.l2r import L2RRanker"
   ]
  },
  {
   "cell_type": "markdown",
   "metadata": {},
   "source": [
    "## BM25 Ranker"
   ]
  },
  {
   "cell_type": "code",
   "execution_count": 16,
   "metadata": {},
   "outputs": [
    {
     "name": "stdout",
     "output_type": "stream",
     "text": [
      "[LightGBM] [Info] Auto-choosing row-wise multi-threading, the overhead of testing was 0.001227 seconds.\n",
      "You can set `force_row_wise=true` to remove the overhead.\n",
      "And if memory is not enough, you can set `force_col_wise=true`.\n",
      "[LightGBM] [Info] Total Bins 1404\n",
      "[LightGBM] [Info] Number of data points in the train set: 1907, number of used features: 10\n"
     ]
    },
    {
     "data": {
      "text/plain": [
       "(0.1923878205128205, 0.42867017610817604)"
      ]
     },
     "execution_count": 16,
     "metadata": {},
     "output_type": "execute_result"
    }
   ],
   "source": [
    "# L2R with BM25 ranker\n",
    "bm25_scorer = BM25(index)\n",
    "bm25_ranker = Ranker(index, preprocessor, stopwords, bm25_scorer)\n",
    "\n",
    "l2r_ranker = L2RRanker(index, index_title, preprocessor, stopwords, bm25_ranker, fe)\n",
    "l2r_ranker.train(relevance_train_path)\n",
    "\n",
    "metrics_l2r = run_relevance_tests(relevance_test_path, ranker=l2r_ranker, encoding=\"utf-8-sig\")\n",
    "metrics_l2r['map'], metrics_l2r['ndcg']"
   ]
  },
  {
   "cell_type": "code",
   "execution_count": 17,
   "metadata": {},
   "outputs": [
    {
     "data": {
      "text/html": [
       "<div>\n",
       "<style scoped>\n",
       "    .dataframe tbody tr th:only-of-type {\n",
       "        vertical-align: middle;\n",
       "    }\n",
       "\n",
       "    .dataframe tbody tr th {\n",
       "        vertical-align: top;\n",
       "    }\n",
       "\n",
       "    .dataframe thead th {\n",
       "        text-align: right;\n",
       "    }\n",
       "</style>\n",
       "<table border=\"1\" class=\"dataframe\">\n",
       "  <thead>\n",
       "    <tr style=\"text-align: right;\">\n",
       "      <th></th>\n",
       "      <th>feature</th>\n",
       "      <th>importance</th>\n",
       "    </tr>\n",
       "  </thead>\n",
       "  <tbody>\n",
       "    <tr>\n",
       "      <th>8</th>\n",
       "      <td>pivoted_norm_doc</td>\n",
       "      <td>1314.784666</td>\n",
       "    </tr>\n",
       "    <tr>\n",
       "      <th>6</th>\n",
       "      <td>tf_idf_title</td>\n",
       "      <td>760.231893</td>\n",
       "    </tr>\n",
       "    <tr>\n",
       "      <th>9</th>\n",
       "      <td>sarcasm_score</td>\n",
       "      <td>332.061319</td>\n",
       "    </tr>\n",
       "    <tr>\n",
       "      <th>4</th>\n",
       "      <td>tf_idf_doc</td>\n",
       "      <td>314.893411</td>\n",
       "    </tr>\n",
       "    <tr>\n",
       "      <th>1</th>\n",
       "      <td>title_length</td>\n",
       "      <td>188.167881</td>\n",
       "    </tr>\n",
       "    <tr>\n",
       "      <th>0</th>\n",
       "      <td>doc_length</td>\n",
       "      <td>155.234588</td>\n",
       "    </tr>\n",
       "    <tr>\n",
       "      <th>7</th>\n",
       "      <td>bm25_doc</td>\n",
       "      <td>128.718271</td>\n",
       "    </tr>\n",
       "    <tr>\n",
       "      <th>2</th>\n",
       "      <td>query_length</td>\n",
       "      <td>81.747021</td>\n",
       "    </tr>\n",
       "    <tr>\n",
       "      <th>5</th>\n",
       "      <td>tf_title</td>\n",
       "      <td>73.645780</td>\n",
       "    </tr>\n",
       "    <tr>\n",
       "      <th>3</th>\n",
       "      <td>tf_doc</td>\n",
       "      <td>47.383520</td>\n",
       "    </tr>\n",
       "  </tbody>\n",
       "</table>\n",
       "</div>"
      ],
      "text/plain": [
       "            feature   importance\n",
       "8  pivoted_norm_doc  1314.784666\n",
       "6      tf_idf_title   760.231893\n",
       "9     sarcasm_score   332.061319\n",
       "4        tf_idf_doc   314.893411\n",
       "1      title_length   188.167881\n",
       "0        doc_length   155.234588\n",
       "7          bm25_doc   128.718271\n",
       "2      query_length    81.747021\n",
       "5          tf_title    73.645780\n",
       "3            tf_doc    47.383520"
      ]
     },
     "execution_count": 17,
     "metadata": {},
     "output_type": "execute_result"
    }
   ],
   "source": [
    "feature_names = [\"doc_length\", \"title_length\", \"query_length\", \n",
    "                 \"tf_doc\", \"tf_idf_doc\", \"tf_title\", \"tf_idf_title\", \n",
    "                 \"bm25_doc\", \"pivoted_norm_doc\", \"sarcasm_score\"]\n",
    "\n",
    "feature_importances = pd.DataFrame({\n",
    "    \"feature\": feature_names,\n",
    "    \"importance\": l2r_ranker.model.model.feature_importances_\n",
    "}).sort_values(\"importance\", ascending=False)\n",
    "\n",
    "feature_importances.head(10)"
   ]
  },
  {
   "cell_type": "code",
   "execution_count": 19,
   "metadata": {},
   "outputs": [
    {
     "data": {
      "image/png": "[encoded data removed]",
      "text/plain": [
       "<Figure size 800x600 with 1 Axes>"
      ]
     },
     "metadata": {},
     "output_type": "display_data"
    }
   ],
   "source": [
    "sns.set_style(\"darkgrid\")\n",
    "plt.figure(figsize=(8, 6))\n",
    "sns.barplot(data=feature_importances, y=\"feature\", x=\"importance\", palette=\"viridis\")\n",
    "plt.title(\"Feature Importances for the Learning to Rank Model\")\n",
    "plt.show()"
   ]
  },
  {
   "cell_type": "markdown",
   "metadata": {},
   "source": [
    "## VectorRanker"
   ]
  },
  {
   "cell_type": "code",
   "execution_count": 26,
   "metadata": {},
   "outputs": [
    {
     "data": {
      "text/plain": [
       "(35279, (35279, 384))"
      ]
     },
     "execution_count": 26,
     "metadata": {},
     "output_type": "execute_result"
    }
   ],
   "source": [
    "embeddings_path = '../data/body_embeddings.npy'\n",
    "encoded_docs = np.load(embeddings_path)\n",
    "\n",
    "len(index.document_metadata.keys()), encoded_docs.shape"
   ]
  },
  {
   "cell_type": "code",
   "execution_count": 27,
   "metadata": {},
   "outputs": [
    {
     "name": "stdout",
     "output_type": "stream",
     "text": [
      "[LightGBM] [Info] Auto-choosing row-wise multi-threading, the overhead of testing was 0.000149 seconds.\n",
      "You can set `force_row_wise=true` to remove the overhead.\n",
      "And if memory is not enough, you can set `force_col_wise=true`.\n",
      "[LightGBM] [Info] Total Bins 1404\n",
      "[LightGBM] [Info] Number of data points in the train set: 1907, number of used features: 10\n"
     ]
    }
   ],
   "source": [
    "# L2R with vector ranker\n",
    "from src.vector_ranker import VectorRanker\n",
    "\n",
    "vector_ranker = VectorRanker('sentence-transformers/msmarco-MiniLM-L12-cos-v5',\n",
    "                             encoded_docs, list(index.document_metadata.keys()))\n",
    "\n",
    "l2r_vector_ranker = L2RRanker(index, index_title, preprocessor, stopwords, vector_ranker, fe)\n",
    "l2r_vector_ranker.train(relevance_train_path)"
   ]
  },
  {
   "cell_type": "code",
   "execution_count": 28,
   "metadata": {},
   "outputs": [
    {
     "data": {
      "text/plain": [
       "(0.12415038665038663, 0.2193864320821005)"
      ]
     },
     "execution_count": 28,
     "metadata": {},
     "output_type": "execute_result"
    }
   ],
   "source": [
    "metrics_l2r_vector = run_relevance_tests(relevance_test_path, ranker=l2r_vector_ranker, encoding=\"utf-8-sig\")\n",
    "metrics_l2r_vector['map'], metrics_l2r_vector['ndcg']"
   ]
  },
  {
   "cell_type": "markdown",
   "metadata": {},
   "source": [
    "# HybridRanker"
   ]
  },
  {
   "cell_type": "code",
   "execution_count": 29,
   "metadata": {},
   "outputs": [],
   "source": [
    "# Load the model\n",
    "from sentence_transformers import SentenceTransformer\n",
    "\n",
    "model = SentenceTransformer('sentence-transformers/all-MiniLM-L6-v2')\n",
    "\n",
    "class HybridRanker:\n",
    "    def __init__(self, base_ranker: Ranker, raw_text_dict: dict, alpha: float = 0.5, rerank_top_k: int = 10):\n",
    "        self.base_ranker = base_ranker\n",
    "        self.raw_text_dict = raw_text_dict\n",
    "        self.alpha = alpha\n",
    "        self.rerank_top_k = rerank_top_k\n",
    "        self.model = model  # Use the loaded model\n",
    "\n",
    "    def query(self, query: str) -> list[tuple[int, float]]:\n",
    "        # Get initial BM25 rankings\n",
    "        bm25_results = self.base_ranker.query(query)\n",
    "\n",
    "        # Only rerank top k documents\n",
    "        top_k_results = bm25_results[:self.rerank_top_k]\n",
    "\n",
    "        # Get query embedding\n",
    "        query_embedding = self.model.encode(query, normalize_embeddings=True)\n",
    "\n",
    "        # Calculate BERT scores for top k\n",
    "        reranked_scores = []\n",
    "        docs = [self.raw_text_dict[docid] for docid, _ in top_k_results]\n",
    "        doc_embeddings = self.model.encode(docs)\n",
    "\n",
    "        # Calculate similarities\n",
    "        for i, (docid, bm25_score) in enumerate(top_k_results):\n",
    "            # Compute cosine similarity\n",
    "            bert_score = float(doc_embeddings[i] @ query_embedding)\n",
    "\n",
    "            # Combine scores using alpha\n",
    "            final_score = self.alpha * bm25_score + (1 - self.alpha) * bert_score\n",
    "            reranked_scores.append((docid, final_score))\n",
    "\n",
    "        # Sort by combined score\n",
    "        reranked_scores.sort(key=lambda x: x[1], reverse=True)\n",
    "\n",
    "        return reranked_scores + bm25_results[self.rerank_top_k:]\n",
    "\n",
    "# Load raw text for documents\n",
    "raw_text_dict = {}\n",
    "with open(dataset_path, 'r', encoding='utf-8') as f:\n",
    "    reader = csv.DictReader(f)\n",
    "    for row in reader:\n",
    "        raw_text_dict[int(row['docid'])] = row['body']"
   ]
  },
  {
   "cell_type": "code",
   "execution_count": 30,
   "metadata": {},
   "outputs": [
    {
     "data": {
      "text/plain": [
       "(0.3347008547008547, 0.5845597217396821)"
      ]
     },
     "execution_count": 30,
     "metadata": {},
     "output_type": "execute_result"
    }
   ],
   "source": [
    "# Create hybrid ranker\n",
    "bm25_scorer = BM25(index)\n",
    "bm25_ranker = Ranker(index, preprocessor, stopwords, bm25_scorer)\n",
    "\n",
    "hybrid_ranker = HybridRanker(\n",
    "    base_ranker=bm25_ranker,\n",
    "    raw_text_dict=raw_text_dict,\n",
    "    alpha=0.3,\n",
    "    rerank_top_k=10\n",
    ")\n",
    "\n",
    "# Run evaluation\n",
    "metrics_hybrid = run_relevance_tests(\"../data/relevance_test.csv\", ranker=hybrid_ranker)\n",
    "metrics_hybrid['map'], metrics_hybrid['ndcg']"
   ]
  },
  {
   "cell_type": "markdown",
   "metadata": {},
   "source": [
    "# Combine all metrics"
   ]
  },
  {
   "cell_type": "code",
   "execution_count": 31,
   "metadata": {},
   "outputs": [],
   "source": [
    "metrics = {\n",
    "    'Random': metrics_random,\n",
    "    'TF-IDF': metrics_tfidf,\n",
    "    'BM25': metrics_bm25,\n",
    "    'TF-IDF (MWE)': metrics_tfidf_mwe,\n",
    "    'BM25 (MWE)': metrics_bm25_mwe,\n",
    "    'L2R (BM25)': metrics_l2r,\n",
    "    'L2R (VectorRanker)': metrics_l2r_vector,\n",
    "    'HybridRanker': metrics_hybrid\n",
    "}\n",
    "\n",
    "metrics_df = []\n",
    "for ranker, metrics in metrics.items():\n",
    "    metrics_df.append({\n",
    "        \"ranker\": ranker, \"metric\": \"MAP@10\", \n",
    "        \"mean_score\": metrics[\"map\"], \"scores\": metrics[\"map_list\"]\n",
    "    })\n",
    "    metrics_df.append({\n",
    "        \"ranker\": ranker, \"metric\": \"NDCG@10\", \n",
    "        \"mean_score\": metrics[\"ndcg\"], \"scores\": metrics[\"ndcg_list\"]\n",
    "    })\n",
    "    \n",
    "\n",
    "metrics_df = pd.DataFrame(metrics_df)\n",
    "metrics_df_long = metrics_df.drop(\"mean_score\", axis=1).explode(\"scores\")\n",
    "\n",
    "metrics_df_long.to_csv(\"output/final_metrics.csv\", index=False)"
   ]
  },
  {
   "cell_type": "code",
   "execution_count": null,
   "metadata": {},
   "outputs": [
    {
     "data": {
      "image/png": "[encoded data removed]",
      "text/plain": [
       "<Figure size 1000x600 with 1 Axes>"
      ]
     },
     "metadata": {},
     "output_type": "display_data"
    }
   ],
   "source": [
    "plt.figure(figsize=(10, 6))\n",
    "sns.barplot(data=metrics_df_long, x=\"metric\", y=\"scores\", hue=\"ranker\", \n",
    "            estimator='mean', errorbar=('ci', 95), width=0.5, errwidth=1)\n",
    "\n",
    "plt.title(\"Mean Performance of All Rankers on Test Set\")\n",
    "# plt.legend(bbox_to_anchor=(1,1))\n",
    "plt.xlabel(\"Metric\")\n",
    "plt.ylabel(\"Score\")\n",
    "plt.show()"
   ]
  },
  {
   "cell_type": "code",
   "execution_count": 43,
   "metadata": {},
   "outputs": [
    {
     "data": {
      "text/html": [
       "<div>\n",
       "<style scoped>\n",
       "    .dataframe tbody tr th:only-of-type {\n",
       "        vertical-align: middle;\n",
       "    }\n",
       "\n",
       "    .dataframe tbody tr th {\n",
       "        vertical-align: top;\n",
       "    }\n",
       "\n",
       "    .dataframe thead th {\n",
       "        text-align: right;\n",
       "    }\n",
       "</style>\n",
       "<table border=\"1\" class=\"dataframe\">\n",
       "  <thead>\n",
       "    <tr style=\"text-align: right;\">\n",
       "      <th>metric</th>\n",
       "      <th>MAP@10</th>\n",
       "      <th>NDCG@10</th>\n",
       "    </tr>\n",
       "    <tr>\n",
       "      <th>ranker</th>\n",
       "      <th></th>\n",
       "      <th></th>\n",
       "    </tr>\n",
       "  </thead>\n",
       "  <tbody>\n",
       "    <tr>\n",
       "      <th>BM25</th>\n",
       "      <td>0.339381</td>\n",
       "      <td>0.579289</td>\n",
       "    </tr>\n",
       "    <tr>\n",
       "      <th>BM25 (MWE)</th>\n",
       "      <td>0.337259</td>\n",
       "      <td>0.572555</td>\n",
       "    </tr>\n",
       "    <tr>\n",
       "      <th>HybridRanker</th>\n",
       "      <td>0.334701</td>\n",
       "      <td>0.584560</td>\n",
       "    </tr>\n",
       "    <tr>\n",
       "      <th>L2R (BM25)</th>\n",
       "      <td>0.192388</td>\n",
       "      <td>0.428670</td>\n",
       "    </tr>\n",
       "    <tr>\n",
       "      <th>L2R (VectorRanker)</th>\n",
       "      <td>0.124150</td>\n",
       "      <td>0.219386</td>\n",
       "    </tr>\n",
       "    <tr>\n",
       "      <th>Random</th>\n",
       "      <td>0.000000</td>\n",
       "      <td>0.002552</td>\n",
       "    </tr>\n",
       "    <tr>\n",
       "      <th>TF-IDF</th>\n",
       "      <td>0.240989</td>\n",
       "      <td>0.555520</td>\n",
       "    </tr>\n",
       "    <tr>\n",
       "      <th>TF-IDF (MWE)</th>\n",
       "      <td>0.251293</td>\n",
       "      <td>0.549143</td>\n",
       "    </tr>\n",
       "  </tbody>\n",
       "</table>\n",
       "</div>"
      ],
      "text/plain": [
       "metric                MAP@10   NDCG@10\n",
       "ranker                                \n",
       "BM25                0.339381  0.579289\n",
       "BM25 (MWE)          0.337259  0.572555\n",
       "HybridRanker        0.334701  0.584560\n",
       "L2R (BM25)          0.192388  0.428670\n",
       "L2R (VectorRanker)  0.124150  0.219386\n",
       "Random              0.000000  0.002552\n",
       "TF-IDF              0.240989  0.555520\n",
       "TF-IDF (MWE)        0.251293  0.549143"
      ]
     },
     "execution_count": 43,
     "metadata": {},
     "output_type": "execute_result"
    }
   ],
   "source": [
    "metrics_df.pivot(index=\"ranker\", columns=\"metric\", values=\"mean_score\")"
   ]
  },
  {
   "cell_type": "code",
   "execution_count": 36,
   "metadata": {},
   "outputs": [],
   "source": [
    "with open('output/final_metrics.tex', 'w') as file_out:\n",
    "    file_out.write(metrics_df.pivot(index=\"ranker\", columns=\"metric\", values=\"mean_score\").to_latex(float_format='%0.2f'))"
   ]
  },
  {
   "cell_type": "code",
   "execution_count": null,
   "metadata": {},
   "outputs": [],
   "source": []
  }
 ],
 "metadata": {
  "kernelspec": {
   "display_name": "si650",
   "language": "python",
   "name": "python3"
  },
  "language_info": {
   "codemirror_mode": {
    "name": "ipython",
    "version": 3
   },
   "file_extension": ".py",
   "mimetype": "text/x-python",
   "name": "python",
   "nbconvert_exporter": "python",
   "pygments_lexer": "ipython3",
   "version": "3.11.2"
  }
 },
 "nbformat": 4,
 "nbformat_minor": 2
}
