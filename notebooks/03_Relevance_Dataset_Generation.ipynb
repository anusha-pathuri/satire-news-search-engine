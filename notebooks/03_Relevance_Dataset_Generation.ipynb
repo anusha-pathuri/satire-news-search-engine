{
 "cells": [
  {
   "cell_type": "code",
   "execution_count": 1,
   "metadata": {},
   "outputs": [],
   "source": [
    "%reload_ext autoreload\n",
    "%autoreload 2\n",
    "import os\n",
    "import sys\n",
    "sys.path.append('..')\n",
    "import warnings\n",
    "warnings.filterwarnings('ignore')\n",
    "import pandas as pd\n",
    "import numpy as np\n",
    "import matplotlib.pyplot as plt\n",
    "import seaborn as sns"
   ]
  },
  {
   "cell_type": "code",
   "execution_count": 2,
   "metadata": {},
   "outputs": [],
   "source": [
    "from src.utils import load_txt, save_txt"
   ]
  },
  {
   "cell_type": "markdown",
   "metadata": {},
   "source": [
    "# Load dataset\n",
    "\n",
    "Articles with docids"
   ]
  },
  {
   "cell_type": "code",
   "execution_count": 3,
   "metadata": {},
   "outputs": [],
   "source": [
    "df = pd.read_csv('../data/processed_articles.csv')"
   ]
  },
  {
   "cell_type": "code",
   "execution_count": 4,
   "metadata": {},
   "outputs": [
    {
     "data": {
      "text/plain": [
       "(35907, 4)"
      ]
     },
     "execution_count": 4,
     "metadata": {},
     "output_type": "execute_result"
    }
   ],
   "source": [
    "df.shape"
   ]
  },
  {
   "cell_type": "code",
   "execution_count": 5,
   "metadata": {},
   "outputs": [
    {
     "data": {
      "text/html": [
       "<div>\n",
       "<style scoped>\n",
       "    .dataframe tbody tr th:only-of-type {\n",
       "        vertical-align: middle;\n",
       "    }\n",
       "\n",
       "    .dataframe tbody tr th {\n",
       "        vertical-align: top;\n",
       "    }\n",
       "\n",
       "    .dataframe thead th {\n",
       "        text-align: right;\n",
       "    }\n",
       "</style>\n",
       "<table border=\"1\" class=\"dataframe\">\n",
       "  <thead>\n",
       "    <tr style=\"text-align: right;\">\n",
       "      <th></th>\n",
       "      <th>docid</th>\n",
       "      <th>headline</th>\n",
       "      <th>body</th>\n",
       "      <th>website</th>\n",
       "    </tr>\n",
       "  </thead>\n",
       "  <tbody>\n",
       "    <tr>\n",
       "      <th>0</th>\n",
       "      <td>64471158</td>\n",
       "      <td>Relaxed Marie Kondo Now Says She Perfectly Hap...</td>\n",
       "      <td>LOS ANGELES—Admitting that she’d made some maj...</td>\n",
       "      <td>The Onion</td>\n",
       "    </tr>\n",
       "    <tr>\n",
       "      <th>1</th>\n",
       "      <td>84486776</td>\n",
       "      <td>U.S. Officials Call For Correct Amount Of Viol...</td>\n",
       "      <td>WASHINGTON—Addressing the need for swift and m...</td>\n",
       "      <td>The Onion</td>\n",
       "    </tr>\n",
       "    <tr>\n",
       "      <th>2</th>\n",
       "      <td>36589089</td>\n",
       "      <td>Kamala Harris Asks Communications Assistant If...</td>\n",
       "      <td>WASHINGTON—In an effort to expand her professi...</td>\n",
       "      <td>The Onion</td>\n",
       "    </tr>\n",
       "    <tr>\n",
       "      <th>3</th>\n",
       "      <td>15387752</td>\n",
       "      <td>25 Arrested In Fake Nursing School Diploma Scheme</td>\n",
       "      <td>Federal agents have arrested 25 suspects accus...</td>\n",
       "      <td>The Onion</td>\n",
       "    </tr>\n",
       "    <tr>\n",
       "      <th>4</th>\n",
       "      <td>41114025</td>\n",
       "      <td>World’s Oldest American Dies At 72</td>\n",
       "      <td>OXNARD, CA—Living longer than any citizen in t...</td>\n",
       "      <td>The Onion</td>\n",
       "    </tr>\n",
       "  </tbody>\n",
       "</table>\n",
       "</div>"
      ],
      "text/plain": [
       "      docid                                           headline  \\\n",
       "0  64471158  Relaxed Marie Kondo Now Says She Perfectly Hap...   \n",
       "1  84486776  U.S. Officials Call For Correct Amount Of Viol...   \n",
       "2  36589089  Kamala Harris Asks Communications Assistant If...   \n",
       "3  15387752  25 Arrested In Fake Nursing School Diploma Scheme   \n",
       "4  41114025                 World’s Oldest American Dies At 72   \n",
       "\n",
       "                                                body    website  \n",
       "0  LOS ANGELES—Admitting that she’d made some maj...  The Onion  \n",
       "1  WASHINGTON—Addressing the need for swift and m...  The Onion  \n",
       "2  WASHINGTON—In an effort to expand her professi...  The Onion  \n",
       "3  Federal agents have arrested 25 suspects accus...  The Onion  \n",
       "4  OXNARD, CA—Living longer than any citizen in t...  The Onion  "
      ]
     },
     "execution_count": 5,
     "metadata": {},
     "output_type": "execute_result"
    }
   ],
   "source": [
    "df.head()"
   ]
  },
  {
   "cell_type": "code",
   "execution_count": 6,
   "metadata": {},
   "outputs": [
    {
     "data": {
      "text/plain": [
       "docid       0\n",
       "headline    0\n",
       "body        0\n",
       "website     0\n",
       "dtype: int64"
      ]
     },
     "execution_count": 6,
     "metadata": {},
     "output_type": "execute_result"
    }
   ],
   "source": [
    "df.isna().sum()"
   ]
  },
  {
   "cell_type": "code",
   "execution_count": 7,
   "metadata": {},
   "outputs": [
    {
     "data": {
      "text/html": [
       "<div>\n",
       "<style scoped>\n",
       "    .dataframe tbody tr th:only-of-type {\n",
       "        vertical-align: middle;\n",
       "    }\n",
       "\n",
       "    .dataframe tbody tr th {\n",
       "        vertical-align: top;\n",
       "    }\n",
       "\n",
       "    .dataframe thead th {\n",
       "        text-align: right;\n",
       "    }\n",
       "</style>\n",
       "<table border=\"1\" class=\"dataframe\">\n",
       "  <thead>\n",
       "    <tr style=\"text-align: right;\">\n",
       "      <th></th>\n",
       "      <th>docid</th>\n",
       "      <th>headline</th>\n",
       "      <th>body</th>\n",
       "      <th>website</th>\n",
       "    </tr>\n",
       "  </thead>\n",
       "  <tbody>\n",
       "    <tr>\n",
       "      <th>1014</th>\n",
       "      <td>28393611</td>\n",
       "      <td>Terrified Pedestrian Narrowly Escapes Tesla By...</td>\n",
       "      <td></td>\n",
       "      <td>The Onion</td>\n",
       "    </tr>\n",
       "    <tr>\n",
       "      <th>3578</th>\n",
       "      <td>94755577</td>\n",
       "      <td>Amber Alert Freaks Out Abducted 3-Year-Old Nap...</td>\n",
       "      <td></td>\n",
       "      <td>The Onion</td>\n",
       "    </tr>\n",
       "    <tr>\n",
       "      <th>5925</th>\n",
       "      <td>65910948</td>\n",
       "      <td>Report: There Already 5 Million Players Who Ar...</td>\n",
       "      <td></td>\n",
       "      <td>The Onion</td>\n",
       "    </tr>\n",
       "    <tr>\n",
       "      <th>6686</th>\n",
       "      <td>27166290</td>\n",
       "      <td>Steve Mnuchin, Nancy Pelosi Announce Meeting T...</td>\n",
       "      <td></td>\n",
       "      <td>The Onion</td>\n",
       "    </tr>\n",
       "  </tbody>\n",
       "</table>\n",
       "</div>"
      ],
      "text/plain": [
       "         docid                                           headline body  \\\n",
       "1014  28393611  Terrified Pedestrian Narrowly Escapes Tesla By...        \n",
       "3578  94755577  Amber Alert Freaks Out Abducted 3-Year-Old Nap...        \n",
       "5925  65910948  Report: There Already 5 Million Players Who Ar...        \n",
       "6686  27166290  Steve Mnuchin, Nancy Pelosi Announce Meeting T...        \n",
       "\n",
       "        website  \n",
       "1014  The Onion  \n",
       "3578  The Onion  \n",
       "5925  The Onion  \n",
       "6686  The Onion  "
      ]
     },
     "execution_count": 7,
     "metadata": {},
     "output_type": "execute_result"
    }
   ],
   "source": [
    "df[df.body.str.strip() == '']"
   ]
  },
  {
   "cell_type": "code",
   "execution_count": 8,
   "metadata": {},
   "outputs": [
    {
     "data": {
      "text/html": [
       "<div>\n",
       "<style scoped>\n",
       "    .dataframe tbody tr th:only-of-type {\n",
       "        vertical-align: middle;\n",
       "    }\n",
       "\n",
       "    .dataframe tbody tr th {\n",
       "        vertical-align: top;\n",
       "    }\n",
       "\n",
       "    .dataframe thead th {\n",
       "        text-align: right;\n",
       "    }\n",
       "</style>\n",
       "<table border=\"1\" class=\"dataframe\">\n",
       "  <thead>\n",
       "    <tr style=\"text-align: right;\">\n",
       "      <th></th>\n",
       "      <th>docid</th>\n",
       "      <th>headline</th>\n",
       "      <th>body</th>\n",
       "      <th>website</th>\n",
       "    </tr>\n",
       "  </thead>\n",
       "  <tbody>\n",
       "  </tbody>\n",
       "</table>\n",
       "</div>"
      ],
      "text/plain": [
       "Empty DataFrame\n",
       "Columns: [docid, headline, body, website]\n",
       "Index: []"
      ]
     },
     "execution_count": 8,
     "metadata": {},
     "output_type": "execute_result"
    }
   ],
   "source": [
    "df[df.headline.str.strip() == '']"
   ]
  },
  {
   "cell_type": "code",
   "execution_count": 9,
   "metadata": {},
   "outputs": [
    {
     "data": {
      "text/plain": [
       "website\n",
       "The Onion                 34999\n",
       "Clickhole                   829\n",
       "The Every Three Weekly       79\n",
       "Name: count, dtype: int64"
      ]
     },
     "execution_count": 9,
     "metadata": {},
     "output_type": "execute_result"
    }
   ],
   "source": [
    "df.website.value_counts()"
   ]
  },
  {
   "cell_type": "markdown",
   "metadata": {},
   "source": [
    "# Basic Preprocessing"
   ]
  },
  {
   "cell_type": "markdown",
   "metadata": {},
   "source": [
    "Basic cleaning:"
   ]
  },
  {
   "cell_type": "code",
   "execution_count": 10,
   "metadata": {},
   "outputs": [],
   "source": [
    "for col in [\"headline\", \"body\"]:\n",
    "    df[col] = df[col].map(lambda x: \" \".join(x.split()))  # remove extra spaces\n",
    "    df[col] = df[col].str.replace(\"\\n\", \" \").str.replace(\"\\r\", \" \")\\\n",
    "        .str.replace(\"’\", \"'\").str.replace(\"‘\", \"'\")\\\n",
    "        .str.replace(\"“\", '\"').str.replace(\"”\", '\"')\\\n",
    "        .str.replace(\"–\", \"-\").str.replace(\"…\", \"...\")\\\n",
    "        .str.replace(\"•\", \"*\").str.replace(\"●\", \"*\").str.replace(\"·\", \"*\")"
   ]
  },
  {
   "cell_type": "markdown",
   "metadata": {},
   "source": [
    "Drop null values:"
   ]
  },
  {
   "cell_type": "code",
   "execution_count": 11,
   "metadata": {},
   "outputs": [
    {
     "data": {
      "text/plain": [
       "35903"
      ]
     },
     "execution_count": 11,
     "metadata": {},
     "output_type": "execute_result"
    }
   ],
   "source": [
    "df = df[df.body.str.strip() != '']\n",
    "len(df)"
   ]
  },
  {
   "cell_type": "markdown",
   "metadata": {},
   "source": [
    "Identify duplicated articles:"
   ]
  },
  {
   "cell_type": "code",
   "execution_count": 12,
   "metadata": {},
   "outputs": [
    {
     "data": {
      "text/plain": [
       "611"
      ]
     },
     "execution_count": 12,
     "metadata": {},
     "output_type": "execute_result"
    }
   ],
   "source": [
    "df[['headline', 'body']].apply(lambda x: x.str.lower()).duplicated().sum()"
   ]
  },
  {
   "cell_type": "code",
   "execution_count": 13,
   "metadata": {},
   "outputs": [
    {
     "data": {
      "text/html": [
       "<div>\n",
       "<style scoped>\n",
       "    .dataframe tbody tr th:only-of-type {\n",
       "        vertical-align: middle;\n",
       "    }\n",
       "\n",
       "    .dataframe tbody tr th {\n",
       "        vertical-align: top;\n",
       "    }\n",
       "\n",
       "    .dataframe thead th {\n",
       "        text-align: right;\n",
       "    }\n",
       "</style>\n",
       "<table border=\"1\" class=\"dataframe\">\n",
       "  <thead>\n",
       "    <tr style=\"text-align: right;\">\n",
       "      <th></th>\n",
       "      <th>docid</th>\n",
       "      <th>headline</th>\n",
       "      <th>body</th>\n",
       "      <th>website</th>\n",
       "    </tr>\n",
       "  </thead>\n",
       "  <tbody>\n",
       "    <tr>\n",
       "      <th>35798</th>\n",
       "      <td>79401944</td>\n",
       "      <td>'Trust Us, You Don't Want Our Plan B': GOP Law...</td>\n",
       "      <td>With two sexual assault allegations out agains...</td>\n",
       "      <td>Clickhole</td>\n",
       "    </tr>\n",
       "    <tr>\n",
       "      <th>35805</th>\n",
       "      <td>16171433</td>\n",
       "      <td>'Trust Us, You Don't Want Our Plan B': GOP Law...</td>\n",
       "      <td>With two sexual assault allegations out agains...</td>\n",
       "      <td>Clickhole</td>\n",
       "    </tr>\n",
       "    <tr>\n",
       "      <th>35036</th>\n",
       "      <td>21989076</td>\n",
       "      <td>'We Have A Plan': The Pentagon Has Just Announ...</td>\n",
       "      <td>From terrorism, to cyber attacks, to global wa...</td>\n",
       "      <td>Clickhole</td>\n",
       "    </tr>\n",
       "    <tr>\n",
       "      <th>35044</th>\n",
       "      <td>75005169</td>\n",
       "      <td>'We Have A Plan': The Pentagon Has Just Announ...</td>\n",
       "      <td>From terrorism, to cyber attacks, to global wa...</td>\n",
       "      <td>Clickhole</td>\n",
       "    </tr>\n",
       "    <tr>\n",
       "      <th>35303</th>\n",
       "      <td>48499481</td>\n",
       "      <td>5 Episodes Of 'Diners, Drive-Ins And Dives' Wh...</td>\n",
       "      <td>Guy Fieri has long been turning foodies on to ...</td>\n",
       "      <td>Clickhole</td>\n",
       "    </tr>\n",
       "    <tr>\n",
       "      <th>...</th>\n",
       "      <td>...</td>\n",
       "      <td>...</td>\n",
       "      <td>...</td>\n",
       "      <td>...</td>\n",
       "    </tr>\n",
       "    <tr>\n",
       "      <th>34134</th>\n",
       "      <td>53590621</td>\n",
       "      <td>world health organization: 'not sure how, but ...</td>\n",
       "      <td>GENEVA—Amid the spread of the deadly Middle Ea...</td>\n",
       "      <td>The Onion</td>\n",
       "    </tr>\n",
       "    <tr>\n",
       "      <th>34096</th>\n",
       "      <td>50431611</td>\n",
       "      <td>world's luminaries crowd around 'time' 100 lis...</td>\n",
       "      <td>NEW YORK—Their hearts pounding, the world's le...</td>\n",
       "      <td>The Onion</td>\n",
       "    </tr>\n",
       "    <tr>\n",
       "      <th>34138</th>\n",
       "      <td>72577521</td>\n",
       "      <td>world's marine life on edge now that seaworld ...</td>\n",
       "      <td>PACIFIC OCEAN—Following the theme park's pledg...</td>\n",
       "      <td>The Onion</td>\n",
       "    </tr>\n",
       "    <tr>\n",
       "      <th>34784</th>\n",
       "      <td>25076746</td>\n",
       "      <td>world's oldest woman just pleased every other ...</td>\n",
       "      <td>OSAKA, JAPAN—Reflecting on a long life that be...</td>\n",
       "      <td>The Onion</td>\n",
       "    </tr>\n",
       "    <tr>\n",
       "      <th>34946</th>\n",
       "      <td>97864892</td>\n",
       "      <td>yahoo back on top after purchasing millions of...</td>\n",
       "      <td>SUNNYVALE, CA—Finally overcoming competition f...</td>\n",
       "      <td>The Onion</td>\n",
       "    </tr>\n",
       "  </tbody>\n",
       "</table>\n",
       "<p>1216 rows × 4 columns</p>\n",
       "</div>"
      ],
      "text/plain": [
       "          docid                                           headline  \\\n",
       "35798  79401944  'Trust Us, You Don't Want Our Plan B': GOP Law...   \n",
       "35805  16171433  'Trust Us, You Don't Want Our Plan B': GOP Law...   \n",
       "35036  21989076  'We Have A Plan': The Pentagon Has Just Announ...   \n",
       "35044  75005169  'We Have A Plan': The Pentagon Has Just Announ...   \n",
       "35303  48499481  5 Episodes Of 'Diners, Drive-Ins And Dives' Wh...   \n",
       "...         ...                                                ...   \n",
       "34134  53590621  world health organization: 'not sure how, but ...   \n",
       "34096  50431611  world's luminaries crowd around 'time' 100 lis...   \n",
       "34138  72577521  world's marine life on edge now that seaworld ...   \n",
       "34784  25076746  world's oldest woman just pleased every other ...   \n",
       "34946  97864892  yahoo back on top after purchasing millions of...   \n",
       "\n",
       "                                                    body    website  \n",
       "35798  With two sexual assault allegations out agains...  Clickhole  \n",
       "35805  With two sexual assault allegations out agains...  Clickhole  \n",
       "35036  From terrorism, to cyber attacks, to global wa...  Clickhole  \n",
       "35044  From terrorism, to cyber attacks, to global wa...  Clickhole  \n",
       "35303  Guy Fieri has long been turning foodies on to ...  Clickhole  \n",
       "...                                                  ...        ...  \n",
       "34134  GENEVA—Amid the spread of the deadly Middle Ea...  The Onion  \n",
       "34096  NEW YORK—Their hearts pounding, the world's le...  The Onion  \n",
       "34138  PACIFIC OCEAN—Following the theme park's pledg...  The Onion  \n",
       "34784  OSAKA, JAPAN—Reflecting on a long life that be...  The Onion  \n",
       "34946  SUNNYVALE, CA—Finally overcoming competition f...  The Onion  \n",
       "\n",
       "[1216 rows x 4 columns]"
      ]
     },
     "execution_count": 13,
     "metadata": {},
     "output_type": "execute_result"
    }
   ],
   "source": [
    "dup_idx = df[['headline', 'body']].apply(lambda x: x.str.lower()).duplicated(keep=False)\n",
    "df[dup_idx].sort_values([\"website\", \"headline\"])"
   ]
  },
  {
   "cell_type": "code",
   "execution_count": 14,
   "metadata": {},
   "outputs": [],
   "source": [
    "dup_idx = df[['headline', 'body']].apply(lambda x: x.str.lower()).duplicated()\n",
    "df = df[~dup_idx]"
   ]
  },
  {
   "cell_type": "code",
   "execution_count": 15,
   "metadata": {},
   "outputs": [
    {
     "data": {
      "text/plain": [
       "35292"
      ]
     },
     "execution_count": 15,
     "metadata": {},
     "output_type": "execute_result"
    }
   ],
   "source": [
    "len(df)"
   ]
  },
  {
   "cell_type": "code",
   "execution_count": 16,
   "metadata": {},
   "outputs": [
    {
     "data": {
      "text/plain": [
       "website\n",
       "The Onion                 34470\n",
       "Clickhole                   743\n",
       "The Every Three Weekly       79\n",
       "Name: count, dtype: int64"
      ]
     },
     "execution_count": 16,
     "metadata": {},
     "output_type": "execute_result"
    }
   ],
   "source": [
    "df.website.value_counts()"
   ]
  },
  {
   "cell_type": "code",
   "execution_count": 17,
   "metadata": {},
   "outputs": [],
   "source": [
    "df.to_csv('../data/processed_articles_dedup.csv', index=False)"
   ]
  },
  {
   "cell_type": "markdown",
   "metadata": {},
   "source": [
    "Load:"
   ]
  },
  {
   "cell_type": "code",
   "execution_count": 18,
   "metadata": {},
   "outputs": [
    {
     "data": {
      "text/plain": [
       "35292"
      ]
     },
     "execution_count": 18,
     "metadata": {},
     "output_type": "execute_result"
    }
   ],
   "source": [
    "docs_df = pd.read_csv('../data/processed_articles_dedup.csv')\n",
    "len(docs_df)"
   ]
  },
  {
   "cell_type": "code",
   "execution_count": 19,
   "metadata": {},
   "outputs": [
    {
     "data": {
      "text/plain": [
       "0"
      ]
     },
     "execution_count": 19,
     "metadata": {},
     "output_type": "execute_result"
    }
   ],
   "source": [
    "docs_df.body.isna().sum()"
   ]
  },
  {
   "cell_type": "code",
   "execution_count": 20,
   "metadata": {},
   "outputs": [
    {
     "data": {
      "text/plain": [
       "website\n",
       "The Onion                 34470\n",
       "Clickhole                   743\n",
       "The Every Three Weekly       79\n",
       "Name: count, dtype: int64"
      ]
     },
     "execution_count": 20,
     "metadata": {},
     "output_type": "execute_result"
    }
   ],
   "source": [
    "docs_df.website.value_counts()"
   ]
  },
  {
   "cell_type": "markdown",
   "metadata": {},
   "source": [
    "# Stopwords"
   ]
  },
  {
   "cell_type": "code",
   "execution_count": null,
   "metadata": {},
   "outputs": [
    {
     "data": {
      "text/plain": [
       "543"
      ]
     },
     "execution_count": 14,
     "metadata": {},
     "output_type": "execute_result"
    }
   ],
   "source": [
    "# Stopwords provided in HW2\n",
    "stopwords_hw = set(load_txt('../data/stopwords.txt'))\n",
    "len(stopwords_hw)"
   ]
  },
  {
   "cell_type": "code",
   "execution_count": null,
   "metadata": {},
   "outputs": [
    {
     "data": {
      "text/plain": [
       "326"
      ]
     },
     "execution_count": 15,
     "metadata": {},
     "output_type": "execute_result"
    }
   ],
   "source": [
    "# SpaCy stopwords: https://spacy.io/usage/linguistic-features#stop-words\n",
    "from spacy.lang.en.stop_words import STOP_WORDS\n",
    "\n",
    "spacy_stopwords = set(STOP_WORDS)\n",
    "len(spacy_stopwords)"
   ]
  },
  {
   "cell_type": "code",
   "execution_count": 16,
   "metadata": {},
   "outputs": [
    {
     "data": {
      "text/plain": [
       "50"
      ]
     },
     "execution_count": 16,
     "metadata": {},
     "output_type": "execute_result"
    }
   ],
   "source": [
    "# Additional stopwords from SpaCy that are not in the HW2 list\n",
    "potential_stopwords = spacy_stopwords.difference(stopwords_hw)\n",
    "len(potential_stopwords)"
   ]
  },
  {
   "cell_type": "code",
   "execution_count": 17,
   "metadata": {},
   "outputs": [
    {
     "name": "stdout",
     "output_type": "stream",
     "text": [
      "{'top', 'full', '’ll', '’s', 'twenty', 'back', 'due', 'n’t', \"'ve\", \"'re\", 'sixty', \"n't\", \"'d\", 'ten', \"'ll\", 'bottom', 'empty', 'amount', '‘s', '‘ve', 'twelve', '‘d', 'give', '‘ll', 'n‘t', 'fifteen', 'make', \"'m\", 'hundred', 'eleven', 'mine', 'i', 'part', '‘m', 'made', 'show', 'move', 'side', 'forty', '’d', '’re', 'fifty', 'put', 'call', '’m', \"'s\", '’ve', 'front', 'ca', '‘re'}\n"
     ]
    }
   ],
   "source": [
    "print(potential_stopwords)"
   ]
  },
  {
   "cell_type": "code",
   "execution_count": 18,
   "metadata": {},
   "outputs": [
    {
     "data": {
      "text/plain": [
       "584"
      ]
     },
     "execution_count": 18,
     "metadata": {},
     "output_type": "execute_result"
    }
   ],
   "source": [
    "# Update the stopwords list\n",
    "stopwords = stopwords_hw.union({\n",
    "    \"n't\", \"'m\", \"'ve\", \"'re\", '’m', '‘s', '’d', '‘re', '‘d', '’ve', '‘m', '‘ve', 'n‘t', '’ll', \"'s\",\n",
    "    \"'ll\", '‘ll', 'n’t', '’re', '’s', 'i', \"'d\",  \n",
    "    \"nt\", \"m\", \"ve\", \"re\", 's', 'd', 'll', 'i', \"u\",\n",
    "    \"doesn\", \"didn\", \"don\", \"hadn\", \"hasn\", \"haven\", \"isn\", \"shouldn\", \"wasn\", \"weren\", \"won\", \"wouldn\",\n",
    "})\n",
    "len(stopwords)"
   ]
  },
  {
   "cell_type": "code",
   "execution_count": 19,
   "metadata": {},
   "outputs": [],
   "source": [
    "# Exclude some stopwords -- this is highly subjective\n",
    "remove_stopwords = {\n",
    "    \"allow\", \"allows\", \"alone\", \"always\", \"appear\", \"appreciate\", \"appropriate\", \n",
    "    \"associated\", \"available\", \"awfully\",\n",
    "    \"best\", \"better\", \"brief\", \n",
    "    \"changes\", \"currently\",\n",
    "    \"different\",\n",
    "    \"example\", \n",
    "    \"far\", \"first\",\n",
    "    \"ignored\", \"immediate\",\n",
    "    \"last\", \"least\",\n",
    "    \"more\", \"most\",\n",
    "    \"near\", \"necessary\", \"new\", \n",
    "    \"sensible\", \"sent\", \"serious\", \"sorry\",\n",
    "    \"together\", \n",
    "    \"useful\", \n",
    "}\n",
    "for word in remove_stopwords:\n",
    "    if word in stopwords:\n",
    "        stopwords.remove(word)"
   ]
  },
  {
   "cell_type": "code",
   "execution_count": 20,
   "metadata": {},
   "outputs": [
    {
     "data": {
      "text/plain": [
       "550"
      ]
     },
     "execution_count": 20,
     "metadata": {},
     "output_type": "execute_result"
    }
   ],
   "source": [
    "len(stopwords)"
   ]
  },
  {
   "cell_type": "markdown",
   "metadata": {},
   "source": [
    "Save updated stopwords list:"
   ]
  },
  {
   "cell_type": "code",
   "execution_count": 21,
   "metadata": {},
   "outputs": [],
   "source": [
    "save_txt(sorted(stopwords), '../data/stopwords_updated.txt')"
   ]
  },
  {
   "cell_type": "markdown",
   "metadata": {},
   "source": [
    "Load stopwords:"
   ]
  },
  {
   "cell_type": "code",
   "execution_count": 21,
   "metadata": {},
   "outputs": [
    {
     "data": {
      "text/plain": [
       "550"
      ]
     },
     "execution_count": 21,
     "metadata": {},
     "output_type": "execute_result"
    }
   ],
   "source": [
    "stopwords = set(load_txt('../data/stopwords_updated.txt'))\n",
    "len(stopwords)"
   ]
  },
  {
   "cell_type": "markdown",
   "metadata": {},
   "source": [
    "# Word Cloud"
   ]
  },
  {
   "cell_type": "code",
   "execution_count": 19,
   "metadata": {},
   "outputs": [
    {
     "data": {
      "text/plain": [
       "23493070"
      ]
     },
     "execution_count": 19,
     "metadata": {},
     "output_type": "execute_result"
    }
   ],
   "source": [
    "from itertools import chain\n",
    "\n",
    "full_text = \" \".join(df.body.str.lower().tolist())\n",
    "len(full_text)"
   ]
  },
  {
   "cell_type": "code",
   "execution_count": 20,
   "metadata": {},
   "outputs": [
    {
     "data": {
      "text/plain": [
       "<wordcloud.wordcloud.WordCloud at 0x1b0eddbcd50>"
      ]
     },
     "execution_count": 20,
     "metadata": {},
     "output_type": "execute_result"
    }
   ],
   "source": [
    "# Word cloud for the most common words in the articles\n",
    "from wordcloud import WordCloud\n",
    "\n",
    "wordcloud = WordCloud(width=800, height=600, background_color ='white', \n",
    "                      regexp=\"\\w[\\w']+\", stopwords=stopwords, min_font_size=10)\n",
    "\n",
    "wordcloud.generate(full_text)"
   ]
  },
  {
   "cell_type": "code",
   "execution_count": 21,
   "metadata": {},
   "outputs": [
    {
     "data": {
      "image/png": "[encoded data removed]",
      "text/plain": [
       "<Figure size 800x800 with 1 Axes>"
      ]
     },
     "metadata": {},
     "output_type": "display_data"
    }
   ],
   "source": [
    "plt.figure(figsize=(8, 8), facecolor=None)\n",
    "plt.imshow(wordcloud)\n",
    "plt.axis(\"off\")\n",
    "plt.tight_layout(pad=0)\n",
    "plt.show()"
   ]
  },
  {
   "cell_type": "code",
   "execution_count": 22,
   "metadata": {},
   "outputs": [],
   "source": [
    "save_txt(wordcloud.words_, '../data/wordcloud.txt')"
   ]
  },
  {
   "cell_type": "markdown",
   "metadata": {},
   "source": [
    "# Document Preprocessing"
   ]
  },
  {
   "cell_type": "code",
   "execution_count": 22,
   "metadata": {},
   "outputs": [],
   "source": [
    "from src.document_preprocessor import RegexTokenizer"
   ]
  },
  {
   "cell_type": "code",
   "execution_count": 23,
   "metadata": {},
   "outputs": [
    {
     "name": "stdout",
     "output_type": "stream",
     "text": [
      "['ann', 'arbor', 'mi', 'well', 'known', 'day', 'to', 'day', 's', 'o', 'brien', 's', 'cat', 'o', 'neill', 'garc', 'a', 'it', 's', 'don', 't', 'isn', 't', 'they', 're', 'they', 've', 'they', 'll', 'they', 'd']\n",
      "['ann', 'arbor', 'mi', 'well', 'known', 'day', 'to', \"day's\", \"o'brien's\", 'cat', \"o'neill\", \"garc'a\", \"it's\", \"don't\", \"isn't\", \"they're\", \"they've\", \"they'll\", \"they'd\"]\n",
      "['ann', 'arbor', 'mi', 'well', 'known', 'day', 'to', \"day's\", \"o'brien's\", 'cat', \"o'neill\", \"garc'a\", \"it's\", \"don't\", \"isn't\", \"they're\", \"they've\", \"they'll\", \"they'd\"]\n",
      "['ann', 'arbor', 'mi', 'well-known', 'day-to-day', 's', \"o'brien\", 's', 'cat', \"o'neill\", \"garc'a\", 'it', 's', 'don', 't', 'isn', 't', 'they', 're', 'they', 've', 'they', 'll', 'they', 'd']\n"
     ]
    }
   ],
   "source": [
    "example = \"ANN ARBOR, MI—well-known day-to-day's O'Brien's cat O'Neill, Garc'a. It's don't isn't they're they've they'll they'd!\"\n",
    "\n",
    "# default NLTK regex\n",
    "print(RegexTokenizer(\"\\w+\").tokenize(example)) \n",
    "# problem: hyphenated words are split\n",
    "# problem: words with apostrophes (e.g. names) are split\n",
    "\n",
    "# default WordCloud regex for tokenization\n",
    "# doesn't split words with apostrophes, doesn't handle single letter words\n",
    "print(RegexTokenizer(\"\\w[\\w']+\").tokenize(example))  \n",
    "# same as above but also handles single letter words\n",
    "print(RegexTokenizer(\"\\w[\\w']*\").tokenize(example))  \n",
    "# problem: possessive forms must be reduced to their base form\n",
    "# problem: hyphenated words are split\n",
    "\n",
    "# custom regex\n",
    "# doesn't split hyphenated words\n",
    "# splits words with apostrophes that are contractions or possessives, \n",
    "#   but doesn't split other words with apostrophes\n",
    "print(RegexTokenizer(r\"\\w+(?:-\\w+)*(?:'[^stmrvld]\\w*)*\").tokenize(example))  # 's|'t|'m|'re|'ve|'ll|'d"
   ]
  },
  {
   "cell_type": "markdown",
   "metadata": {},
   "source": [
    "Choosing the last one:"
   ]
  },
  {
   "cell_type": "code",
   "execution_count": 24,
   "metadata": {},
   "outputs": [],
   "source": [
    "from src.document_preprocessor import RegexTokenizer\n",
    "\n",
    "preprocessor = RegexTokenizer(\"\\w+(?:-\\w+)*(?:'[^stmrvld]\\w*)*\", lowercase=True)"
   ]
  },
  {
   "cell_type": "code",
   "execution_count": 25,
   "metadata": {},
   "outputs": [
    {
     "data": {
      "text/plain": [
       "['los', 'angeles', 'apologizing', 'for']"
      ]
     },
     "execution_count": 25,
     "metadata": {},
     "output_type": "execute_result"
    }
   ],
   "source": [
    "preprocessor.tokenize(\"LOS ANGELES—Apologizing for\")"
   ]
  },
  {
   "cell_type": "markdown",
   "metadata": {},
   "source": [
    "# Indexing"
   ]
  },
  {
   "cell_type": "code",
   "execution_count": 26,
   "metadata": {},
   "outputs": [],
   "source": [
    "from src.indexing import Indexer, IndexType"
   ]
  },
  {
   "cell_type": "code",
   "execution_count": 29,
   "metadata": {},
   "outputs": [
    {
     "name": "stderr",
     "output_type": "stream",
     "text": [
      "35292it [00:08, 4046.88it/s]\n"
     ]
    }
   ],
   "source": [
    "index = Indexer.create_index(\n",
    "    index_type=IndexType.BasicInvertedIndex, \n",
    "    dataset_path=\"../data/processed_articles_dedup.csv\",\n",
    "    document_preprocessor=preprocessor, \n",
    "    stopwords=stopwords,\n",
    "    minimum_word_frequency=1,\n",
    "    text_key=\"body\",\n",
    "    id_key=\"docid\",\n",
    ")"
   ]
  },
  {
   "cell_type": "code",
   "execution_count": 30,
   "metadata": {},
   "outputs": [],
   "source": [
    "os.makedirs(\"output\", exist_ok=True)\n",
    "index.save(\"output/index_v1\")"
   ]
  },
  {
   "cell_type": "markdown",
   "metadata": {},
   "source": [
    "Load:"
   ]
  },
  {
   "cell_type": "code",
   "execution_count": 27,
   "metadata": {},
   "outputs": [],
   "source": [
    "from src.indexing import BasicInvertedIndex\n",
    "\n",
    "index = BasicInvertedIndex()\n",
    "index.load(\"output/index_v1\")"
   ]
  },
  {
   "cell_type": "code",
   "execution_count": 28,
   "metadata": {},
   "outputs": [
    {
     "data": {
      "text/plain": [
       "92659"
      ]
     },
     "execution_count": 28,
     "metadata": {},
     "output_type": "execute_result"
    }
   ],
   "source": [
    "len(index.vocabulary)"
   ]
  },
  {
   "cell_type": "code",
   "execution_count": 29,
   "metadata": {},
   "outputs": [
    {
     "data": {
      "text/plain": [
       "59"
      ]
     },
     "execution_count": 29,
     "metadata": {},
     "output_type": "execute_result"
    }
   ],
   "source": [
    "len(index.get_postings(\"arbor\"))"
   ]
  },
  {
   "cell_type": "code",
   "execution_count": 30,
   "metadata": {},
   "outputs": [
    {
     "name": "stdout",
     "output_type": "stream",
     "text": [
      "[25936428] ANN ARBOR, MI—Wanting to provide his wife with the support she needed during this time, father-to-be...\n",
      "[65800417] ANN ARBOR, MI—Following a comprehensive, decade-long survey conducted by human mobility researchers ...\n",
      "[93074214] ANN ARBOR, MI—Amid a growing body of research that suggests few Americans ever complete a compelling...\n",
      "[51926637] ANN ARBOR, MI—Blasting the move as a \"total breach of the public's trust,\" Domino's came under fire ...\n",
      "[48449797] CORVALLIS, OR—Pointing out the absolute waste of money on display, Halloween party sources told repo...\n",
      "[66290531] ANN ARBOR, MI—With a twinkle of seasonal cheer in her eyes as she informs well-wishers of her estran...\n",
      "[61658164] ROCHESTER, NY—Already feeling singled out by being the only one in class with leaves, branches, and ...\n",
      "[58206107] ANN ARBOR, MI—Admitting that the shifty fish has managed to evade detection by mankind for thousands...\n",
      "[36897653] ANN ARBOR, MI—Having determined through empirical research that childrearing is bullshit and totally...\n",
      "[89922575] ANN ARBOR, MI—Marking the end of its pandemic-era safety precautions, Domino's announced Wednesday t...\n",
      "[15999587] ANN ARBOR, MI—In what researchers are calling a significant cultural shift in the way young people a...\n",
      "[81247315] ANN ARBOR, MI—Contemplating her personal growth as she worked through what she described as a profou...\n",
      "[23424856] ANN ARBOR, MI—In a report issued Thursday from a stretch of U.S. 23 South, Wilson Ornithological Soc...\n",
      "[62720374] ANN ARBOR, MI—Staring down at the five-dollar bill in frustration before stuffing it into his wallet...\n",
      "[48228114] PERRYSBURG, OH—Promising to restore economic vitality and dignity to the struggling Rust Belt munici...\n",
      "[48491517] ANN ARBOR, MI—Calling the incident a tipping point in the argument for reform, legal experts told re...\n",
      "[86126050] ANN ARBOR, MI—Assuring the man that even his wildest desires could be fulfilled, waitress Lana Colli...\n",
      "[61178552] ANN ARBOR—Contradicting long-standing beliefs about the once frowned-upon practice, a study released...\n",
      "[28925249] ANN ARBOR, MI—Noting that the two had really seemed to hit it off at the neighborhood barbeque, Shei...\n",
      "[99446840] ANN ARBOR, MI—According to a report published Monday by the University of Michigan, an increasing nu...\n",
      "[21856499] ANN ARBOR, MI—Emphasizing that their subjects felt healthier, more energetic, and oh, so satisfied t...\n",
      "[26903193] ANN ARBOR, MI—Edging out the Chevy Malibu for the third year in a row, the Buick Regal topped Car An...\n",
      "[37974736] ANN ARBOR, MI—Excitedly touting the toughness and perfect form that elevate it above the millions of...\n",
      "[92650868] ANN ARBOR, MI—Groaning upon spotting the image on his Facebook newsfeed, local man Peter Grant was r...\n",
      "[98488050] ANN ARBOR, MI—Boasting that an incredible unplanned shot perfectly captured the true nature of the M...\n",
      "[38884552] ANN ARBOR, MI—After receiving the mystifying task of hanging an array of nine empty picture frames o...\n",
      "[62254458] ANN ARBOR, MI—Describing the occurrence as a troubling indicator for the U.S. economy, a University ...\n",
      "[87535937] ANN ARBOR, MI—Giving customers the ability to keep tabs on their order through every step of the pro...\n",
      "[34814305] ANN ARBOR, MI—Saying that he had hardly noticed the time go by while receiving the series of electri...\n",
      "[53444443] ANN ARBOR, MI—After years of faithfully supporting every bad decision he made, a formerly dependable...\n",
      "[43913549] WATERBURY, CT—Saying it's become a bit of an eyesore in the neighborhood, Waterbury residents noted ...\n",
      "[35949671] ANN ARBOR, MI—Noting that the 51-year-old coach was slowly making his way across the vacant stands s...\n",
      "[39702434] ANN ARBOR, MI—Stressing the importance of physical and mental preparation for their upcoming game ag...\n",
      "[15671395] ANN ARBOR, MI—Emphasizing that this was not a choice he had made lightly, University of Michigan stu...\n",
      "[40558198] ANN ARBOR, MI—Explaining that it's a great way to fit some daily exercise into his otherwise incredi...\n",
      "[82828365] ANN ARBOR, MI—A study released Thursday by sociologists at the University of Michigan has found that...\n",
      "[75485086] ANN ARBOR, MI—Confirming that the process causes individuals to collaborate closely, reach compromis...\n",
      "[39394749] ANN ARBOR, MI—According to a report published Tuesday by the University of Michigan, Americans' conf...\n",
      "[10078306] ANN ARBOR, MI—Following yesterday's firing of head coach Brady Hoke, fans of the University of Michi...\n",
      "[36832132] ANN ARBOR, MI—In a breakthrough study that researchers say adds important insight into the evolution...\n",
      "[55642956] ANN ARBOR, MI—Explaining that it's just more convenient, local man Andrew Gomez told reporters Thurs...\n",
      "[79069810] ANN ARBOR, MI—Although there is a slim chance the darn things might have rolled under the stove, Mic...\n",
      "[20700553] ANN ARBOR, MI—The member-owned-and-operated casino known as the Sunshine & Sharing Gaming Cooperativ...\n",
      "[46307366] ANN ARBOR, MI—Digital Copy Shoppe employee Don Newson, 38, called in to work on Wednesday complainin...\n",
      "[89697482] ANN ARBOR, MI—After completing a poem originally titled \"Last Dawnbreak,\" local poet Keith Taylor sp...\n",
      "[95781092] ANN ARBOR, MI—Coaches and players reacted philosophically Tuesday to the news that Michigan, which f...\n",
      "[22911489] ANN ARBOR, MI—Area resident Megan Sands announced Tuesday that her boyfriend, medical student Nick K...\n",
      "[74544884] ANN ARBOR, MI—Citing a lack of opportunities after a year in the outside world, Jacobean drama stude...\n",
      "[61504985] ANN ARBOR, MI—Ann Arbor Pool Club member Edwin Peters, 32, a club record-holder in the 200-meter fre...\n",
      "[63622980] ANN ARBOR, MI—After calling the device \"the item single-handedly responsible for the erosion of our ...\n",
      "[70476568] ANN ARBOR, MI—The University of Michigan has become the 17th institution of higher learning to be im...\n",
      "[13882770] BOSTON—The American Council of College Administrators (ACCA) met Monday to discuss an emergency ban ...\n",
      "[31488748] The world today seems to be filled with so much hate and selfishness that it's easy to completely lo...\n",
      "[27302176] Yikes. If you hate it when embarrassing family members barge in on your life, then this story is goi...\n",
      "[33533662] CAMPUS - According to sources deep within himself, departing co-editor-in-chief Alex King has greatl...\n",
      "[19753882] I can't believe I'm graduating and leaving all my little writers behind. But not quite! I'll be hang...\n",
      "[80195904] In my three years writing for this paper, I've had some good times. Made some friends. Had some laug...\n",
      "[99269901] I like to bike. I like to drink coffee. I like comedy. Here's how to enjoy those things in Ann Arbor...\n",
      "[38300084] If you're reading this, I can only assume you're on a devout internet search using my namesake. If I...\n"
     ]
    }
   ],
   "source": [
    "for docid, count in index.get_postings(\"arbor\"):\n",
    "    print(f\"[{docid}] {index.get_doc_text(docid)[:100]}...\")"
   ]
  },
  {
   "cell_type": "markdown",
   "metadata": {},
   "source": [
    "# BM25 Ranker\n",
    "\n",
    "- Get the top 50 documents per query ranked using BM25.\n",
    "- This will be used to create the dataset that will later be manually annotated with relevance judgements."
   ]
  },
  {
   "cell_type": "code",
   "execution_count": 31,
   "metadata": {},
   "outputs": [],
   "source": [
    "from src.ranker import BM25, Ranker\n",
    "\n",
    "bm25_scorer = BM25(index)  # BM25 scorer with default parameters\n",
    "bm25_ranker = Ranker(index, preprocessor, stopwords, bm25_scorer, score_top_k=50)"
   ]
  },
  {
   "cell_type": "markdown",
   "metadata": {},
   "source": [
    "# Synthetic queries\n",
    "\n",
    "- Generated using a Doc2Query model.\n",
    "- One query for each of 60 randomly sampled articles.\n",
    "- Many of the synthetically generated queries seemed to be too specific to the document that it was generated from.\n",
    "- So I manually reviewed them and created 2 new columns:\n",
    "  - `keep` (boolean): True if we can add this query-document pair to our relevance dataset.\n",
    "  - `modified_query` (str): Manually created based on `generated_query` and the article content; this will be the query we will use."
   ]
  },
  {
   "cell_type": "code",
   "execution_count": 32,
   "metadata": {},
   "outputs": [
    {
     "data": {
      "text/html": [
       "<div>\n",
       "<style scoped>\n",
       "    .dataframe tbody tr th:only-of-type {\n",
       "        vertical-align: middle;\n",
       "    }\n",
       "\n",
       "    .dataframe tbody tr th {\n",
       "        vertical-align: top;\n",
       "    }\n",
       "\n",
       "    .dataframe thead th {\n",
       "        text-align: right;\n",
       "    }\n",
       "</style>\n",
       "<table border=\"1\" class=\"dataframe\">\n",
       "  <thead>\n",
       "    <tr style=\"text-align: right;\">\n",
       "      <th></th>\n",
       "      <th>query</th>\n",
       "      <th>docid</th>\n",
       "      <th>headline</th>\n",
       "      <th>body</th>\n",
       "    </tr>\n",
       "  </thead>\n",
       "  <tbody>\n",
       "    <tr>\n",
       "      <th>0</th>\n",
       "      <td>what did bill cosby do</td>\n",
       "      <td>61253138</td>\n",
       "      <td>NBC, Netflix Cancel Bill Cosby's Return To TV ...</td>\n",
       "      <td>After decades-old allegations resurfaced and m...</td>\n",
       "    </tr>\n",
       "    <tr>\n",
       "      <th>1</th>\n",
       "      <td>what makes humans better than others</td>\n",
       "      <td>70835954</td>\n",
       "      <td>5 Mindfulness Exercises You Can Use To Remind ...</td>\n",
       "      <td>When life is busy and hectic, it can be easy t...</td>\n",
       "    </tr>\n",
       "    <tr>\n",
       "      <th>2</th>\n",
       "      <td>what do office workers think</td>\n",
       "      <td>34374619</td>\n",
       "      <td>Poll: 81% Of Office Workers Would Rather Stay ...</td>\n",
       "      <td>BATON ROUGE, LA—More than four out of five emp...</td>\n",
       "    </tr>\n",
       "    <tr>\n",
       "      <th>3</th>\n",
       "      <td>when did mitt romney cry</td>\n",
       "      <td>80234531</td>\n",
       "      <td>Romney Spends Day Tearfully Apologizing At Fat...</td>\n",
       "      <td>BRIGHTON, MI—Visitors to Brighton's Fairview C...</td>\n",
       "    </tr>\n",
       "    <tr>\n",
       "      <th>4</th>\n",
       "      <td>what is the satirical article on recycling</td>\n",
       "      <td>15119132</td>\n",
       "      <td>Dept. Of Sanitation Asks Public To Separate Pe...</td>\n",
       "      <td>WASHINGTON—Nearly 20 years after launching its...</td>\n",
       "    </tr>\n",
       "    <tr>\n",
       "      <th>5</th>\n",
       "      <td>what is the DNC shakeup?</td>\n",
       "      <td>37865952</td>\n",
       "      <td>Tulsi Gabbard Named Democratic Nominee After D...</td>\n",
       "      <td>We have the latest on this massive shakeup at ...</td>\n",
       "    </tr>\n",
       "    <tr>\n",
       "      <th>6</th>\n",
       "      <td>white nationalism and supremacy in america</td>\n",
       "      <td>32659725</td>\n",
       "      <td>White Nationalist Movement: Myth Vs. Fact</td>\n",
       "      <td>Over the past few years, the white nationalist...</td>\n",
       "    </tr>\n",
       "    <tr>\n",
       "      <th>7</th>\n",
       "      <td>experiences in the service industry</td>\n",
       "      <td>24116079</td>\n",
       "      <td>Day Job Officially Becomes Job</td>\n",
       "      <td>HILLSBORO, OR—Another human dream was crushed ...</td>\n",
       "    </tr>\n",
       "    <tr>\n",
       "      <th>8</th>\n",
       "      <td>how to deal with an emotional friend</td>\n",
       "      <td>81203423</td>\n",
       "      <td>Man Pinned Under Blankets For Three Days</td>\n",
       "      <td>MOLINE, TX—Crushed under the weight of a sudde...</td>\n",
       "    </tr>\n",
       "    <tr>\n",
       "      <th>9</th>\n",
       "      <td>what did the downy duck do</td>\n",
       "      <td>96822073</td>\n",
       "      <td>Historical Archives: A Most Amusing Duck Delay...</td>\n",
       "      <td>In the Port of Boston, the Matter of deliverin...</td>\n",
       "    </tr>\n",
       "    <tr>\n",
       "      <th>10</th>\n",
       "      <td>who are the United States Supreme Court justices</td>\n",
       "      <td>53793466</td>\n",
       "      <td>Scalia Unable To Name All 9 Supreme Court Just...</td>\n",
       "      <td>WASHINGTON—Associate Justice Antonin Scalia st...</td>\n",
       "    </tr>\n",
       "    <tr>\n",
       "      <th>11</th>\n",
       "      <td>what happened when world leaders met?</td>\n",
       "      <td>68348332</td>\n",
       "      <td>'This Is A Pointless Trip,' Obama Says While S...</td>\n",
       "      <td>TEL AVIV, ISRAEL—Moments after stepping out fr...</td>\n",
       "    </tr>\n",
       "    <tr>\n",
       "      <th>12</th>\n",
       "      <td>urban myths and legends</td>\n",
       "      <td>61124266</td>\n",
       "      <td>Headline About So-Called Lobsterman Extremely ...</td>\n",
       "      <td>BAY VILLAGE, OH—Numerous internet users report...</td>\n",
       "    </tr>\n",
       "    <tr>\n",
       "      <th>13</th>\n",
       "      <td>what article said bees are ambassadors</td>\n",
       "      <td>91324740</td>\n",
       "      <td>Queen Reminds Worker Bees They Still Represent...</td>\n",
       "      <td>ALBUQUERQUE, NM—In an effort to ensure they ma...</td>\n",
       "    </tr>\n",
       "    <tr>\n",
       "      <th>14</th>\n",
       "      <td>why are US national parks closed</td>\n",
       "      <td>50322020</td>\n",
       "      <td>National Parks Closed For Annual Remajestifica...</td>\n",
       "      <td>WASHINGTON—With their current condition \"margi...</td>\n",
       "    </tr>\n",
       "    <tr>\n",
       "      <th>15</th>\n",
       "      <td>NFL news and updates</td>\n",
       "      <td>61683179</td>\n",
       "      <td>New NFL Safety Rule Encourages Players To Take...</td>\n",
       "      <td>NEW YORK—Explaining that the regulation would ...</td>\n",
       "    </tr>\n",
       "    <tr>\n",
       "      <th>16</th>\n",
       "      <td>what did reporters say on Fox News</td>\n",
       "      <td>67568741</td>\n",
       "      <td>'I...I Am The Mainstream Media,' Realizes Horr...</td>\n",
       "      <td>WASHINGTON—Coming to the realization in front ...</td>\n",
       "    </tr>\n",
       "    <tr>\n",
       "      <th>17</th>\n",
       "      <td>do aliens exist</td>\n",
       "      <td>57448887</td>\n",
       "      <td>Alien Still Hasn't Gotten Around To Listening ...</td>\n",
       "      <td>47 U. MAJORIS STAR SYSTEM—Roughly 18 months af...</td>\n",
       "    </tr>\n",
       "    <tr>\n",
       "      <th>18</th>\n",
       "      <td>how to lose weight</td>\n",
       "      <td>93565629</td>\n",
       "      <td>Eating Small Meals Throughout Day Doesn't Help...</td>\n",
       "      <td>Contradicting the theory that eating small mea...</td>\n",
       "    </tr>\n",
       "    <tr>\n",
       "      <th>19</th>\n",
       "      <td>what happened in Yellowstone National Park?</td>\n",
       "      <td>76971374</td>\n",
       "      <td>Department Of Interior Employee Caught Embezzl...</td>\n",
       "      <td>BILLINGS, MT—In what is being called the large...</td>\n",
       "    </tr>\n",
       "    <tr>\n",
       "      <th>20</th>\n",
       "      <td>why was justin bieber in the news</td>\n",
       "      <td>55313541</td>\n",
       "      <td>Experts Unable To Determine Why Someone As Ric...</td>\n",
       "      <td>CAMBRIDGE, MA—Explaining that the evidence \"si...</td>\n",
       "    </tr>\n",
       "    <tr>\n",
       "      <th>21</th>\n",
       "      <td>what did the woman say to her friend?</td>\n",
       "      <td>15068933</td>\n",
       "      <td>Kinda Taking A While: This Woman Is Clearly St...</td>\n",
       "      <td>It's true everyone gets a little nervous about...</td>\n",
       "    </tr>\n",
       "    <tr>\n",
       "      <th>22</th>\n",
       "      <td>what do people think of the two-party system?</td>\n",
       "      <td>98246315</td>\n",
       "      <td>Bob Barr On Two-Party System: \"Waaah! Waaah!\"</td>\n",
       "      <td>In a speech delivered to a small group of supp...</td>\n",
       "    </tr>\n",
       "    <tr>\n",
       "      <th>23</th>\n",
       "      <td>Hollywood celebrity scandals</td>\n",
       "      <td>60253534</td>\n",
       "      <td>Hollywood Removes Statue Of Louis B. Mayer Bec...</td>\n",
       "      <td>LOS ANGELES—In response to recent sexual misco...</td>\n",
       "    </tr>\n",
       "    <tr>\n",
       "      <th>24</th>\n",
       "      <td>women in politics</td>\n",
       "      <td>67456794</td>\n",
       "      <td>Record Number Of Women Running For U.S. House ...</td>\n",
       "      <td>At least 490 women have filed to run for seats...</td>\n",
       "    </tr>\n",
       "    <tr>\n",
       "      <th>25</th>\n",
       "      <td>what happened during the halftime show at the ...</td>\n",
       "      <td>56163304</td>\n",
       "      <td>The High Reis: They Should Pretend Someone Die...</td>\n",
       "      <td>The halftime show at the Super Bowl is somethi...</td>\n",
       "    </tr>\n",
       "    <tr>\n",
       "      <th>26</th>\n",
       "      <td>what is the role of the creative director</td>\n",
       "      <td>64591365</td>\n",
       "      <td>Group That Makes Dodge Truck Commercials Calle...</td>\n",
       "      <td>LOS ANGELES—The group of professional adults r...</td>\n",
       "    </tr>\n",
       "    <tr>\n",
       "      <th>27</th>\n",
       "      <td>what are some relationship red flags</td>\n",
       "      <td>95602179</td>\n",
       "      <td>Red Flags To Clock The Second You Start Dating</td>\n",
       "      <td>Your new relationship may seem perfect, but th...</td>\n",
       "    </tr>\n",
       "  </tbody>\n",
       "</table>\n",
       "</div>"
      ],
      "text/plain": [
       "                                                query     docid  \\\n",
       "0                              what did bill cosby do  61253138   \n",
       "1                what makes humans better than others  70835954   \n",
       "2                        what do office workers think  34374619   \n",
       "3                            when did mitt romney cry  80234531   \n",
       "4          what is the satirical article on recycling  15119132   \n",
       "5                            what is the DNC shakeup?  37865952   \n",
       "6          white nationalism and supremacy in america  32659725   \n",
       "7                 experiences in the service industry  24116079   \n",
       "8                how to deal with an emotional friend  81203423   \n",
       "9                          what did the downy duck do  96822073   \n",
       "10   who are the United States Supreme Court justices  53793466   \n",
       "11              what happened when world leaders met?  68348332   \n",
       "12                            urban myths and legends  61124266   \n",
       "13             what article said bees are ambassadors  91324740   \n",
       "14                   why are US national parks closed  50322020   \n",
       "15                               NFL news and updates  61683179   \n",
       "16                 what did reporters say on Fox News  67568741   \n",
       "17                                    do aliens exist  57448887   \n",
       "18                                 how to lose weight  93565629   \n",
       "19        what happened in Yellowstone National Park?  76971374   \n",
       "20                  why was justin bieber in the news  55313541   \n",
       "21              what did the woman say to her friend?  15068933   \n",
       "22      what do people think of the two-party system?  98246315   \n",
       "23                       Hollywood celebrity scandals  60253534   \n",
       "24                                  women in politics  67456794   \n",
       "25  what happened during the halftime show at the ...  56163304   \n",
       "26          what is the role of the creative director  64591365   \n",
       "27               what are some relationship red flags  95602179   \n",
       "\n",
       "                                             headline  \\\n",
       "0   NBC, Netflix Cancel Bill Cosby's Return To TV ...   \n",
       "1   5 Mindfulness Exercises You Can Use To Remind ...   \n",
       "2   Poll: 81% Of Office Workers Would Rather Stay ...   \n",
       "3   Romney Spends Day Tearfully Apologizing At Fat...   \n",
       "4   Dept. Of Sanitation Asks Public To Separate Pe...   \n",
       "5   Tulsi Gabbard Named Democratic Nominee After D...   \n",
       "6           White Nationalist Movement: Myth Vs. Fact   \n",
       "7                      Day Job Officially Becomes Job   \n",
       "8            Man Pinned Under Blankets For Three Days   \n",
       "9   Historical Archives: A Most Amusing Duck Delay...   \n",
       "10  Scalia Unable To Name All 9 Supreme Court Just...   \n",
       "11  'This Is A Pointless Trip,' Obama Says While S...   \n",
       "12  Headline About So-Called Lobsterman Extremely ...   \n",
       "13  Queen Reminds Worker Bees They Still Represent...   \n",
       "14  National Parks Closed For Annual Remajestifica...   \n",
       "15  New NFL Safety Rule Encourages Players To Take...   \n",
       "16  'I...I Am The Mainstream Media,' Realizes Horr...   \n",
       "17  Alien Still Hasn't Gotten Around To Listening ...   \n",
       "18  Eating Small Meals Throughout Day Doesn't Help...   \n",
       "19  Department Of Interior Employee Caught Embezzl...   \n",
       "20  Experts Unable To Determine Why Someone As Ric...   \n",
       "21  Kinda Taking A While: This Woman Is Clearly St...   \n",
       "22      Bob Barr On Two-Party System: \"Waaah! Waaah!\"   \n",
       "23  Hollywood Removes Statue Of Louis B. Mayer Bec...   \n",
       "24  Record Number Of Women Running For U.S. House ...   \n",
       "25  The High Reis: They Should Pretend Someone Die...   \n",
       "26  Group That Makes Dodge Truck Commercials Calle...   \n",
       "27     Red Flags To Clock The Second You Start Dating   \n",
       "\n",
       "                                                 body  \n",
       "0   After decades-old allegations resurfaced and m...  \n",
       "1   When life is busy and hectic, it can be easy t...  \n",
       "2   BATON ROUGE, LA—More than four out of five emp...  \n",
       "3   BRIGHTON, MI—Visitors to Brighton's Fairview C...  \n",
       "4   WASHINGTON—Nearly 20 years after launching its...  \n",
       "5   We have the latest on this massive shakeup at ...  \n",
       "6   Over the past few years, the white nationalist...  \n",
       "7   HILLSBORO, OR—Another human dream was crushed ...  \n",
       "8   MOLINE, TX—Crushed under the weight of a sudde...  \n",
       "9   In the Port of Boston, the Matter of deliverin...  \n",
       "10  WASHINGTON—Associate Justice Antonin Scalia st...  \n",
       "11  TEL AVIV, ISRAEL—Moments after stepping out fr...  \n",
       "12  BAY VILLAGE, OH—Numerous internet users report...  \n",
       "13  ALBUQUERQUE, NM—In an effort to ensure they ma...  \n",
       "14  WASHINGTON—With their current condition \"margi...  \n",
       "15  NEW YORK—Explaining that the regulation would ...  \n",
       "16  WASHINGTON—Coming to the realization in front ...  \n",
       "17  47 U. MAJORIS STAR SYSTEM—Roughly 18 months af...  \n",
       "18  Contradicting the theory that eating small mea...  \n",
       "19  BILLINGS, MT—In what is being called the large...  \n",
       "20  CAMBRIDGE, MA—Explaining that the evidence \"si...  \n",
       "21  It's true everyone gets a little nervous about...  \n",
       "22  In a speech delivered to a small group of supp...  \n",
       "23  LOS ANGELES—In response to recent sexual misco...  \n",
       "24  At least 490 women have filed to run for seats...  \n",
       "25  The halftime show at the Super Bowl is somethi...  \n",
       "26  LOS ANGELES—The group of professional adults r...  \n",
       "27  Your new relationship may seem perfect, but th...  "
      ]
     },
     "execution_count": 32,
     "metadata": {},
     "output_type": "execute_result"
    }
   ],
   "source": [
    "d2q_df = pd.read_csv(\"../data/sampled_articles_with_queries_reviewed.csv\")\n",
    "\n",
    "d2q_df = d2q_df.query(\"keep == True\").dropna().reset_index(drop=True)\\\n",
    "    .rename(columns={\"modified_query\": \"query\"})[[\"docid\", \"query\"]]\\\n",
    "    .merge(docs_df[[\"docid\", \"headline\", \"body\"]], on=\"docid\", how=\"left\")[[\"query\", \"docid\", \"headline\", \"body\"]]\n",
    "\n",
    "d2q_df"
   ]
  },
  {
   "cell_type": "code",
   "execution_count": 33,
   "metadata": {},
   "outputs": [
    {
     "data": {
      "text/plain": [
       "28"
      ]
     },
     "execution_count": 33,
     "metadata": {},
     "output_type": "execute_result"
    }
   ],
   "source": [
    "d2q_df.shape[0]"
   ]
  },
  {
   "cell_type": "code",
   "execution_count": 52,
   "metadata": {},
   "outputs": [
    {
     "data": {
      "text/plain": [
       "['Hollywood celebrity scandals',\n",
       " 'NFL news and updates',\n",
       " 'do aliens exist',\n",
       " 'experiences in the service industry',\n",
       " 'how to deal with an emotional friend',\n",
       " 'how to lose weight',\n",
       " 'urban myths and legends',\n",
       " 'what are some relationship red flags',\n",
       " 'what article said bees are ambassadors',\n",
       " 'what did bill cosby do',\n",
       " 'what did reporters say on Fox News',\n",
       " 'what did the downy duck do',\n",
       " 'what did the woman say to her friend?',\n",
       " 'what do office workers think',\n",
       " 'what do people think of the two-party system?',\n",
       " 'what happened during the halftime show at the Super Bowl?',\n",
       " 'what happened in Yellowstone National Park?',\n",
       " 'what happened when world leaders met?',\n",
       " 'what is the DNC shakeup?',\n",
       " 'what is the role of the creative director',\n",
       " 'what is the satirical article on recycling',\n",
       " 'what makes humans better than others',\n",
       " 'when did mitt romney cry',\n",
       " 'white nationalism and supremacy in america',\n",
       " 'who are the United States Supreme Court justices',\n",
       " 'why are US national parks closed',\n",
       " 'why was justin bieber in the news',\n",
       " 'women in politics']"
      ]
     },
     "execution_count": 52,
     "metadata": {},
     "output_type": "execute_result"
    }
   ],
   "source": [
    "sorted(d2q_df[\"query\"].tolist())"
   ]
  },
  {
   "cell_type": "code",
   "execution_count": 35,
   "metadata": {},
   "outputs": [
    {
     "data": {
      "text/html": [
       "<div>\n",
       "<style scoped>\n",
       "    .dataframe tbody tr th:only-of-type {\n",
       "        vertical-align: middle;\n",
       "    }\n",
       "\n",
       "    .dataframe tbody tr th {\n",
       "        vertical-align: top;\n",
       "    }\n",
       "\n",
       "    .dataframe thead th {\n",
       "        text-align: right;\n",
       "    }\n",
       "</style>\n",
       "<table border=\"1\" class=\"dataframe\">\n",
       "  <thead>\n",
       "    <tr style=\"text-align: right;\">\n",
       "      <th></th>\n",
       "      <th>query</th>\n",
       "      <th>docid</th>\n",
       "      <th>headline</th>\n",
       "      <th>body</th>\n",
       "    </tr>\n",
       "  </thead>\n",
       "  <tbody>\n",
       "    <tr>\n",
       "      <th>0</th>\n",
       "      <td>what did bill cosby do</td>\n",
       "      <td>87589070</td>\n",
       "      <td>Bill Cosby Convicted Of Sexual Assault</td>\n",
       "      <td>Bill Cosby has been convicted of drugging and ...</td>\n",
       "    </tr>\n",
       "    <tr>\n",
       "      <th>1</th>\n",
       "      <td>what did bill cosby do</td>\n",
       "      <td>91206412</td>\n",
       "      <td>Bill Cosby's Sexual Assault Conviction Overturned</td>\n",
       "      <td>Bill Cosby's sexual assault conviction has bee...</td>\n",
       "    </tr>\n",
       "    <tr>\n",
       "      <th>2</th>\n",
       "      <td>what did bill cosby do</td>\n",
       "      <td>95988481</td>\n",
       "      <td>California Ends Statute Of Limitations On Sex ...</td>\n",
       "      <td>In the wake of the many allegations against Bi...</td>\n",
       "    </tr>\n",
       "    <tr>\n",
       "      <th>3</th>\n",
       "      <td>what did bill cosby do</td>\n",
       "      <td>71188982</td>\n",
       "      <td>Cosby Lawyer Asks Why Accusers Didn't Come For...</td>\n",
       "      <td>LOS ANGELES—Responding to recent allegations t...</td>\n",
       "    </tr>\n",
       "    <tr>\n",
       "      <th>4</th>\n",
       "      <td>what did bill cosby do</td>\n",
       "      <td>61253138</td>\n",
       "      <td>NBC, Netflix Cancel Bill Cosby's Return To TV ...</td>\n",
       "      <td>After decades-old allegations resurfaced and m...</td>\n",
       "    </tr>\n",
       "    <tr>\n",
       "      <th>...</th>\n",
       "      <td>...</td>\n",
       "      <td>...</td>\n",
       "      <td>...</td>\n",
       "      <td>...</td>\n",
       "    </tr>\n",
       "    <tr>\n",
       "      <th>1411</th>\n",
       "      <td>what are some relationship red flags</td>\n",
       "      <td>57326447</td>\n",
       "      <td>Twin Absorbs Sibling At 62</td>\n",
       "      <td>GARY, IN—Confirming the results after extensiv...</td>\n",
       "    </tr>\n",
       "    <tr>\n",
       "      <th>1412</th>\n",
       "      <td>what are some relationship red flags</td>\n",
       "      <td>44345989</td>\n",
       "      <td>Study Finds Link Between Loneliness, Being Stu...</td>\n",
       "      <td>BALTIMORE—In landmark research into what may b...</td>\n",
       "    </tr>\n",
       "    <tr>\n",
       "      <th>1413</th>\n",
       "      <td>what are some relationship red flags</td>\n",
       "      <td>95168200</td>\n",
       "      <td>BTK Ready To Start Dating Again</td>\n",
       "      <td>EL DORADO, KS—Saying he'd had time to work thr...</td>\n",
       "    </tr>\n",
       "    <tr>\n",
       "      <th>1414</th>\n",
       "      <td>what are some relationship red flags</td>\n",
       "      <td>68236181</td>\n",
       "      <td>7 Modern Dating Rules That Don't Mean Shit In ...</td>\n",
       "      <td>Modern dating can be complicated, but there ar...</td>\n",
       "    </tr>\n",
       "    <tr>\n",
       "      <th>1415</th>\n",
       "      <td>what are some relationship red flags</td>\n",
       "      <td>55347390</td>\n",
       "      <td>Report: Minority Of Murders Committed By Someo...</td>\n",
       "      <td>WASHINGTON—A new report released Tuesday by th...</td>\n",
       "    </tr>\n",
       "  </tbody>\n",
       "</table>\n",
       "<p>1416 rows × 4 columns</p>\n",
       "</div>"
      ],
      "text/plain": [
       "                                     query     docid  \\\n",
       "0                   what did bill cosby do  87589070   \n",
       "1                   what did bill cosby do  91206412   \n",
       "2                   what did bill cosby do  95988481   \n",
       "3                   what did bill cosby do  71188982   \n",
       "4                   what did bill cosby do  61253138   \n",
       "...                                    ...       ...   \n",
       "1411  what are some relationship red flags  57326447   \n",
       "1412  what are some relationship red flags  44345989   \n",
       "1413  what are some relationship red flags  95168200   \n",
       "1414  what are some relationship red flags  68236181   \n",
       "1415  what are some relationship red flags  55347390   \n",
       "\n",
       "                                               headline  \\\n",
       "0                Bill Cosby Convicted Of Sexual Assault   \n",
       "1     Bill Cosby's Sexual Assault Conviction Overturned   \n",
       "2     California Ends Statute Of Limitations On Sex ...   \n",
       "3     Cosby Lawyer Asks Why Accusers Didn't Come For...   \n",
       "4     NBC, Netflix Cancel Bill Cosby's Return To TV ...   \n",
       "...                                                 ...   \n",
       "1411                         Twin Absorbs Sibling At 62   \n",
       "1412  Study Finds Link Between Loneliness, Being Stu...   \n",
       "1413                    BTK Ready To Start Dating Again   \n",
       "1414  7 Modern Dating Rules That Don't Mean Shit In ...   \n",
       "1415  Report: Minority Of Murders Committed By Someo...   \n",
       "\n",
       "                                                   body  \n",
       "0     Bill Cosby has been convicted of drugging and ...  \n",
       "1     Bill Cosby's sexual assault conviction has bee...  \n",
       "2     In the wake of the many allegations against Bi...  \n",
       "3     LOS ANGELES—Responding to recent allegations t...  \n",
       "4     After decades-old allegations resurfaced and m...  \n",
       "...                                                 ...  \n",
       "1411  GARY, IN—Confirming the results after extensiv...  \n",
       "1412  BALTIMORE—In landmark research into what may b...  \n",
       "1413  EL DORADO, KS—Saying he'd had time to work thr...  \n",
       "1414  Modern dating can be complicated, but there ar...  \n",
       "1415  WASHINGTON—A new report released Tuesday by th...  \n",
       "\n",
       "[1416 rows x 4 columns]"
      ]
     },
     "execution_count": 35,
     "metadata": {},
     "output_type": "execute_result"
    }
   ],
   "source": [
    "d2q_bm25_df = []\n",
    "\n",
    "for _, q in d2q_df.iterrows():\n",
    "    results = bm25_ranker.query(q[\"query\"])\n",
    "    \n",
    "    src_doc_retrieved = False\n",
    "    for docid, score in results:\n",
    "        d2q_bm25_df.append({\"query\": q[\"query\"], \"docid\": docid})\n",
    "        if docid == q[\"docid\"]:\n",
    "            src_doc_retrieved = True\n",
    "    \n",
    "    if not src_doc_retrieved:\n",
    "        d2q_bm25_df.append({\"query\": q[\"query\"], \"docid\": q[\"docid\"]})\n",
    "        \n",
    "d2q_bm25_df = pd.DataFrame(d2q_bm25_df)\\\n",
    "    .merge(docs_df[[\"docid\", \"headline\", \"body\"]], on=\"docid\", how=\"left\")[[\"query\", \"docid\", \"headline\", \"body\"]]\n",
    "\n",
    "d2q_bm25_df"
   ]
  },
  {
   "cell_type": "code",
   "execution_count": 36,
   "metadata": {},
   "outputs": [
    {
     "data": {
      "text/plain": [
       "28"
      ]
     },
     "execution_count": 36,
     "metadata": {},
     "output_type": "execute_result"
    }
   ],
   "source": [
    "d2q_bm25_df[\"query\"].nunique()"
   ]
  },
  {
   "cell_type": "code",
   "execution_count": 37,
   "metadata": {},
   "outputs": [],
   "source": [
    "d2q_bm25_df.to_csv(\"../data/d2q_queries_bm25_results.csv\", index=False, encoding='utf-8-sig')"
   ]
  },
  {
   "cell_type": "markdown",
   "metadata": {},
   "source": [
    "# Manual queries\n",
    "\n",
    "- Think of common queries that users are likely to search for.\n",
    "- Minimize overlap with the reviewed D2Q queries.\n",
    "- We decided to include 60 unique queries in our dataset, so we need 32 more."
   ]
  },
  {
   "cell_type": "code",
   "execution_count": 38,
   "metadata": {},
   "outputs": [
    {
     "data": {
      "text/plain": [
       "42"
      ]
     },
     "execution_count": 38,
     "metadata": {},
     "output_type": "execute_result"
    }
   ],
   "source": [
    "manual_queries = sorted([\n",
    "    \"what are some interesting conspiracy theories\",\n",
    "    \"what did area/local man do this time\",\n",
    "    \"what the dog doing\",\n",
    "    \"is AI taking over the world\",\n",
    "    \"how to get a job\",\n",
    "    \"how to make money\",\n",
    "    \"what were people doing during the covid-19 pandemic\",\n",
    "    \"life as a college student\",\n",
    "    \"fun date ideas for couples\",\n",
    "    \"how to make friends\",\n",
    "    \"how to be happy :(\",\n",
    "    \"University of Michigan campus news\",\n",
    "    \"latest news from Ann Arbor and Washtenaw County\",\n",
    "    \"local sports teams updates\",\n",
    "    \"popular social media trends\",\n",
    "    \"kitchen fails and cooking disasters\",   \n",
    "    \"how to fight the winter blues\",\n",
    "    \"therapy sessions gone wrong\",\n",
    "    \"how to get over a breakup\",\n",
    "    \"how to be more productive\",\n",
    "    \"is the economy going to crash\",\n",
    "    \"what movies and TV shows should I avoid\",\n",
    "    \"what sports should I try\",\n",
    "    \"how to get a good night's sleep\",\n",
    "    \"why do people like pineapple on pizza\",\n",
    "    \"cool science facts\",\n",
    "    \"why should I care about climate change\",\n",
    "    \"I'm bored I need a new hobby\",\n",
    "    \"what did politicians say about voter fraud\",\n",
    "    \"millenials vs boomers\",\n",
    "    \"what's going on in Florida\",\n",
    "    \"lie to me\",\n",
    "    \"what's something you shouldn't joke about\",\n",
    "    \"funny podcasts and radio shows\",\n",
    "    \"New York subway stories\",\n",
    "    \"people being dumb on the internet\",\n",
    "    \"I hate my boss what should I do\",\n",
    "    \"how to scam people\",\n",
    "    \"social anxiety tips\",\n",
    "    \"uncomfortable conversations with parents\",\n",
    "    \"getting along with your siblings\",\n",
    "    \"West Coast vs East Coast\",\n",
    "])\n",
    "len(manual_queries)"
   ]
  },
  {
   "cell_type": "code",
   "execution_count": 51,
   "metadata": {},
   "outputs": [
    {
     "data": {
      "text/plain": [
       "['I hate my boss what should I do',\n",
       " \"I'm bored I need a new hobby\",\n",
       " 'New York subway stories',\n",
       " 'University of Michigan campus news',\n",
       " 'West Coast vs East Coast',\n",
       " 'cool science facts',\n",
       " 'fun date ideas for couples',\n",
       " 'funny podcasts and radio shows',\n",
       " 'getting along with your siblings',\n",
       " 'how to be happy :(',\n",
       " 'how to be more productive',\n",
       " 'how to fight the winter blues',\n",
       " \"how to get a good night's sleep\",\n",
       " 'how to get a job',\n",
       " 'how to get over a breakup',\n",
       " 'how to make friends',\n",
       " 'how to make money',\n",
       " 'how to scam people',\n",
       " 'is AI taking over the world',\n",
       " 'is the economy going to crash',\n",
       " 'kitchen fails and cooking disasters',\n",
       " 'latest news from Ann Arbor and Washtenaw County',\n",
       " 'lie to me',\n",
       " 'life as a college student',\n",
       " 'local sports teams updates',\n",
       " 'millenials vs boomers',\n",
       " 'people being dumb on the internet',\n",
       " 'popular social media trends',\n",
       " 'social anxiety tips',\n",
       " 'therapy sessions gone wrong',\n",
       " 'uncomfortable conversations with parents',\n",
       " 'what are some interesting conspiracy theories',\n",
       " 'what did area/local man do this time',\n",
       " 'what did politicians say about voter fraud',\n",
       " 'what movies and TV shows should I avoid',\n",
       " 'what sports should I try',\n",
       " 'what the dog doing',\n",
       " 'what were people doing during the covid-19 pandemic',\n",
       " \"what's going on in Florida\",\n",
       " \"what's something you shouldn't joke about\",\n",
       " 'why do people like pineapple on pizza',\n",
       " 'why should I care about climate change']"
      ]
     },
     "execution_count": 51,
     "metadata": {},
     "output_type": "execute_result"
    }
   ],
   "source": [
    "manual_queries"
   ]
  },
  {
   "cell_type": "code",
   "execution_count": 39,
   "metadata": {},
   "outputs": [
    {
     "data": {
      "text/html": [
       "<div>\n",
       "<style scoped>\n",
       "    .dataframe tbody tr th:only-of-type {\n",
       "        vertical-align: middle;\n",
       "    }\n",
       "\n",
       "    .dataframe tbody tr th {\n",
       "        vertical-align: top;\n",
       "    }\n",
       "\n",
       "    .dataframe thead th {\n",
       "        text-align: right;\n",
       "    }\n",
       "</style>\n",
       "<table border=\"1\" class=\"dataframe\">\n",
       "  <thead>\n",
       "    <tr style=\"text-align: right;\">\n",
       "      <th></th>\n",
       "      <th>query</th>\n",
       "      <th>docid</th>\n",
       "      <th>headline</th>\n",
       "      <th>body</th>\n",
       "    </tr>\n",
       "  </thead>\n",
       "  <tbody>\n",
       "    <tr>\n",
       "      <th>0</th>\n",
       "      <td>I hate my boss what should I do</td>\n",
       "      <td>20834444</td>\n",
       "      <td>Epic Clapback: Ariana Grande Has Responded To ...</td>\n",
       "      <td>It seems like internet trolls are becoming mor...</td>\n",
       "    </tr>\n",
       "    <tr>\n",
       "      <th>1</th>\n",
       "      <td>I hate my boss what should I do</td>\n",
       "      <td>95538996</td>\n",
       "      <td>Iranian Scientist Annoyed He Has To Go Back To...</td>\n",
       "      <td>ISFAHAN, IRAN—In the wake of President Trump's...</td>\n",
       "    </tr>\n",
       "    <tr>\n",
       "      <th>2</th>\n",
       "      <td>I hate my boss what should I do</td>\n",
       "      <td>59451106</td>\n",
       "      <td>Things New Yorkers Hate Most About L.A.</td>\n",
       "      <td>Let's face it, you're not a real New Yorker un...</td>\n",
       "    </tr>\n",
       "    <tr>\n",
       "      <th>3</th>\n",
       "      <td>I hate my boss what should I do</td>\n",
       "      <td>75126704</td>\n",
       "      <td>Things People Hate The Most About Public Trans...</td>\n",
       "      <td>It's disgusting to imagine, but Americans take...</td>\n",
       "    </tr>\n",
       "    <tr>\n",
       "      <th>4</th>\n",
       "      <td>I hate my boss what should I do</td>\n",
       "      <td>58264476</td>\n",
       "      <td>Special Orders Chefs Hate The Most And Why</td>\n",
       "      <td>Unless you want the staff spitting in your foo...</td>\n",
       "    </tr>\n",
       "    <tr>\n",
       "      <th>...</th>\n",
       "      <td>...</td>\n",
       "      <td>...</td>\n",
       "      <td>...</td>\n",
       "      <td>...</td>\n",
       "    </tr>\n",
       "    <tr>\n",
       "      <th>2045</th>\n",
       "      <td>why should I care about climate change</td>\n",
       "      <td>25475335</td>\n",
       "      <td>Parenting Win! The NBA Is Attaching Diaper Cha...</td>\n",
       "      <td>Working parents know all too well how hard it ...</td>\n",
       "    </tr>\n",
       "    <tr>\n",
       "      <th>2046</th>\n",
       "      <td>why should I care about climate change</td>\n",
       "      <td>51928223</td>\n",
       "      <td>Good For Him: Yo-Yo Ma Has Announced He Is Goi...</td>\n",
       "      <td>When you go to see live classical music, you c...</td>\n",
       "    </tr>\n",
       "    <tr>\n",
       "      <th>2047</th>\n",
       "      <td>why should I care about climate change</td>\n",
       "      <td>25643415</td>\n",
       "      <td>Inspiring: 4 Sex-Positive Drawings Of Big Bird...</td>\n",
       "      <td>In today's hyper-polarized political climate, ...</td>\n",
       "    </tr>\n",
       "    <tr>\n",
       "      <th>2048</th>\n",
       "      <td>why should I care about climate change</td>\n",
       "      <td>66704209</td>\n",
       "      <td>So Sexy! These 6 Frogs Don't Even Have To Be P...</td>\n",
       "      <td>The average frog isn't nearly hot enough for u...</td>\n",
       "    </tr>\n",
       "    <tr>\n",
       "      <th>2049</th>\n",
       "      <td>why should I care about climate change</td>\n",
       "      <td>34564841</td>\n",
       "      <td>\"Tony Drank O.J. Right Out Of The Carton Like ...</td>\n",
       "      <td>In 1999, David Chase was a virtually unknown s...</td>\n",
       "    </tr>\n",
       "  </tbody>\n",
       "</table>\n",
       "<p>2050 rows × 4 columns</p>\n",
       "</div>"
      ],
      "text/plain": [
       "                                       query     docid  \\\n",
       "0            I hate my boss what should I do  20834444   \n",
       "1            I hate my boss what should I do  95538996   \n",
       "2            I hate my boss what should I do  59451106   \n",
       "3            I hate my boss what should I do  75126704   \n",
       "4            I hate my boss what should I do  58264476   \n",
       "...                                      ...       ...   \n",
       "2045  why should I care about climate change  25475335   \n",
       "2046  why should I care about climate change  51928223   \n",
       "2047  why should I care about climate change  25643415   \n",
       "2048  why should I care about climate change  66704209   \n",
       "2049  why should I care about climate change  34564841   \n",
       "\n",
       "                                               headline  \\\n",
       "0     Epic Clapback: Ariana Grande Has Responded To ...   \n",
       "1     Iranian Scientist Annoyed He Has To Go Back To...   \n",
       "2               Things New Yorkers Hate Most About L.A.   \n",
       "3     Things People Hate The Most About Public Trans...   \n",
       "4            Special Orders Chefs Hate The Most And Why   \n",
       "...                                                 ...   \n",
       "2045  Parenting Win! The NBA Is Attaching Diaper Cha...   \n",
       "2046  Good For Him: Yo-Yo Ma Has Announced He Is Goi...   \n",
       "2047  Inspiring: 4 Sex-Positive Drawings Of Big Bird...   \n",
       "2048  So Sexy! These 6 Frogs Don't Even Have To Be P...   \n",
       "2049  \"Tony Drank O.J. Right Out Of The Carton Like ...   \n",
       "\n",
       "                                                   body  \n",
       "0     It seems like internet trolls are becoming mor...  \n",
       "1     ISFAHAN, IRAN—In the wake of President Trump's...  \n",
       "2     Let's face it, you're not a real New Yorker un...  \n",
       "3     It's disgusting to imagine, but Americans take...  \n",
       "4     Unless you want the staff spitting in your foo...  \n",
       "...                                                 ...  \n",
       "2045  Working parents know all too well how hard it ...  \n",
       "2046  When you go to see live classical music, you c...  \n",
       "2047  In today's hyper-polarized political climate, ...  \n",
       "2048  The average frog isn't nearly hot enough for u...  \n",
       "2049  In 1999, David Chase was a virtually unknown s...  \n",
       "\n",
       "[2050 rows x 4 columns]"
      ]
     },
     "execution_count": 39,
     "metadata": {},
     "output_type": "execute_result"
    }
   ],
   "source": [
    "manual_bm25_df = []\n",
    "for query in manual_queries:\n",
    "    results = bm25_ranker.query(query)\n",
    "    for docid, score in results:\n",
    "        manual_bm25_df.append({\"query\": query, \"docid\": docid})\n",
    "        \n",
    "manual_bm25_df = pd.DataFrame(manual_bm25_df)\\\n",
    "    .merge(docs_df[[\"docid\", \"headline\", \"body\"]], on=\"docid\", how=\"left\")\n",
    "    \n",
    "manual_bm25_df"
   ]
  },
  {
   "cell_type": "code",
   "execution_count": 40,
   "metadata": {},
   "outputs": [
    {
     "data": {
      "text/plain": [
       "42"
      ]
     },
     "execution_count": 40,
     "metadata": {},
     "output_type": "execute_result"
    }
   ],
   "source": [
    "manual_bm25_df[\"query\"].nunique()"
   ]
  },
  {
   "cell_type": "code",
   "execution_count": 41,
   "metadata": {},
   "outputs": [],
   "source": [
    "manual_bm25_df.to_csv(\"../data/manual_queries_bm25_results.csv\", index=False, encoding='utf-8-sig')"
   ]
  },
  {
   "cell_type": "markdown",
   "metadata": {},
   "source": [
    "# Full dataset to annotate"
   ]
  },
  {
   "cell_type": "code",
   "execution_count": 42,
   "metadata": {},
   "outputs": [],
   "source": [
    "d2q_bm25_df[\"query_source\"] = \"doc2query_reviewed\"\n",
    "manual_bm25_df[\"query_source\"] = \"manual\"\n",
    "rel_df = pd.concat([d2q_bm25_df, manual_bm25_df], ignore_index=True)\n",
    "rel_df[\"rel\"] = None"
   ]
  },
  {
   "cell_type": "code",
   "execution_count": 43,
   "metadata": {},
   "outputs": [
    {
     "data": {
      "text/plain": [
       "(3466, 6)"
      ]
     },
     "execution_count": 43,
     "metadata": {},
     "output_type": "execute_result"
    }
   ],
   "source": [
    "rel_df.shape"
   ]
  },
  {
   "cell_type": "code",
   "execution_count": 44,
   "metadata": {},
   "outputs": [
    {
     "data": {
      "text/plain": [
       "70"
      ]
     },
     "execution_count": 44,
     "metadata": {},
     "output_type": "execute_result"
    }
   ],
   "source": [
    "rel_df[\"query\"].nunique()"
   ]
  },
  {
   "cell_type": "code",
   "execution_count": 45,
   "metadata": {},
   "outputs": [
    {
     "data": {
      "text/html": [
       "<div>\n",
       "<style scoped>\n",
       "    .dataframe tbody tr th:only-of-type {\n",
       "        vertical-align: middle;\n",
       "    }\n",
       "\n",
       "    .dataframe tbody tr th {\n",
       "        vertical-align: top;\n",
       "    }\n",
       "\n",
       "    .dataframe thead th {\n",
       "        text-align: right;\n",
       "    }\n",
       "</style>\n",
       "<table border=\"1\" class=\"dataframe\">\n",
       "  <thead>\n",
       "    <tr style=\"text-align: right;\">\n",
       "      <th></th>\n",
       "      <th>query</th>\n",
       "      <th>docid</th>\n",
       "      <th>headline</th>\n",
       "      <th>body</th>\n",
       "      <th>query_source</th>\n",
       "      <th>rel</th>\n",
       "    </tr>\n",
       "  </thead>\n",
       "  <tbody>\n",
       "    <tr>\n",
       "      <th>0</th>\n",
       "      <td>Hollywood celebrity scandals</td>\n",
       "      <td>60027607</td>\n",
       "      <td>'Elvis' Producers Criticized For Casting Austi...</td>\n",
       "      <td>LOS ANGELES—As awards season arrives and criti...</td>\n",
       "      <td>doc2query_reviewed</td>\n",
       "      <td>None</td>\n",
       "    </tr>\n",
       "    <tr>\n",
       "      <th>1</th>\n",
       "      <td>Hollywood celebrity scandals</td>\n",
       "      <td>18456146</td>\n",
       "      <td>Laura Dern And T. Rex Reexamine 68-Million-Yea...</td>\n",
       "      <td>LOS ANGELES—Reflecting on the relationship por...</td>\n",
       "      <td>doc2query_reviewed</td>\n",
       "      <td>None</td>\n",
       "    </tr>\n",
       "    <tr>\n",
       "      <th>2</th>\n",
       "      <td>Hollywood celebrity scandals</td>\n",
       "      <td>53018595</td>\n",
       "      <td>Ticketmaster To Require Purchase Of Round-Trip...</td>\n",
       "      <td>WEST HOLLYWOOD, CA—Updating the company's term...</td>\n",
       "      <td>doc2query_reviewed</td>\n",
       "      <td>None</td>\n",
       "    </tr>\n",
       "    <tr>\n",
       "      <th>3</th>\n",
       "      <td>Hollywood celebrity scandals</td>\n",
       "      <td>38925781</td>\n",
       "      <td>Hollywood Tour Group Stops At Jack Nicholson's...</td>\n",
       "      <td>LOS ANGELES—Offering a rare glimpse of how the...</td>\n",
       "      <td>doc2query_reviewed</td>\n",
       "      <td>None</td>\n",
       "    </tr>\n",
       "    <tr>\n",
       "      <th>4</th>\n",
       "      <td>Hollywood celebrity scandals</td>\n",
       "      <td>36434289</td>\n",
       "      <td>6 Arrested For Changing Hollywood Sign To Read...</td>\n",
       "      <td>Six people have been arrested for altering the...</td>\n",
       "      <td>doc2query_reviewed</td>\n",
       "      <td>None</td>\n",
       "    </tr>\n",
       "  </tbody>\n",
       "</table>\n",
       "</div>"
      ],
      "text/plain": [
       "                          query     docid  \\\n",
       "0  Hollywood celebrity scandals  60027607   \n",
       "1  Hollywood celebrity scandals  18456146   \n",
       "2  Hollywood celebrity scandals  53018595   \n",
       "3  Hollywood celebrity scandals  38925781   \n",
       "4  Hollywood celebrity scandals  36434289   \n",
       "\n",
       "                                            headline  \\\n",
       "0  'Elvis' Producers Criticized For Casting Austi...   \n",
       "1  Laura Dern And T. Rex Reexamine 68-Million-Yea...   \n",
       "2  Ticketmaster To Require Purchase Of Round-Trip...   \n",
       "3  Hollywood Tour Group Stops At Jack Nicholson's...   \n",
       "4  6 Arrested For Changing Hollywood Sign To Read...   \n",
       "\n",
       "                                                body        query_source   rel  \n",
       "0  LOS ANGELES—As awards season arrives and criti...  doc2query_reviewed  None  \n",
       "1  LOS ANGELES—Reflecting on the relationship por...  doc2query_reviewed  None  \n",
       "2  WEST HOLLYWOOD, CA—Updating the company's term...  doc2query_reviewed  None  \n",
       "3  LOS ANGELES—Offering a rare glimpse of how the...  doc2query_reviewed  None  \n",
       "4  Six people have been arrested for altering the...  doc2query_reviewed  None  "
      ]
     },
     "execution_count": 45,
     "metadata": {},
     "output_type": "execute_result"
    }
   ],
   "source": [
    "rel_df = rel_df.groupby(\"query\")\\\n",
    "    .apply(lambda x: x.sample(frac=1, random_state=42))\\\n",
    "    .reset_index(drop=True)\n",
    "rel_df.head()"
   ]
  },
  {
   "cell_type": "code",
   "execution_count": 46,
   "metadata": {},
   "outputs": [
    {
     "data": {
      "text/plain": [
       "50    52\n",
       "51    16\n",
       "37     1\n",
       "13     1\n",
       "Name: count, dtype: int64"
      ]
     },
     "execution_count": 46,
     "metadata": {},
     "output_type": "execute_result"
    }
   ],
   "source": [
    "rel_df.groupby(\"query\").size().value_counts()"
   ]
  },
  {
   "cell_type": "code",
   "execution_count": 47,
   "metadata": {},
   "outputs": [
    {
     "data": {
      "text/plain": [
       "(1708, 1758)"
      ]
     },
     "execution_count": 47,
     "metadata": {},
     "output_type": "execute_result"
    }
   ],
   "source": [
    "all_queries = rel_df[\"query\"].unique()\n",
    "\n",
    "np.random.seed(42)\n",
    "np.random.shuffle(all_queries)\n",
    "queries_1 = all_queries[:len(all_queries)//2]\n",
    "queries_2 = all_queries[len(all_queries)//2:]\n",
    "\n",
    "rel_df1 = rel_df[rel_df[\"query\"].isin(queries_1)].reset_index(drop=True)\n",
    "rel_df2 = rel_df[rel_df[\"query\"].isin(queries_2)].reset_index(drop=True)\n",
    "len(rel_df1), len(rel_df2)"
   ]
  },
  {
   "cell_type": "code",
   "execution_count": 48,
   "metadata": {},
   "outputs": [
    {
     "data": {
      "text/plain": [
       "(35, 35)"
      ]
     },
     "execution_count": 48,
     "metadata": {},
     "output_type": "execute_result"
    }
   ],
   "source": [
    "rel_df1[\"query\"].nunique(), rel_df2[\"query\"].nunique()"
   ]
  },
  {
   "cell_type": "code",
   "execution_count": 49,
   "metadata": {},
   "outputs": [],
   "source": [
    "rel_df1.to_csv(\"../data/relevance_anusha.csv\", index=False, encoding='utf-8-sig')\n",
    "rel_df2.to_csv(\"../data/relevance_aryan.csv\", index=False, encoding='utf-8-sig')"
   ]
  },
  {
   "cell_type": "markdown",
   "metadata": {},
   "source": [
    "# Relevance scores\n",
    "\n",
    "Manually annotated"
   ]
  },
  {
   "cell_type": "code",
   "execution_count": 61,
   "metadata": {},
   "outputs": [],
   "source": [
    "rel_df1 = pd.read_csv(\"../data/relevance_anusha.csv\")\n",
    "rel_df2 = pd.read_csv(\"../data/relevance_aryan_scored.csv\")\n",
    "\n",
    "rel_df = pd.concat([rel_df1, rel_df2], ignore_index=True)\\\n",
    "    .dropna(subset=[\"rel\"]).reset_index(drop=True)\n",
    "rel_df[\"rel\"] = rel_df[\"rel\"].astype(int)"
   ]
  },
  {
   "cell_type": "code",
   "execution_count": 76,
   "metadata": {},
   "outputs": [
    {
     "data": {
      "text/plain": [
       "3162"
      ]
     },
     "execution_count": 76,
     "metadata": {},
     "output_type": "execute_result"
    }
   ],
   "source": [
    "len(rel_df)"
   ]
  },
  {
   "cell_type": "code",
   "execution_count": null,
   "metadata": {},
   "outputs": [
    {
     "data": {
      "text/plain": [
       "64"
      ]
     },
     "execution_count": 62,
     "metadata": {},
     "output_type": "execute_result"
    }
   ],
   "source": [
    "delete_queries = [\n",
    "    \"experiences in the service industry\",\n",
    "    \"how to fight the winter blues\",\n",
    "    \"lie to me\",\n",
    "    \"what is the role of the creative director\",\n",
    "    \"what movies and TV shows should I avoid\",\n",
    "    \"what do office workers think\",\n",
    "]\n",
    "\n",
    "rel_df = rel_df[~rel_df[\"query\"].isin(delete_queries)].reset_index(drop=True)\n",
    "rel_df[\"query\"].nunique()"
   ]
  },
  {
   "cell_type": "code",
   "execution_count": 63,
   "metadata": {},
   "outputs": [
    {
     "data": {
      "text/plain": [
       "rel\n",
       "1    1639\n",
       "2     619\n",
       "4     417\n",
       "5     290\n",
       "3     197\n",
       "Name: count, dtype: int64"
      ]
     },
     "execution_count": 63,
     "metadata": {},
     "output_type": "execute_result"
    }
   ],
   "source": [
    "# Relevance labels distribution\n",
    "rel_df[\"rel\"].value_counts()"
   ]
  },
  {
   "cell_type": "code",
   "execution_count": 65,
   "metadata": {},
   "outputs": [],
   "source": [
    "sns.set_style(\"darkgrid\")"
   ]
  },
  {
   "cell_type": "code",
   "execution_count": null,
   "metadata": {},
   "outputs": [
    {
     "data": {
      "image/png": "[encoded data removed]",
      "text/plain": [
       "<Figure size 640x480 with 1 Axes>"
      ]
     },
     "metadata": {},
     "output_type": "display_data"
    }
   ],
   "source": [
    "sns.countplot(x=\"rel\", data=rel_df, hue=\"rel\")\n",
    "plt.xlabel(\"Relevance Score\")\n",
    "plt.ylabel(\"No. of Instances\")\n",
    "# plt.title(\"Relevance Labels Distribution\")\n",
    "plt.legend([],[], frameon=False)\n",
    "plt.show()\n"
   ]
  },
  {
   "cell_type": "code",
   "execution_count": 67,
   "metadata": {},
   "outputs": [],
   "source": [
    "rel_df.to_csv(\"../data/relevance_dataset.csv\", index=False, encoding='utf-8-sig')"
   ]
  },
  {
   "cell_type": "markdown",
   "metadata": {},
   "source": [
    "# Train-dev-test split"
   ]
  },
  {
   "cell_type": "code",
   "execution_count": 68,
   "metadata": {},
   "outputs": [
    {
     "name": "stdout",
     "output_type": "stream",
     "text": [
      "38 13 13\n"
     ]
    }
   ],
   "source": [
    "from sklearn.model_selection import train_test_split\n",
    "\n",
    "# train, dev, test = 60%, 20%, 20%\n",
    "\n",
    "train_queries, test_queries = train_test_split(rel_df[\"query\"].unique(), test_size=0.4, random_state=42)\n",
    "dev_queries, test_queries = train_test_split(test_queries, test_size=0.5, random_state=42)\n",
    "\n",
    "print(len(train_queries), len(dev_queries), len(test_queries))"
   ]
  },
  {
   "cell_type": "code",
   "execution_count": 69,
   "metadata": {},
   "outputs": [
    {
     "name": "stdout",
     "output_type": "stream",
     "text": [
      "Train queries: ['is AI taking over the world'\n",
      " 'what were people doing during the covid-19 pandemic'\n",
      " 'NFL news and updates' \"I'm bored I need a new hobby\"\n",
      " 'who are the United States Supreme Court justices'\n",
      " 'why are US national parks closed' 'therapy sessions gone wrong'\n",
      " 'when did mitt romney cry' 'what the dog doing'\n",
      " 'what is the satirical article on recycling'\n",
      " 'uncomfortable conversations with parents' 'local sports teams updates'\n",
      " 'West Coast vs East Coast' \"what's something you shouldn't joke about\"\n",
      " 'people being dumb on the internet' \"how to get a good night's sleep\"\n",
      " 'I hate my boss what should I do'\n",
      " 'latest news from Ann Arbor and Washtenaw County'\n",
      " 'what did area/local man do this time' 'New York subway stories'\n",
      " 'what did the downy duck do' 'University of Michigan campus news'\n",
      " 'why was justin bieber in the news' 'how to make friends'\n",
      " 'how to be more productive'\n",
      " 'what happened during the halftime show at the Super Bowl?'\n",
      " 'what is the DNC shakeup?' 'is the economy going to crash'\n",
      " 'what did the woman say to her friend?'\n",
      " 'what article said bees are ambassadors' 'women in politics'\n",
      " 'what did reporters say on Fox News' 'how to get a job'\n",
      " 'kitchen fails and cooking disasters' 'social anxiety tips'\n",
      " 'why should I care about climate change'\n",
      " 'what happened in Yellowstone National Park?' 'how to lose weight']\n",
      "Dev queries: ['life as a college student' 'getting along with your siblings'\n",
      " 'do aliens exist' 'what are some relationship red flags'\n",
      " 'fun date ideas for couples' 'what did politicians say about voter fraud'\n",
      " 'what makes humans better than others' 'how to be happy :('\n",
      " 'millenials vs boomers' \"what's going on in Florida\"\n",
      " 'funny podcasts and radio shows' 'how to get over a breakup'\n",
      " 'what are some interesting conspiracy theories']\n",
      "Test queries: ['what sports should I try' 'cool science facts'\n",
      " 'what happened when world leaders met?' 'what did bill cosby do'\n",
      " 'how to make money' 'why do people like pineapple on pizza'\n",
      " 'popular social media trends'\n",
      " 'white nationalism and supremacy in america' 'urban myths and legends'\n",
      " 'how to deal with an emotional friend' 'Hollywood celebrity scandals'\n",
      " 'how to scam people' 'what do people think of the two-party system?']\n"
     ]
    }
   ],
   "source": [
    "print(\"Train queries:\", train_queries)\n",
    "print(\"Dev queries:\", dev_queries)\n",
    "print(\"Test queries:\", test_queries)"
   ]
  },
  {
   "cell_type": "code",
   "execution_count": 70,
   "metadata": {},
   "outputs": [
    {
     "data": {
      "text/plain": [
       "(1907, 601, 654)"
      ]
     },
     "execution_count": 70,
     "metadata": {},
     "output_type": "execute_result"
    }
   ],
   "source": [
    "train_df = rel_df[rel_df[\"query\"].isin(train_queries)].reset_index(drop=True)\n",
    "dev_df = rel_df[rel_df[\"query\"].isin(dev_queries)].reset_index(drop=True)\n",
    "test_df = rel_df[rel_df[\"query\"].isin(test_queries)].reset_index(drop=True)\n",
    "\n",
    "len(train_df), len(dev_df), len(test_df)"
   ]
  },
  {
   "cell_type": "code",
   "execution_count": 71,
   "metadata": {},
   "outputs": [],
   "source": [
    "train_df.to_csv(\"../data/relevance_train.csv\", index=False, encoding='utf-8-sig')\n",
    "dev_df.to_csv(\"../data/relevance_dev.csv\", index=False, encoding='utf-8-sig')\n",
    "test_df.to_csv(\"../data/relevance_test.csv\", index=False, encoding='utf-8-sig')"
   ]
  },
  {
   "cell_type": "code",
   "execution_count": null,
   "metadata": {},
   "outputs": [],
   "source": []
  }
 ],
 "metadata": {
  "kernelspec": {
   "display_name": "si650",
   "language": "python",
   "name": "python3"
  },
  "language_info": {
   "codemirror_mode": {
    "name": "ipython",
    "version": 3
   },
   "file_extension": ".py",
   "mimetype": "text/x-python",
   "name": "python",
   "nbconvert_exporter": "python",
   "pygments_lexer": "ipython3",
   "version": "3.11.2"
  }
 },
 "nbformat": 4,
 "nbformat_minor": 2
}
