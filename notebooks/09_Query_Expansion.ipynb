{
 "cells": [
  {
   "cell_type": "code",
   "execution_count": null,
   "metadata": {},
   "outputs": [],
   "source": [
    "\n",
    "%reload_ext autoreload\n",
    "%autoreload 2\n",
    "import os\n",
    "import sys\n",
    "sys.path.append('..')\n",
    "import warnings\n",
    "warnings.filterwarnings('ignore')"
   ]
  },
  {
   "cell_type": "code",
   "execution_count": null,
   "metadata": {},
   "outputs": [],
   "source": [
    "import pandas as pd\n",
    "import numpy as np\n",
    "import json\n",
    "import matplotlib.pyplot as plt\n",
    "import seaborn as sns\n",
    "sns.set_style(\"darkgrid\")"
   ]
  },
  {
   "cell_type": "code",
   "execution_count": 32,
   "metadata": {},
   "outputs": [],
   "source": [
    "dataset_path = '../data/processed_articles_dedup_nsfwtags_sarcasm.csv'\n",
    "relevance_train_path = '../data/relevance_train.csv'\n",
    "relevance_dev_path = '../data/relevance_dev.csv'\n",
    "relevance_test_path = '../data/relevance_test.csv'\n",
    "multiwords_path = '../data/multiword_expressions.txt'\n",
    "stopwords_path = '../data/stopwords_updated.txt'"
   ]
  },
  {
   "cell_type": "code",
   "execution_count": 3,
   "metadata": {},
   "outputs": [],
   "source": [
    "from src.utils import load_txt\n",
    "\n",
    "mwes = load_txt(multiwords_path)\n",
    "stopwords = load_txt(stopwords_path)"
   ]
  },
  {
   "cell_type": "code",
   "execution_count": 4,
   "metadata": {},
   "outputs": [],
   "source": [
    "from src.document_preprocessor import RegexTokenizer\n",
    "\n",
    "preprocessor = RegexTokenizer(\"\\w+(?:-\\w+)*(?:'[^stmrvld]\\w*)*\", lowercase=True, multiword_expressions=mwes)"
   ]
  },
  {
   "cell_type": "markdown",
   "metadata": {},
   "source": [
    "# Query Expansion using WordNet"
   ]
  },
  {
   "cell_type": "code",
   "execution_count": 34,
   "metadata": {},
   "outputs": [
    {
     "data": {
      "text/plain": [
       "51"
      ]
     },
     "execution_count": 34,
     "metadata": {},
     "output_type": "execute_result"
    }
   ],
   "source": [
    "rel_train_df = pd.read_csv(relevance_train_path)\n",
    "rel_queries = rel_train_df['query'].unique().tolist()\n",
    "\n",
    "rel_dev_df = pd.read_csv(relevance_dev_path)\n",
    "rel_queries += rel_dev_df['query'].unique().tolist()\n",
    "len(rel_queries)"
   ]
  },
  {
   "cell_type": "code",
   "execution_count": null,
   "metadata": {},
   "outputs": [],
   "source": [
    "from nltk.corpus import wordnet as wn\n",
    "from nltk import pos_tag\n",
    "\n",
    "\n",
    "def expand_query(tokens, stopwords, include_hypernyms=False):\n",
    "    # POS tag the query tokens\n",
    "    tokens_tagged = pos_tag(tokens)\n",
    "    \n",
    "    expanded_terms = []\n",
    "    \n",
    "    for word, pos in tokens_tagged:\n",
    "        # Skip stopwords\n",
    "        if word in stopwords:\n",
    "            continue\n",
    "        \n",
    "        # Keep the original word\n",
    "        expanded_terms.append(word)\n",
    "        \n",
    "        # Map POS tag to WordNet POS\n",
    "        wn_pos = get_wordnet_pos(pos)\n",
    "        \n",
    "        if wn_pos:\n",
    "            # Get synsets for the word\n",
    "            synsets = wn.synsets(word, pos=wn_pos)\n",
    "            \n",
    "            if synsets:\n",
    "                # Add original word\n",
    "                expanded_terms.append(word)\n",
    "                \n",
    "                # Add lemma names from the first synset\n",
    "                lemmas = synsets[0].lemma_names()\n",
    "                expanded_terms.extend([lemma.replace('_', ' ').lower() \n",
    "                                       for lemma in lemmas if lemma != word])\n",
    "                \n",
    "                # Add hypernyms\n",
    "                if include_hypernyms:\n",
    "                    hypernyms = synsets[0].hypernyms()\n",
    "                    if hypernyms:\n",
    "                        expanded_terms.extend([h.replace('_', ' ').lower()\n",
    "                                               for h in hypernyms[0].lemma_names()])\n",
    "    \n",
    "    # Remove duplicates\n",
    "    return list(set(expanded_terms))\n",
    "\n",
    "\n",
    "def get_wordnet_pos(treebank_tag: str) -> str:\n",
    "    if treebank_tag.startswith('J'):\n",
    "        return wn.ADJ\n",
    "    elif treebank_tag.startswith('V'):\n",
    "        return wn.VERB\n",
    "    elif treebank_tag.startswith('N'):\n",
    "        return wn.NOUN\n",
    "    elif treebank_tag.startswith('R'):\n",
    "        return wn.ADV\n",
    "    else:\n",
    "        return None"
   ]
  },
  {
   "cell_type": "code",
   "execution_count": 35,
   "metadata": {},
   "outputs": [
    {
     "name": "stdout",
     "output_type": "stream",
     "text": [
      "Original query: 'New York subway stories'\n",
      "Expanded using WordNet synonyms: ['tube', 'narrative', 'underground', 'subway system', 'metro', 'story', 'stories', 'narration', 'tale', 'new york', 'subway']\n",
      "Expanded using WordNet synonyms and hypernyms: ['subway system', 'substance', 'message', 'railway line', 'railroad', 'content', 'tale', 'narration', 'railway system', 'tube', 'underground', 'railroad line', 'railway', 'new york', 'subway', 'narrative', 'story', 'stories', 'subject matter', 'metro']\n",
      "\n",
      "Original query: 'University of Michigan campus news'\n",
      "Expanded using WordNet synonyms: ['news', 'tidings', 'word', 'intelligence', 'campus', 'university of michigan']\n",
      "Expanded using WordNet synonyms and hypernyms: ['field', 'news', 'tidings', 'word', 'intelligence', 'campus', 'information', 'info', 'university of michigan']\n",
      "\n",
      "Original query: 'how to get a job'\n",
      "Expanded using WordNet synonyms: ['line', 'line of work', 'job', 'occupation', 'business']\n",
      "Expanded using WordNet synonyms and hypernyms: ['line', 'activity', 'line of work', 'job', 'occupation', 'business']\n",
      "\n",
      "Original query: 'is the economy going to crash'\n",
      "Expanded using WordNet synonyms: ['crash', 'economic system', 'economy']\n",
      "Expanded using WordNet synonyms and hypernyms: ['system', 'scheme', 'descend', 'crash', 'go down', 'economy', 'come down', 'economic system', 'fall']\n",
      "\n",
      "Original query: 'local sports teams updates'\n",
      "Expanded using WordNet synonyms: ['athletics', 'local', 'sports', 'updates', 'sport', 'squad', 'team', 'update', 'teams']\n",
      "Expanded using WordNet synonyms and hypernyms: ['athletics', 'local', 'unit', 'news', 'sports', 'updates', 'tidings', 'word', 'recreation', 'intelligence', 'social unit', 'diversion', 'sport', 'squad', 'team', 'update', 'teams']\n",
      "\n",
      "Original query: 'social anxiety tips'\n",
      "Expanded using WordNet synonyms: ['anxiousness', 'tip', 'societal', 'anxiety', 'tips', 'social']\n",
      "Expanded using WordNet synonyms and hypernyms: ['anxiousness', 'tip', 'mental condition', 'societal', 'psychological condition', 'anxiety', 'tips', 'psychological state', 'mental state', 'terminal', 'end', 'social']\n",
      "\n",
      "Original query: 'therapy sessions gone wrong'\n",
      "Expanded using WordNet synonyms: ['roger sessions', 'roger huntington sessions', 'sessions', 'wrong', 'therapy', 'incorrect']\n",
      "Expanded using WordNet synonyms and hypernyms: ['roger sessions', 'roger huntington sessions', 'sessions', 'medical aid', 'medical care', 'wrong', 'therapy', 'incorrect']\n",
      "\n",
      "Original query: 'what article said bees are ambassadors'\n",
      "Expanded using WordNet synonyms: ['ambassador', 'embassador', 'ambassadors', 'article', 'bee', 'bees']\n",
      "Expanded using WordNet synonyms and hypernyms: ['ambassador', 'embassador', 'hymenopteron', 'hymenopteran', 'ambassadors', 'article', 'hymenopter', 'bee', 'diplomat', 'hymenopterous insect', 'piece', 'bees', 'diplomatist']\n",
      "\n",
      "Original query: 'what did reporters say on Fox News'\n",
      "Expanded using WordNet synonyms: ['news', 'tidings', 'word', 'reporter', 'intelligence', 'newsman', 'fox', 'newsperson', 'reporters']\n",
      "Expanded using WordNet synonyms and hypernyms: ['news', 'communicator', 'tidings', 'word', 'reporter', 'intelligence', 'newsman', 'information', 'fox', 'newsperson', 'reporters', 'info']\n",
      "\n",
      "Original query: 'what did the downy duck do'\n",
      "Expanded using WordNet synonyms: ['downy duck']\n",
      "Expanded using WordNet synonyms and hypernyms: ['downy duck']\n",
      "\n",
      "Original query: 'what did the woman say to her friend?'\n",
      "Expanded using WordNet synonyms: ['woman', 'friend', 'adult female']\n",
      "Expanded using WordNet synonyms and hypernyms: ['mortal', 'adult', 'individual', 'soul', 'grownup', 'woman', 'somebody', 'someone', 'friend', 'person', 'adult female']\n",
      "\n",
      "Original query: 'what happened during the halftime show at the Super Bowl?'\n",
      "Expanded using WordNet synonyms: ['pass', 'happened', 'fall out', 'occur', 'happen', 'take place', 'show', 'super bowl', 'go on', 'hap', 'pass off', 'halftime', 'come about']\n",
      "Expanded using WordNet synonyms and hypernyms: ['happen', 'pass off', 'fall out', 'take place', 'suspension', 'intermission', 'interruption', 'pause', 'come about', 'happened', 'amusement', 'entertainment', 'halftime', 'show', 'pass', 'occur', 'break', 'super bowl', 'go on', 'hap']\n",
      "\n",
      "Original query: 'what is the satirical article on recycling'\n",
      "Expanded using WordNet synonyms: ['recycling', 'recycle', 'article', 'satiric', 'satirical']\n",
      "Expanded using WordNet synonyms and hypernyms: ['recycling', 'recycle', 'cycle', 'article', 'satiric', 'satirical', 'piece']\n",
      "\n",
      "Original query: 'what the dog doing'\n",
      "Expanded using WordNet synonyms: ['dog', 'canis familiaris', 'domestic dog']\n",
      "Expanded using WordNet synonyms and hypernyms: ['dog', 'canine', 'domestic dog', 'canid', 'canis familiaris']\n",
      "\n",
      "Original query: 'when did mitt romney cry'\n",
      "Expanded using WordNet synonyms: ['vociferation', 'outcry', 'shout', 'call', 'yell', 'mitt romney', 'cry']\n",
      "Expanded using WordNet synonyms and hypernyms: ['vociferation', 'outcry', 'shout', 'utterance', 'call', 'yell', 'vocalization', 'mitt romney', 'cry']\n",
      "\n",
      "Original query: 'why should I care about climate change'\n",
      "Expanded using WordNet synonyms: ['climate', 'aid', 'clime', 'change', 'modification', 'alteration', 'attention', 'tending', 'care']\n",
      "Expanded using WordNet synonyms and hypernyms: ['climate', 'happening', 'aid', 'environmental condition', 'clime', 'change', 'natural event', 'work', 'modification', 'alteration', 'occurrence', 'attention', 'occurrent', 'tending', 'care']\n",
      "\n",
      "Original query: 'I hate my boss what should I do'\n",
      "Expanded using WordNet synonyms: ['detest', 'honcho', 'hate', 'gaffer', 'foreman', 'boss', 'chief']\n",
      "Expanded using WordNet synonyms and hypernyms: ['detest', 'dislike', 'honcho', 'hate', 'gaffer', 'foreman', 'supervisor', 'boss', 'chief']\n",
      "\n",
      "Original query: 'I'm bored I need a new hobby'\n",
      "Expanded using WordNet synonyms: ['avocation', 'new', 'bored', 'bore', 'spare-time activity', 'pursuit', 'by-line', 'sideline', 'hobby', 'tire']\n",
      "Expanded using WordNet synonyms and hypernyms: ['avocation', 'new', 'bored', 'pastime', 'bore', 'interest', 'spare-time activity', 'pursuit', 'by-line', 'sideline', 'hobby', 'tire']\n",
      "\n",
      "Original query: 'NFL news and updates'\n",
      "Expanded using WordNet synonyms: ['news', 'tidings', 'updates', 'word', 'intelligence', 'nfl', 'update']\n",
      "Expanded using WordNet synonyms and hypernyms: ['news', 'tidings', 'updates', 'word', 'intelligence', 'information', 'nfl', 'update', 'info']\n",
      "\n",
      "Original query: 'West Coast vs East Coast'\n",
      "Expanded using WordNet synonyms: ['west coast', 'east coast']\n",
      "Expanded using WordNet synonyms and hypernyms: ['west coast', 'east coast']\n",
      "\n",
      "Original query: 'how to be more productive'\n",
      "Expanded using WordNet synonyms: ['to a greater extent', 'more', 'productive']\n",
      "Expanded using WordNet synonyms and hypernyms: ['to a greater extent', 'more', 'productive']\n",
      "\n",
      "Original query: 'how to get a good night's sleep'\n",
      "Expanded using WordNet synonyms: ['kip', \"catch some z's\", 'night', 'sleep', 'dark', 'nighttime', 'good', 'slumber', \"log z's\"]\n",
      "Expanded using WordNet synonyms and hypernyms: ['kip', 'rest', \"catch some z's\", 'night', 'sleep', 'period of time', 'dark', 'nighttime', 'period', 'good', 'slumber', 'time period', \"log z's\"]\n",
      "\n",
      "Original query: 'how to lose weight'\n",
      "Expanded using WordNet synonyms: ['weight', 'lose']\n",
      "Expanded using WordNet synonyms and hypernyms: ['physical property', 'weight', 'lose']\n",
      "\n",
      "Original query: 'how to make friends'\n",
      "Expanded using WordNet synonyms: ['friends', 'friend', 'make', 'do']\n",
      "Expanded using WordNet synonyms and hypernyms: ['mortal', 'individual', 'make', 'soul', 'somebody', 'friends', 'do', 'someone', 'friend', 'person']\n",
      "\n",
      "Original query: 'is AI taking over the world'\n",
      "Expanded using WordNet synonyms: ['macrocosm', 'existence', 'taking', 'universe', 'world', 'ai', 'cosmos', 'take', 'creation']\n",
      "Expanded using WordNet synonyms and hypernyms: ['macrocosm', 'move', 'existence', 'taking', 'universe', 'world', 'ai', 'cosmos', 'take', 'natural object', 'creation', 'act']\n",
      "\n",
      "Original query: 'kitchen fails and cooking disasters'\n",
      "Expanded using WordNet synonyms: ['disaster', 'disasters', 'catastrophe', 'cooking', 'fails', 'kitchen', 'cook']\n",
      "Expanded using WordNet synonyms and hypernyms: ['room', 'disaster', 'disasters', 'adversity', 'catastrophe', 'cooking', 'hardship', 'hard knocks', 'create from raw material', 'fails', 'kitchen', 'create from raw stuff', 'cook']\n",
      "\n",
      "Original query: 'latest news from Ann Arbor and Washtenaw County'\n",
      "Expanded using WordNet synonyms: ['news', 'tidings', 'washtenaw', 'word', 'county', 'intelligence', 'up-to-the-minute', 'ann arbor', 'latest']\n",
      "Expanded using WordNet synonyms and hypernyms: ['part', 'news', 'tidings', 'washtenaw', 'word', 'county', 'intelligence', 'up-to-the-minute', 'information', 'ann arbor', 'latest', 'info', 'region']\n",
      "\n",
      "Original query: 'people being dumb on the internet'\n",
      "Expanded using WordNet synonyms: ['internet', 'net', 'cyberspace', 'dumb', 'people']\n",
      "Expanded using WordNet synonyms and hypernyms: ['internet', 'computer network', 'net', 'cyberspace', 'group', 'dumb', 'grouping', 'people']\n",
      "\n",
      "Original query: 'uncomfortable conversations with parents'\n",
      "Expanded using WordNet synonyms: ['parent', 'conversations', 'parents', 'uncomfortable', 'conversation']\n",
      "Expanded using WordNet synonyms and hypernyms: ['parent', 'conversations', 'parents', 'uncomfortable', 'spoken language', 'speech', 'language', 'spoken communication', 'speech communication', 'genitor', 'conversation', 'voice communication', 'oral communication']\n",
      "\n",
      "Original query: 'what did area/local man do this time'\n",
      "Expanded using WordNet synonyms: ['local', 'adult male', 'time', 'country', 'area', 'clip', 'man']\n",
      "Expanded using WordNet synonyms and hypernyms: ['local', 'adult', 'instance', 'adult male', 'grownup', 'time', 'case', 'example', 'region', 'country', 'area', 'clip', 'man']\n",
      "\n",
      "Original query: 'what happened in Yellowstone National Park?'\n",
      "Expanded using WordNet synonyms: ['pass', 'happened', 'fall out', 'occur', 'happen', 'take place', 'yellowstone', 'go on', 'hap', 'pass off', 'national park', 'yellowstone river', 'come about']\n",
      "Expanded using WordNet synonyms and hypernyms: ['pass', 'happened', 'fall out', 'occur', 'happen', 'take place', 'yellowstone', 'go on', 'hap', 'pass off', 'national park', 'yellowstone river', 'come about']\n",
      "\n",
      "Original query: 'what is the DNC shakeup?'\n",
      "Expanded using WordNet synonyms: ['reorganization', 'shake-up', 'dnc', 'reorganisation', 'shakeup']\n",
      "Expanded using WordNet synonyms and hypernyms: ['reorganization', 'shake-up', 'dnc', 'reorganisation', 'organization', 'organisation', 'shakeup']\n",
      "\n",
      "Original query: 'what were people doing during the covid-19 pandemic'\n",
      "Expanded using WordNet synonyms: ['people', 'covid-19', 'pandemic']\n",
      "Expanded using WordNet synonyms and hypernyms: ['epidemic', 'group', 'covid-19', 'pandemic', 'people', 'grouping']\n",
      "\n",
      "Original query: 'what's something you shouldn't joke about'\n",
      "Expanded using WordNet synonyms: ['t', 'joke', 'laugh', 'jape', 'jest', 'gag']\n",
      "Expanded using WordNet synonyms and hypernyms: ['t', 'wit', 'joke', 'witticism', 'humor', 'humour', 'wittiness', 'laugh', 'jape', 'jest', 'gag']\n",
      "\n",
      "Original query: 'who are the United States Supreme Court justices'\n",
      "Expanded using WordNet synonyms: ['justice', 'united states supreme court', 'justness', 'justices']\n",
      "Expanded using WordNet synonyms and hypernyms: ['natural virtue', 'justness', 'justice', 'united states supreme court', 'justices']\n",
      "\n",
      "Original query: 'why are US national parks closed'\n",
      "Expanded using WordNet synonyms: ['close', 'national parks', 'shut', 'closed']\n",
      "Expanded using WordNet synonyms and hypernyms: ['close', 'national parks', 'shut', 'closed']\n",
      "\n",
      "Original query: 'why was justin bieber in the news'\n",
      "Expanded using WordNet synonyms: ['news', 'tidings', 'word', 'intelligence', 'justin bieber']\n",
      "Expanded using WordNet synonyms and hypernyms: ['news', 'tidings', 'word', 'intelligence', 'justin bieber', 'information', 'info']\n",
      "\n",
      "Original query: 'women in politics'\n",
      "Expanded using WordNet synonyms: ['politics', 'women', 'political relation', 'woman', 'adult female']\n",
      "Expanded using WordNet synonyms and hypernyms: ['social relation', 'politics', 'adult', 'women', 'political relation', 'grownup', 'woman', 'adult female']\n",
      "\n",
      "Original query: 'fun date ideas for couples'\n",
      "Expanded using WordNet synonyms: ['duet', 'playfulness', 'fun', 'ideas', 'idea', 'duo', 'date', 'merriment', 'thought', 'couple', 'day of the month', 'couples', 'twosome']\n",
      "Expanded using WordNet synonyms and hypernyms: ['diversion', 'ideas', 'idea', 'merriment', 'content', 'couples', 'twosome', 'recreation', 'pair', 'twenty-four hour period', 'day', 'mental object', 'mean solar day', 'fun', '24-hour interval', 'couple', 'twenty-four hours', 'solar day', 'duet', 'playfulness', 'cognitive content', 'duo', 'date', 'thought', 'day of the month']\n",
      "\n",
      "Original query: 'getting along with your siblings'\n",
      "Expanded using WordNet synonyms: ['sib', 'siblings', 'sibling']\n",
      "Expanded using WordNet synonyms and hypernyms: ['relative', 'sibling', 'relation', 'sib', 'siblings']\n",
      "\n",
      "Original query: 'how to be happy :('\n",
      "Expanded using WordNet synonyms: ['happy']\n",
      "Expanded using WordNet synonyms and hypernyms: ['happy']\n",
      "\n",
      "Original query: 'how to get over a breakup'\n",
      "Expanded using WordNet synonyms: ['dissolution', 'breakup']\n",
      "Expanded using WordNet synonyms and hypernyms: ['ending', 'conclusion', 'termination', 'dissolution', 'breakup']\n",
      "\n",
      "Original query: 'millenials vs boomers'\n",
      "Expanded using WordNet synonyms: ['boomers', 'millenials', 'baby boomer', 'boomer']\n",
      "Expanded using WordNet synonyms and hypernyms: ['mortal', 'boomers', 'individual', 'soul', 'somebody', 'baby boomer', 'someone', 'boomer', 'millenials', 'person']\n",
      "\n",
      "Original query: 'what are some interesting conspiracy theories'\n",
      "Expanded using WordNet synonyms: ['confederacy', 'conspiracy', 'theory', 'theories', 'interesting']\n",
      "Expanded using WordNet synonyms and hypernyms: ['explanation', 'confederacy', 'conspiracy', 'theories', 'theory', 'understanding', 'agreement', 'interesting']\n",
      "\n",
      "Original query: 'what are some relationship red flags'\n",
      "Expanded using WordNet synonyms: ['flag', 'flags', 'human relationship', 'relationship', 'red']\n",
      "Expanded using WordNet synonyms and hypernyms: ['relation', 'flag', 'flags', 'emblem', 'human relationship', 'relationship', 'red']\n",
      "\n",
      "Original query: 'do aliens exist'\n",
      "Expanded using WordNet synonyms: ['aliens', 'outlander', 'alien', 'be', 'noncitizen', 'foreigner', 'exist']\n",
      "Expanded using WordNet synonyms and hypernyms: ['traveller', 'aliens', 'outlander', 'alien', 'be', 'traveler', 'noncitizen', 'foreigner', 'exist']\n",
      "\n",
      "Original query: 'funny podcasts and radio shows'\n",
      "Expanded using WordNet synonyms: ['risible', 'amusing', 'shows', 'podcasts', 'funny', 'comic', 'radio', 'wireless', 'comical', 'radiocommunication', 'mirthful', 'laughable', 'show']\n",
      "Expanded using WordNet synonyms and hypernyms: ['risible', 'broadcasting', 'amusing', 'shows', 'amusement', 'entertainment', 'podcasts', 'funny', 'comic', 'radio', 'wireless', 'comical', 'radiocommunication', 'mirthful', 'laughable', 'show']\n",
      "\n",
      "Original query: 'life as a college student'\n",
      "Expanded using WordNet synonyms: ['pupil', 'educatee', 'college', 'student', 'life']\n",
      "Expanded using WordNet synonyms and hypernyms: ['pupil', 'beingness', 'being', 'existence', 'enrollee', 'educatee', 'college', 'body', 'student', 'life']\n",
      "\n",
      "Original query: 'what did politicians say about voter fraud'\n",
      "Expanded using WordNet synonyms: ['politicians', 'fraud', 'voter', 'politician', 'elector']\n",
      "Expanded using WordNet synonyms and hypernyms: ['politicians', 'fraud', 'criminal offence', 'voter', 'offense', 'offence', 'politician', 'elector', 'criminal offense', 'law-breaking', 'crime', 'citizen', 'leader']\n",
      "\n",
      "Original query: 'what makes humans better than others'\n",
      "Expanded using WordNet synonyms: ['humankind', 'human beings', 'humans', 'better', 'mankind', 'make', 'human race', 'humanity', 'world', 'makes', 'do', 'man']\n",
      "Expanded using WordNet synonyms and hypernyms: ['humankind', 'human beings', 'humans', 'better', 'mankind', 'make', 'human race', 'humanity', 'world', 'group', 'makes', 'do', 'grouping', 'man']\n",
      "\n",
      "Original query: 'what's going on in Florida'\n",
      "Expanded using WordNet synonyms: ['florida', 'fl', 'sunshine state', 'everglade state']\n",
      "Expanded using WordNet synonyms and hypernyms: ['florida', 'fl', 'sunshine state', 'everglade state']\n",
      "\n"
     ]
    }
   ],
   "source": [
    "for query in rel_queries:\n",
    "    print(f\"Original query: '{query}'\")\n",
    "    print(\"Expanded using WordNet synonyms:\", expand_query(preprocessor.tokenize(query), stopwords))\n",
    "    print(\"Expanded using WordNet synonyms and hypernyms:\", expand_query(preprocessor.tokenize(query), stopwords, include_hypernyms=True))\n",
    "    print()"
   ]
  },
  {
   "cell_type": "markdown",
   "metadata": {},
   "source": [
    "- Including hypernyms could potentially reduce precision, so we choose not to.\n",
    "- Add query expansion feature to ranker and evaluate performance."
   ]
  },
  {
   "cell_type": "markdown",
   "metadata": {},
   "source": [
    "# Index\n",
    "\n",
    "- No changes to the index as query expansion occurs @ query time"
   ]
  },
  {
   "cell_type": "code",
   "execution_count": 8,
   "metadata": {},
   "outputs": [
    {
     "name": "stderr",
     "output_type": "stream",
     "text": [
      "35292it [00:11, 3104.46it/s]\n"
     ]
    }
   ],
   "source": [
    "from src.indexing import Indexer, IndexType\n",
    "\n",
    "index = Indexer.create_index(\n",
    "    index_type=IndexType.BasicInvertedIndex, dataset_path=dataset_path, document_preprocessor=preprocessor, \n",
    "    stopwords=stopwords, minimum_word_frequency=0, text_key=\"body\", id_key=\"docid\"\n",
    ")"
   ]
  },
  {
   "cell_type": "code",
   "execution_count": 9,
   "metadata": {},
   "outputs": [],
   "source": [
    "index.save('output/index_mwe')"
   ]
  },
  {
   "cell_type": "markdown",
   "metadata": {},
   "source": [
    "# Evaluate"
   ]
  },
  {
   "cell_type": "code",
   "execution_count": 10,
   "metadata": {},
   "outputs": [
    {
     "data": {
      "text/plain": [
       "654"
      ]
     },
     "execution_count": 10,
     "metadata": {},
     "output_type": "execute_result"
    }
   ],
   "source": [
    "rel_df = pd.read_csv(relevance_test_path)\n",
    "len(rel_df)"
   ]
  },
  {
   "cell_type": "markdown",
   "metadata": {},
   "source": [
    "## 1. TF-IDF"
   ]
  },
  {
   "cell_type": "code",
   "execution_count": 13,
   "metadata": {},
   "outputs": [],
   "source": [
    "from src.ranker import TF_IDF, Ranker\n",
    "\n",
    "tfidf_scorer = TF_IDF(index)\n",
    "tfidf_ranker = Ranker(index, preprocessor, stopwords, tfidf_scorer, query_expansion=True)"
   ]
  },
  {
   "cell_type": "code",
   "execution_count": 21,
   "metadata": {},
   "outputs": [
    {
     "data": {
      "text/plain": [
       "(0.22495726495726498, 0.3782527259850465)"
      ]
     },
     "execution_count": 21,
     "metadata": {},
     "output_type": "execute_result"
    }
   ],
   "source": [
    "from src.relevance import run_relevance_tests\n",
    "\n",
    "metrics_tfidf_qe = run_relevance_tests(relevance_test_path, ranker=tfidf_ranker, encoding=\"utf-8-sig\")\n",
    "metrics_tfidf_qe['map'], metrics_tfidf_qe['ndcg']"
   ]
  },
  {
   "cell_type": "code",
   "execution_count": 22,
   "metadata": {},
   "outputs": [],
   "source": [
    "with open('output/metrics_tfidf_qe.json', 'w') as f:\n",
    "    json.dump(metrics_tfidf_qe, f, indent=4)"
   ]
  },
  {
   "cell_type": "markdown",
   "metadata": {},
   "source": [
    "## 2. BM25 "
   ]
  },
  {
   "cell_type": "code",
   "execution_count": 24,
   "metadata": {},
   "outputs": [],
   "source": [
    "from src.ranker import BM25, Ranker\n",
    "\n",
    "bm25_scorer = BM25(index)\n",
    "bm25_ranker = Ranker(index, preprocessor, stopwords, bm25_scorer, query_expansion=True)"
   ]
  },
  {
   "cell_type": "code",
   "execution_count": 25,
   "metadata": {},
   "outputs": [
    {
     "data": {
      "text/plain": [
       "(0.24937721669864527, 0.39584057912356313)"
      ]
     },
     "execution_count": 25,
     "metadata": {},
     "output_type": "execute_result"
    }
   ],
   "source": [
    "from src.relevance import run_relevance_tests\n",
    "\n",
    "metrics_bm25_qe = run_relevance_tests(relevance_test_path, ranker=bm25_ranker, encoding=\"utf-8-sig\")\n",
    "metrics_bm25_qe['map'], metrics_bm25_qe['ndcg']"
   ]
  },
  {
   "cell_type": "code",
   "execution_count": 26,
   "metadata": {},
   "outputs": [],
   "source": [
    "with open('output/metrics_bm25_qe.json', 'w') as f:\n",
    "    json.dump(metrics_bm25_qe, f)"
   ]
  },
  {
   "cell_type": "markdown",
   "metadata": {},
   "source": [
    "## Compare"
   ]
  },
  {
   "cell_type": "code",
   "execution_count": 27,
   "metadata": {},
   "outputs": [],
   "source": [
    "# Generated in 02_Baselines.ipynb\n",
    "with open('output/metrics_random.json', 'r') as f:\n",
    "    metrics_random = json.load(f)\n",
    "    \n",
    "with open('output/metrics_tfidf.json', 'r') as f:\n",
    "    metrics_tfidf = json.load(f)\n",
    "    \n",
    "with open('output/metrics_bm25.json', 'r') as f:\n",
    "    metrics_bm25 = json.load(f)"
   ]
  },
  {
   "cell_type": "code",
   "execution_count": 28,
   "metadata": {},
   "outputs": [],
   "source": [
    "# Generated in `08_Multi_Word_Expressions.ipynb`\n",
    "with open('output/metrics_tfidf_mwe.json', 'r') as f:\n",
    "    metrics_tfidf_mwe = json.load(f)\n",
    "    \n",
    "with open('output/metrics_bm25_mwe.json', 'r') as f:\n",
    "    metrics_bm25_mwe = json.load(f)"
   ]
  },
  {
   "cell_type": "code",
   "execution_count": 29,
   "metadata": {},
   "outputs": [],
   "source": [
    "metrics = {\n",
    "    \"Random\": metrics_random,\n",
    "    \"TF-IDF\": metrics_tfidf,\n",
    "    \"BM25\": metrics_bm25,\n",
    "    \"TF-IDF (MWE)\": metrics_tfidf_mwe,\n",
    "    \"BM25 (MWE)\": metrics_bm25_mwe,\n",
    "    'TF-IDF (MWE + QE)': metrics_tfidf_qe,\n",
    "    'BM25 (MWE + QE)': metrics_bm25_qe    \n",
    "}\n",
    "\n",
    "metrics_df = []\n",
    "for ranker, metrics in metrics.items():\n",
    "    metrics_df.append({\n",
    "        \"ranker\": ranker, \"metric\": \"MAP@10\", \n",
    "        \"mean_score\": metrics[\"map\"], \"scores\": metrics[\"map_list\"]\n",
    "    })\n",
    "    metrics_df.append({\n",
    "        \"ranker\": ranker, \"metric\": \"NDCG@10\", \n",
    "        \"mean_score\": metrics[\"ndcg\"], \"scores\": metrics[\"ndcg_list\"]\n",
    "    })\n",
    "    \n",
    "\n",
    "metrics_df = pd.DataFrame(metrics_df)\n",
    "metrics_df_long = metrics_df.drop(\"mean_score\", axis=1).explode(\"scores\")"
   ]
  },
  {
   "cell_type": "code",
   "execution_count": 30,
   "metadata": {},
   "outputs": [],
   "source": [
    "metrics_df_long.to_csv(\"output/metrics_baselines_mwe_qe.csv\", index=False)"
   ]
  },
  {
   "cell_type": "code",
   "execution_count": 31,
   "metadata": {},
   "outputs": [
    {
     "data": {
      "image/png": "[encoded data removed]",
      "text/plain": [
       "<Figure size 640x480 with 1 Axes>"
      ]
     },
     "metadata": {},
     "output_type": "display_data"
    }
   ],
   "source": [
    "sns.barplot(data=metrics_df_long, x=\"metric\", y=\"scores\", hue=\"ranker\", \n",
    "            estimator='mean', errorbar=('ci', 95), width=0.5, errwidth=1)\n",
    "\n",
    "plt.title(\"Mean Performance of Rankers on Test Set (with 95% C.I.)\")\n",
    "plt.legend(bbox_to_anchor=(1,1))\n",
    "plt.xlabel(\"Metric\")\n",
    "plt.ylabel(\"Score\")\n",
    "plt.show()"
   ]
  },
  {
   "cell_type": "markdown",
   "metadata": {},
   "source": [
    "## Check query expansion on test queries"
   ]
  },
  {
   "cell_type": "code",
   "execution_count": 36,
   "metadata": {},
   "outputs": [],
   "source": [
    "bm25_ranker = Ranker(index, preprocessor, stopwords, bm25_scorer)"
   ]
  },
  {
   "cell_type": "code",
   "execution_count": 41,
   "metadata": {},
   "outputs": [
    {
     "name": "stdout",
     "output_type": "stream",
     "text": [
      "Original query: 'Hollywood celebrity scandals'\n",
      "Expanded using WordNet synonyms: ['famous person', 'scandal', 'dirt', 'celebrity', 'scandals', 'hollywood', 'malicious gossip']\n",
      "\n",
      "Original query: 'cool science facts'\n",
      "Expanded using WordNet synonyms: ['fact', 'science', 'facts', 'cool', 'scientific discipline']\n",
      "\n",
      "Original query: 'how to deal with an emotional friend'\n",
      "Expanded using WordNet synonyms: ['plow', 'address', 'handle', 'cover', 'deal', 'emotional', 'friend', 'treat']\n",
      "\n",
      "Original query: 'how to make money'\n",
      "Expanded using WordNet synonyms: ['money', 'make', 'do']\n",
      "\n",
      "Original query: 'how to scam people'\n",
      "Expanded using WordNet synonyms: ['diddle', 'hornswoggle', 'rook', 'gyp', 'bunco', 'defraud', 'people', 'gip', 'con', 'victimize', 'mulct', 'swindle', 'scam', 'short-change', 'nobble', 'goldbrick']\n",
      "\n",
      "Original query: 'popular social media trends'\n",
      "Expanded using WordNet synonyms: ['trend', 'trends', 'popular', 'tendency', 'social media']\n",
      "\n",
      "Original query: 'urban myths and legends'\n",
      "Expanded using WordNet synonyms: ['urban', 'legends', 'myth', 'fable', 'legend', 'myths']\n",
      "\n",
      "Original query: 'what did bill cosby do'\n",
      "Expanded using WordNet synonyms: ['bill cosby']\n",
      "\n",
      "Original query: 'what do people think of the two-party system?'\n",
      "Expanded using WordNet synonyms: ['system', 'bipartisan', 'two-party', 'bipartizan', 'people', 'two-way']\n",
      "\n",
      "Original query: 'what happened when world leaders met?'\n",
      "Expanded using WordNet synonyms: ['existence', 'happen', 'see', 'world', 'cosmos', 'pass off', 'fall out', 'take place', 'meet', 'come across', 'come about', 'met', 'happened', 'run into', 'leadership', 'macrocosm', 'pass', 'occur', 'encounter', 'leaders', 'universe', 'run across', 'go on', 'hap', 'creation']\n",
      "\n",
      "Original query: 'what sports should I try'\n",
      "Expanded using WordNet synonyms: ['athletics', 'sport', 'sports']\n",
      "\n",
      "Original query: 'white nationalism and supremacy in america'\n",
      "Expanded using WordNet synonyms: ['patriotism', 'white', 'domination', 'mastery', 'nationalism', 'supremacy', 'in america']\n",
      "\n",
      "Original query: 'why do people like pineapple on pizza'\n",
      "Expanded using WordNet synonyms: ['pineapple', 'pineapple plant', 'pizza', 'pizza pie', 'people', 'ananas comosus']\n",
      "\n"
     ]
    }
   ],
   "source": [
    "test_df = pd.read_csv(relevance_test_path)\n",
    "\n",
    "for query, qdf in test_df.groupby('query'):\n",
    "    print(f\"Original query: '{query}'\")\n",
    "    print(\"Expanded using WordNet synonyms:\", expand_query(preprocessor.tokenize(query), stopwords))\n",
    "    print()\n",
    "    \n",
    "#     doc_rels = qdf.set_index('docid')['rel'].sort_values(ascending=False).to_dict()\n",
    "#     print(f\"Query: '{query}'\")\n",
    "#     print(\"Ground truth relevance:\", doc_rels)\n",
    "#     print(\"BM25 (MWE):\", bm25_ranker.query(query))\n",
    "#     print(\"BM25 (MWE + QE):\", bm25_ranker.query(query, expand=True))\n",
    "#     print()\n",
    "    "
   ]
  },
  {
   "cell_type": "markdown",
   "metadata": {},
   "source": []
  }
 ],
 "metadata": {
  "kernelspec": {
   "display_name": "si650",
   "language": "python",
   "name": "python3"
  },
  "language_info": {
   "codemirror_mode": {
    "name": "ipython",
    "version": 3
   },
   "file_extension": ".py",
   "mimetype": "text/x-python",
   "name": "python",
   "nbconvert_exporter": "python",
   "pygments_lexer": "ipython3",
   "version": "3.11.2"
  }
 },
 "nbformat": 4,
 "nbformat_minor": 2
}
