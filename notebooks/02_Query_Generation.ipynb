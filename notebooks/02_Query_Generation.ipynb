{
 "cells": [
  {
   "cell_type": "code",
   "execution_count": 1,
   "metadata": {},
   "outputs": [
    {
     "name": "stderr",
     "output_type": "stream",
     "text": [
      "/Users/aryan/Desktop/Umich/Terms/F24/SI650/Project/satire-news-search-engine/.venv/lib/python3.11/site-packages/tqdm/auto.py:21: TqdmWarning: IProgress not found. Please update jupyter and ipywidgets. See https://ipywidgets.readthedocs.io/en/stable/user_install.html\n",
      "  from .autonotebook import tqdm as notebook_tqdm\n"
     ]
    }
   ],
   "source": [
    "from transformers import T5Tokenizer, T5ForConditionalGeneration\n",
    "import pandas as pd\n",
    "import numpy as np\n",
    "import torch"
   ]
  },
  {
   "cell_type": "markdown",
   "metadata": {},
   "source": [
    "## Part 1"
   ]
  },
  {
   "cell_type": "code",
   "execution_count": 2,
   "metadata": {},
   "outputs": [],
   "source": [
    "df = pd.read_csv('../data/satirical_news_articles_v2.csv')"
   ]
  },
  {
   "cell_type": "code",
   "execution_count": null,
   "metadata": {},
   "outputs": [],
   "source": [
    "df.columns"
   ]
  },
  {
   "cell_type": "code",
   "execution_count": null,
   "metadata": {},
   "outputs": [],
   "source": [
    "print(df.body[0])"
   ]
  },
  {
   "cell_type": "code",
   "execution_count": 6,
   "metadata": {},
   "outputs": [],
   "source": [
    "# Drop unnecessary columns\n",
    "df = df.drop(['url', 'image_link'], axis=1)\n",
    "\n",
    "# Generate random 8 digit non-repeating numbers for docids\n",
    "n_docs = len(df)\n",
    "docids = np.random.choice(range(10000000, 100000000), size=n_docs, replace=False)\n",
    "df['docid'] = docids\n",
    "\n",
    "# Reorder columns to have docid first\n",
    "df = df[['docid', 'headline', 'body', 'website']]"
   ]
  },
  {
   "cell_type": "code",
   "execution_count": null,
   "metadata": {},
   "outputs": [],
   "source": [
    "df.info()"
   ]
  },
  {
   "cell_type": "code",
   "execution_count": 8,
   "metadata": {},
   "outputs": [],
   "source": [
    "df.to_csv('../data/processed_articles.csv', index=False)"
   ]
  },
  {
   "cell_type": "markdown",
   "metadata": {},
   "source": [
    "## Part 2"
   ]
  },
  {
   "cell_type": "code",
   "execution_count": 2,
   "metadata": {},
   "outputs": [],
   "source": [
    "df = pd.read_csv(\"../data/processed_articles_dedup.csv\")"
   ]
  },
  {
   "cell_type": "code",
   "execution_count": 3,
   "metadata": {},
   "outputs": [
    {
     "data": {
      "text/html": [
       "<div>\n",
       "<style scoped>\n",
       "    .dataframe tbody tr th:only-of-type {\n",
       "        vertical-align: middle;\n",
       "    }\n",
       "\n",
       "    .dataframe tbody tr th {\n",
       "        vertical-align: top;\n",
       "    }\n",
       "\n",
       "    .dataframe thead th {\n",
       "        text-align: right;\n",
       "    }\n",
       "</style>\n",
       "<table border=\"1\" class=\"dataframe\">\n",
       "  <thead>\n",
       "    <tr style=\"text-align: right;\">\n",
       "      <th></th>\n",
       "      <th>docid</th>\n",
       "      <th>headline</th>\n",
       "      <th>body</th>\n",
       "      <th>website</th>\n",
       "    </tr>\n",
       "  </thead>\n",
       "  <tbody>\n",
       "    <tr>\n",
       "      <th>0</th>\n",
       "      <td>64471158</td>\n",
       "      <td>Relaxed Marie Kondo Now Says She Perfectly Hap...</td>\n",
       "      <td>LOS ANGELES-Admitting that she'd made some maj...</td>\n",
       "      <td>The Onion</td>\n",
       "    </tr>\n",
       "    <tr>\n",
       "      <th>1</th>\n",
       "      <td>84486776</td>\n",
       "      <td>U.S. Officials Call For Correct Amount Of Viol...</td>\n",
       "      <td>WASHINGTON-Addressing the need for swift and m...</td>\n",
       "      <td>The Onion</td>\n",
       "    </tr>\n",
       "    <tr>\n",
       "      <th>2</th>\n",
       "      <td>36589089</td>\n",
       "      <td>Kamala Harris Asks Communications Assistant If...</td>\n",
       "      <td>WASHINGTON-In an effort to expand her professi...</td>\n",
       "      <td>The Onion</td>\n",
       "    </tr>\n",
       "    <tr>\n",
       "      <th>3</th>\n",
       "      <td>15387752</td>\n",
       "      <td>25 Arrested In Fake Nursing School Diploma Scheme</td>\n",
       "      <td>Federal agents have arrested 25 suspects accus...</td>\n",
       "      <td>The Onion</td>\n",
       "    </tr>\n",
       "    <tr>\n",
       "      <th>4</th>\n",
       "      <td>41114025</td>\n",
       "      <td>World's Oldest American Dies At 72</td>\n",
       "      <td>OXNARD, CA-Living longer than any citizen in t...</td>\n",
       "      <td>The Onion</td>\n",
       "    </tr>\n",
       "    <tr>\n",
       "      <th>...</th>\n",
       "      <td>...</td>\n",
       "      <td>...</td>\n",
       "      <td>...</td>\n",
       "      <td>...</td>\n",
       "    </tr>\n",
       "    <tr>\n",
       "      <th>35291</th>\n",
       "      <td>42409600</td>\n",
       "      <td>Feel Free To Keep Doing This After I Leave</td>\n",
       "      <td>As my legendary tenure comes to an end, the ed...</td>\n",
       "      <td>The Every Three Weekly</td>\n",
       "    </tr>\n",
       "    <tr>\n",
       "      <th>35292</th>\n",
       "      <td>15458400</td>\n",
       "      <td>Life Hack: Join A Bunch Of Clubs Senior Year F...</td>\n",
       "      <td>If you're a regular reader of this paper or ev...</td>\n",
       "      <td>The Every Three Weekly</td>\n",
       "    </tr>\n",
       "    <tr>\n",
       "      <th>35293</th>\n",
       "      <td>54713667</td>\n",
       "      <td>Having An Accent Is The Only Reason That Stran...</td>\n",
       "      <td>Alright, mate. Sorry, my bad, 'How's it going....</td>\n",
       "      <td>The Every Three Weekly</td>\n",
       "    </tr>\n",
       "    <tr>\n",
       "      <th>35294</th>\n",
       "      <td>86169291</td>\n",
       "      <td>I'm Still Using MGuest And I'm Not Ashamed To ...</td>\n",
       "      <td>Like I don't even understand why it's a big de...</td>\n",
       "      <td>The Every Three Weekly</td>\n",
       "    </tr>\n",
       "    <tr>\n",
       "      <th>35295</th>\n",
       "      <td>75387750</td>\n",
       "      <td>I Wrote Every Article That Made You Laugh</td>\n",
       "      <td>You read that right. Cat's out of the bag. Eve...</td>\n",
       "      <td>The Every Three Weekly</td>\n",
       "    </tr>\n",
       "  </tbody>\n",
       "</table>\n",
       "<p>35296 rows × 4 columns</p>\n",
       "</div>"
      ],
      "text/plain": [
       "          docid                                           headline  \\\n",
       "0      64471158  Relaxed Marie Kondo Now Says She Perfectly Hap...   \n",
       "1      84486776  U.S. Officials Call For Correct Amount Of Viol...   \n",
       "2      36589089  Kamala Harris Asks Communications Assistant If...   \n",
       "3      15387752  25 Arrested In Fake Nursing School Diploma Scheme   \n",
       "4      41114025                 World's Oldest American Dies At 72   \n",
       "...         ...                                                ...   \n",
       "35291  42409600         Feel Free To Keep Doing This After I Leave   \n",
       "35292  15458400  Life Hack: Join A Bunch Of Clubs Senior Year F...   \n",
       "35293  54713667  Having An Accent Is The Only Reason That Stran...   \n",
       "35294  86169291  I'm Still Using MGuest And I'm Not Ashamed To ...   \n",
       "35295  75387750          I Wrote Every Article That Made You Laugh   \n",
       "\n",
       "                                                    body  \\\n",
       "0      LOS ANGELES-Admitting that she'd made some maj...   \n",
       "1      WASHINGTON-Addressing the need for swift and m...   \n",
       "2      WASHINGTON-In an effort to expand her professi...   \n",
       "3      Federal agents have arrested 25 suspects accus...   \n",
       "4      OXNARD, CA-Living longer than any citizen in t...   \n",
       "...                                                  ...   \n",
       "35291  As my legendary tenure comes to an end, the ed...   \n",
       "35292  If you're a regular reader of this paper or ev...   \n",
       "35293  Alright, mate. Sorry, my bad, 'How's it going....   \n",
       "35294  Like I don't even understand why it's a big de...   \n",
       "35295  You read that right. Cat's out of the bag. Eve...   \n",
       "\n",
       "                      website  \n",
       "0                   The Onion  \n",
       "1                   The Onion  \n",
       "2                   The Onion  \n",
       "3                   The Onion  \n",
       "4                   The Onion  \n",
       "...                       ...  \n",
       "35291  The Every Three Weekly  \n",
       "35292  The Every Three Weekly  \n",
       "35293  The Every Three Weekly  \n",
       "35294  The Every Three Weekly  \n",
       "35295  The Every Three Weekly  \n",
       "\n",
       "[35296 rows x 4 columns]"
      ]
     },
     "execution_count": 3,
     "metadata": {},
     "output_type": "execute_result"
    }
   ],
   "source": [
    "df"
   ]
  },
  {
   "cell_type": "code",
   "execution_count": 4,
   "metadata": {},
   "outputs": [],
   "source": [
    "# Set random seed for reproducibility\n",
    "np.random.seed(42)\n",
    "\n",
    "# Sample 60 documents randomly\n",
    "sampled_df = df.sample(n=60)"
   ]
  },
  {
   "cell_type": "code",
   "execution_count": 5,
   "metadata": {},
   "outputs": [
    {
     "name": "stderr",
     "output_type": "stream",
     "text": [
      "You are using the default legacy behaviour of the <class 'transformers.models.t5.tokenization_t5.T5Tokenizer'>. This is expected, and simply means that the `legacy` (previous) behavior will be used so nothing changes for you. If you want to use the new behaviour, set `legacy=False`. This should only be set if you understand what it means, and thoroughly read the reason why this was added as explained in https://github.com/huggingface/transformers/pull/24565\n",
      "Token indices sequence length is longer than the specified maximum sequence length for this model (765 > 512). Running this sequence through the model will result in indexing errors\n"
     ]
    }
   ],
   "source": [
    "# Set random seed for reproducibility\n",
    "torch.manual_seed(42)\n",
    "\n",
    "tokenizer = T5Tokenizer.from_pretrained('BeIR/query-gen-msmarco-t5-large-v1')\n",
    "model = T5ForConditionalGeneration.from_pretrained('BeIR/query-gen-msmarco-t5-large-v1')\n",
    "\n",
    "# Generate one query per document\n",
    "queries = []\n",
    "for doc in sampled_df.body:\n",
    "    # Add comprehensive prefix prompt for better query generation\n",
    "    prefixed_doc = f\"\"\"\n",
    "    Given this satirical news article, generate a natural search query that someone might use to find this content.\n",
    "    Make the query conversational and focused on the main topic or claim.\n",
    "    Article: {doc}\n",
    "    Query:\n",
    "    \"\"\"\n",
    "    input_ids = tokenizer.encode(prefixed_doc, return_tensors='pt')\n",
    "    outputs = model.generate(\n",
    "        input_ids=input_ids,\n",
    "        max_length=64,\n",
    "        do_sample=True,\n",
    "        top_p=0.95,\n",
    "        num_return_sequences=1\n",
    "    )\n",
    "    query = tokenizer.decode(outputs[0], skip_special_tokens=True)\n",
    "    queries.append(query)\n",
    "\n",
    "# Add queries to dataframe\n",
    "sampled_df['generated_query'] = queries"
   ]
  },
  {
   "cell_type": "code",
   "execution_count": 6,
   "metadata": {},
   "outputs": [
    {
     "data": {
      "text/html": [
       "<div>\n",
       "<style scoped>\n",
       "    .dataframe tbody tr th:only-of-type {\n",
       "        vertical-align: middle;\n",
       "    }\n",
       "\n",
       "    .dataframe tbody tr th {\n",
       "        vertical-align: top;\n",
       "    }\n",
       "\n",
       "    .dataframe thead th {\n",
       "        text-align: right;\n",
       "    }\n",
       "</style>\n",
       "<table border=\"1\" class=\"dataframe\">\n",
       "  <thead>\n",
       "    <tr style=\"text-align: right;\">\n",
       "      <th></th>\n",
       "      <th>docid</th>\n",
       "      <th>headline</th>\n",
       "      <th>body</th>\n",
       "      <th>website</th>\n",
       "      <th>generated_query</th>\n",
       "    </tr>\n",
       "  </thead>\n",
       "  <tbody>\n",
       "    <tr>\n",
       "      <th>1590</th>\n",
       "      <td>91156407</td>\n",
       "      <td>Study Finds Orlando Most Vacant Major U.S. City</td>\n",
       "      <td>A new study has ranked Orlando as the number o...</td>\n",
       "      <td>The Onion</td>\n",
       "      <td>what is the vacancy rate for orlando florida</td>\n",
       "    </tr>\n",
       "    <tr>\n",
       "      <th>18507</th>\n",
       "      <td>61253138</td>\n",
       "      <td>NBC, Netflix Cancel Bill Cosby's Return To TV ...</td>\n",
       "      <td>After decades-old allegations resurfaced and m...</td>\n",
       "      <td>The Onion</td>\n",
       "      <td>how old is bill cosby</td>\n",
       "    </tr>\n",
       "    <tr>\n",
       "      <th>35001</th>\n",
       "      <td>70835954</td>\n",
       "      <td>5 Mindfulness Exercises You Can Use To Remind ...</td>\n",
       "      <td>When life is busy and hectic, it can be easy t...</td>\n",
       "      <td>Clickhole</td>\n",
       "      <td>what makes you better than a frog</td>\n",
       "    </tr>\n",
       "    <tr>\n",
       "      <th>24190</th>\n",
       "      <td>34374619</td>\n",
       "      <td>Poll: 81% Of Office Workers Would Rather Stay ...</td>\n",
       "      <td>BATON ROUGE, LA-More than four out of five emp...</td>\n",
       "      <td>The Onion</td>\n",
       "      <td>what percent of people prefer to avoid richard...</td>\n",
       "    </tr>\n",
       "    <tr>\n",
       "      <th>8238</th>\n",
       "      <td>21193305</td>\n",
       "      <td>Catholic Church Not About To Be Out-Molested B...</td>\n",
       "      <td>VATICAN CITY-Telling the youth organization th...</td>\n",
       "      <td>The Onion</td>\n",
       "      <td>are scouts molested by priests</td>\n",
       "    </tr>\n",
       "  </tbody>\n",
       "</table>\n",
       "</div>"
      ],
      "text/plain": [
       "          docid                                           headline  \\\n",
       "1590   91156407    Study Finds Orlando Most Vacant Major U.S. City   \n",
       "18507  61253138  NBC, Netflix Cancel Bill Cosby's Return To TV ...   \n",
       "35001  70835954  5 Mindfulness Exercises You Can Use To Remind ...   \n",
       "24190  34374619  Poll: 81% Of Office Workers Would Rather Stay ...   \n",
       "8238   21193305  Catholic Church Not About To Be Out-Molested B...   \n",
       "\n",
       "                                                    body    website  \\\n",
       "1590   A new study has ranked Orlando as the number o...  The Onion   \n",
       "18507  After decades-old allegations resurfaced and m...  The Onion   \n",
       "35001  When life is busy and hectic, it can be easy t...  Clickhole   \n",
       "24190  BATON ROUGE, LA-More than four out of five emp...  The Onion   \n",
       "8238   VATICAN CITY-Telling the youth organization th...  The Onion   \n",
       "\n",
       "                                         generated_query  \n",
       "1590        what is the vacancy rate for orlando florida  \n",
       "18507                              how old is bill cosby  \n",
       "35001                  what makes you better than a frog  \n",
       "24190  what percent of people prefer to avoid richard...  \n",
       "8238                      are scouts molested by priests  "
      ]
     },
     "execution_count": 6,
     "metadata": {},
     "output_type": "execute_result"
    }
   ],
   "source": [
    "sampled_df.head()"
   ]
  },
  {
   "cell_type": "code",
   "execution_count": 7,
   "metadata": {},
   "outputs": [],
   "source": [
    "# Export the sampled dataframe with generated queries to CSV\n",
    "sampled_df.to_csv('../data/sampled_articles_with_queries.csv', index=False)"
   ]
  }
 ],
 "metadata": {
  "kernelspec": {
   "display_name": ".venv",
   "language": "python",
   "name": "python3"
  },
  "language_info": {
   "codemirror_mode": {
    "name": "ipython",
    "version": 3
   },
   "file_extension": ".py",
   "mimetype": "text/x-python",
   "name": "python",
   "nbconvert_exporter": "python",
   "pygments_lexer": "ipython3",
   "version": "3.11.9"
  }
 },
 "nbformat": 4,
 "nbformat_minor": 2
}
